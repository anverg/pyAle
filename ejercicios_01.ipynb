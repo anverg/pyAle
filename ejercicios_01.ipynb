{
 "cells": [
  {
   "cell_type": "code",
   "execution_count": null,
   "metadata": {},
   "outputs": [],
   "source": [
    "#STRINGS\n",
    "\n",
    "    #EJERCICIO 1: Crea un objeto float llamado peso con el valor 0.2 y crea un objeto string llamado animal con el valor \"tritón\". Imprime lo siguiente usando sólo +: 0.2 kg es el peso del tritón\n",
    "peso = 0.2\n",
    "animal = 'tritón'\n",
    "#no funciona :print(peso + ' kg es el peso del ' + animal)\n",
    "print(str(peso) + ' kg es el peso del ' + animal)"
   ]
  },
  {
   "cell_type": "code",
   "execution_count": null,
   "metadata": {},
   "outputs": [],
   "source": [
    "#EJ 2: Muestra la misma cadena usando el método .format()\n",
    "print('{0} kg es el peso del {1}'.format(peso,animal))"
   ]
  },
  {
   "cell_type": "code",
   "execution_count": null,
   "metadata": {},
   "outputs": [],
   "source": [
    "#EJ 3: Igual con f-string\n",
    "print(f'{peso} kg es el peso del {animal}')"
   ]
  },
  {
   "cell_type": "code",
   "execution_count": null,
   "metadata": {},
   "outputs": [],
   "source": [
    "#Ejercicio: ¿Cómo imprimirías que la frase \"Vamos a contar mentiras tralará\" tiene 31 caracteres?\n",
    "print(len('Vamos a contar mentiras tralará'))"
   ]
  },
  {
   "cell_type": "code",
   "execution_count": null,
   "metadata": {},
   "outputs": [],
   "source": [
    "#Ejercicio: guarda la \"u\" de \"feliz cumpleaños\" en una variable.\n",
    "frase = 'feliz cumpleaños'\n",
    "letraU = frase[7]\n",
    "print(letraU)"
   ]
  },
  {
   "cell_type": "code",
   "execution_count": null,
   "metadata": {},
   "outputs": [],
   "source": [
    "#Ejercicio: guarda \"años\" de \"feliz cumpleaños\" en una variable\n",
    "letras = frase[12:16]\n",
    "print(letras)"
   ]
  },
  {
   "cell_type": "code",
   "execution_count": null,
   "metadata": {},
   "outputs": [],
   "source": [
    "#Ejercicio: crea una nueva variable a partir de (frase) en la que el texto esté en mayúsculas. Crea una variable con tu nombre y, a partir de ahí, la frase \"Feliz cumpleaños Toni\"\n",
    "print(frase.upper())\n",
    "minombre = 'Toni'\n",
    "print(frase.title()+' '+minombre)"
   ]
  },
  {
   "cell_type": "code",
   "execution_count": null,
   "metadata": {},
   "outputs": [],
   "source": [
    "#Ejercicio: quita los espacios de las tres variables anteriores\n",
    "nombre_1 = 'J. Pierre       '\n",
    "nombre_2 = '        J. Pierre'\n",
    "nombre_3 = '    J. Pierre   '\n",
    "print(nombre_1.rstrip())\n",
    "print(nombre_2.lstrip())\n",
    "print(nombre_3.strip())"
   ]
  },
  {
   "cell_type": "code",
   "execution_count": null,
   "metadata": {},
   "outputs": [],
   "source": [
    "#EJERCICIO 1.Crea una cadena e imprime su longitud con la función len()\n",
    "gato = 'el gato volador'\n",
    "print(len(gato))"
   ]
  },
  {
   "cell_type": "code",
   "execution_count": null,
   "metadata": {},
   "outputs": [],
   "source": [
    "#EJ 2. Crea dos cadenas, únelas e imprime la cadena resultante\n",
    "fraseuno = 'he perdido'\n",
    "frasedos = ' el libro de Popeye'\n",
    "print(fraseuno+frasedos)"
   ]
  },
  {
   "cell_type": "code",
   "execution_count": null,
   "metadata": {},
   "outputs": [],
   "source": [
    "#EJ 3. Crea dos variables que contengan cadenas, imprime una de ellas después de la otra usando una coma con el comando print()\n",
    "var1 = 'asdfghjkl'\n",
    "var2 = '123456789'\n",
    "print(var1+var2)"
   ]
  },
  {
   "cell_type": "code",
   "execution_count": null,
   "metadata": {},
   "outputs": [],
   "source": [
    "#EJ4. Repite el ejercicio 3 pero en lugar de usar comas en print() usa concatenación para añadir espacio entre las dos cadenas\n",
    "print(' '.join([var1, var2]))"
   ]
  },
  {
   "cell_type": "code",
   "execution_count": null,
   "metadata": {},
   "outputs": [],
   "source": [
    "#EJ5. Imprime la cadena \"zing\" usando slice notation sobre la cadena \"bazinga\" para especificar el rango correcto de caracteres\n",
    "bazinga = 'bazinga'\n",
    "print(bazinga[2:6])"
   ]
  },
  {
   "cell_type": "code",
   "execution_count": null,
   "metadata": {},
   "outputs": [],
   "source": [
    "#EJ6. Escribe el código que convierte las siguientes cadenas a minúsculas: \"Animales\", \"Tejón\", \"Oso Hormiguero\"\n",
    "animal1 = 'Animales'\n",
    "animal2 = 'Tejón'\n",
    "animal3 = 'Oso Hormiguero'\n",
    "print((animal1+' '+animal2+' '+animal3).lower())"
   ]
  },
  {
   "cell_type": "code",
   "execution_count": null,
   "metadata": {},
   "outputs": [],
   "source": [
    "#EJ7.Repite el ejercicio 1 pero convierte cada cadena a mayúsculas\n",
    "print((fraseuno+frasedos).upper())"
   ]
  },
  {
   "cell_type": "code",
   "execution_count": null,
   "metadata": {},
   "outputs": [],
   "source": [
    "#EJ8. Escribe el código para quitar los espacios en blanco de las siguientes cadenas: cadena1 = \" Filete Empanado\" cadena2 = \"Solomillo \" cadena3 = \" Hamburguesa \" Imprime las cadenas sin los espacios en blanco\n",
    "filete = ' Filete Empanado'\n",
    "solomillo = 'Solomillo '\n",
    "hamburguesa = 'Hamburguesa '\n",
    "print(filete.lstrip())\n",
    "print(solomillo.rstrip())\n",
    "print(hamburguesa.rstrip())"
   ]
  },
  {
   "cell_type": "code",
   "execution_count": null,
   "metadata": {},
   "outputs": [],
   "source": [
    "#EJ9. Escribe el código que imprima el resultado de .startswith(\"be\") en cada una de las siguientes cadenas: cadena1 = \"Becomes\" cadena2 = \"becomes\" cadena3 = \"BEAR\" cadena4 = \" bEautiful\"\n",
    "Becomes = 'Becomes'\n",
    "becomes = 'becomes'\n",
    "BEAR = 'BEAR'\n",
    "bEautiful = 'bEautiful'\n",
    "print(Becomes.startswith('be'))\n",
    "print(becomes.startswith('be'))\n",
    "print(BEAR.startswith('be'))\n",
    "print(bEautiful.startswith('be'))"
   ]
  },
  {
   "cell_type": "code",
   "execution_count": null,
   "metadata": {},
   "outputs": [],
   "source": [
    "#EJ10. Usando las mismas 4 cadenas del ejercicio anterior, escribe el código que use el método para alterar cada cadena de forma que .startswith(\"be\") devuelve True para todos ellos\n",
    "print('EJERCICIO 10:')\n",
    "print(Becomes.lower().startswith('be'))\n",
    "print(BEAR.lower().startswith('be'))\n",
    "print(bEautiful.lower().startswith('be'))"
   ]
  },
  {
   "cell_type": "code",
   "execution_count": null,
   "metadata": {},
   "outputs": [],
   "source": [
    "#INTERACTUAR CON EL USUARIO. EJERCICIOS:\n",
    "    #1.Escribe un script que tome un input del usuario y lo imprima\n",
    "print('INTERACTUAR CON EL USUARIO. EJERCICIOS:')\n",
    "color = input('Introduce tu color favorito: ')\n",
    "print('Tu color favorito es el '+color)"
   ]
  },
  {
   "cell_type": "code",
   "execution_count": null,
   "metadata": {},
   "outputs": [],
   "source": [
    "#2. Escribe un script que tome un input del usuario y lo muestre en mayúsculas y #3 que muestre el número de caracteres que tiene\n",
    "cancion = input('Introduzca el nombre de una canción:')\n",
    "print(cancion.upper())\n",
    "print(len(cancion))"
   ]
  },
  {
   "cell_type": "code",
   "execution_count": null,
   "metadata": {},
   "outputs": [],
   "source": [
    "#4. Escribe un script que pida al usuario que introduzca un palabra en minúsculas. El script debe determinar la primera letra de la contraseña introducida por el usuario, convertirla a mayúsculas y mostrarla\n",
    "palabraenminus = input('escribe una palabra en minúsculas')\n",
    "print('la primera letra es: '+ palabraenminus[0].upper())"
   ]
  },
  {
   "cell_type": "code",
   "execution_count": null,
   "metadata": {},
   "outputs": [],
   "source": [
    "#EJ:Escribe un script que pida al usuario introducir algún texto con el siguiente prompt: 'Escribe algún texto: '. A continuación, usa el método .replace() para convertir el texto introducido por el usuario en escritura \"leet\" haciendo los siguientes cambios en las letras minúsculas:\n",
    "#La letra a se convierte en 4\n",
    "#La letra b se convierte en 8\n",
    "#La letra e se convierte en 3\n",
    "#La letra l se convierte en 1\n",
    "#La letra o se convierte en 0\n",
    "#La letra s se convierte en 5\n",
    "#La letra t se convierte en 7\n",
    "#Muestra el resultado con print()\n",
    "\n",
    "reemplazo = input('Escribe algún texto: ')\n",
    "reemplazo2 = reemplazo.replace('a','4').replace('b','8').replace('e','3').replace('l','1').replace('o','0').replace('s','5').replace('t','7')\n",
    "print(reemplazo2)"
   ]
  },
  {
   "cell_type": "code",
   "execution_count": null,
   "metadata": {},
   "outputs": [],
   "source": [
    "#STRINGS Y NÚMEROS\n",
    "#Ejercicio: crea dos variables que contengan 127 y 42 y calcula el resto de la división entre ellos\n",
    "numero1 = 127\n",
    "numero2 = 42\n",
    "print('el resto de dividir 127 entre 42 es:'+ str(numero1%numero2))\n",
    "print('el resto de dividir 42 entre 127 es:'+ str(numero2%numero1))\n",
    "\n"
   ]
  },
  {
   "cell_type": "code",
   "execution_count": null,
   "metadata": {},
   "outputs": [],
   "source": [
    "#Ejercicio:\n",
    "#Convierte 9 a float\n",
    "#Convierte \"2\" a float\n",
    "#Convierte 6.5 a integer\n",
    "#¿Cómo trunca int los decimales, hacia arriba o hacia abajo?\n",
    "#Crea una cadena y un número entero, muéstralos uno al lado del otro con print() usando la función str()\n",
    "#Escribe un script que obtenga 2 números del usuario usando la función input() dos veces, multiplique los números y muestre el resultado.Si el usuario introduce 2 y 4 tu programa debe imprimir: El producto de 2 y 4 es 8.0.\n",
    "float(9)\n",
    "float('2')\n",
    "#no se puede pasar de float a integer\n",
    "texto1 = 'Arroz a la cubana'\n",
    "numerito = 4\n",
    "print(texto1+str(numerito1))\n",
    "\n"
   ]
  },
  {
   "cell_type": "code",
   "execution_count": null,
   "metadata": {},
   "outputs": [],
   "source": [
    "#Escribe un script que obtenga 2 números del usuario usando la función input() dos veces, multiplique los números y muestre el resultado.Si el usuario introduce 2 y 4 tu programa debe imprimir: El producto de 2 y 4 es 8.0.\n",
    "\n",
    "numerito1 = input('introduzca un número')\n",
    "numerito2 = input('introduzca otro:')\n",
    "numerito1 = float(numerito1)\n",
    "numerito2 = float(numerito2)\n",
    "print('el producto de '+str(int(numerito1))+' y '+str(int(numerito2))+' es '+str(numerito1*numerito2))"
   ]
  },
  {
   "cell_type": "code",
   "execution_count": null,
   "metadata": {},
   "outputs": [],
   "source": [
    "#Escribe un script que reciba dos números del usuario y muestre el primer número elevado a la potencia del segundo número (ten en cuenta que lo que devuelve input es siempre un string)\n",
    "\n",
    "base = input('por favor introduce el número que quieres usar como base:')\n",
    "exponente = input('ahora introduce el exponente:')\n",
    "base = float(base)\n",
    "exponente = float(exponente)\n",
    "print(str(base)+' elevado a '+str(exponente)+ ' es '+ str(base**exponente))"
   ]
  },
  {
   "cell_type": "code",
   "execution_count": null,
   "metadata": {},
   "outputs": [],
   "source": [
    "#Write a program that asks the user to input a number and then displays that number rounded to two decimal places. When run, your program should look like this: Enter a number: 5.432 5.432 rounded to 2 decimal places is 5.43\n",
    "redon=input('please enter a number:')\n",
    "redon=float(redon)\n",
    "print(str(redon)+' rounded to 2 decimal places is '+str(round(redon,2)))\n"
   ]
  },
  {
   "cell_type": "code",
   "execution_count": null,
   "metadata": {},
   "outputs": [],
   "source": [
    "#Write a program that asks the user to input a number and then displays the absolute value of that number. When run, your program should look like this: Enter a number: -10 The absolute value of -10 is 10.0\n",
    "\n",
    "abso=input('introduce un número')\n",
    "abso=float(abso)\n",
    "print('el valor absoluto de '+str(abso)+' es '+ str(abs(abso)))"
   ]
  },
  {
   "cell_type": "code",
   "execution_count": null,
   "metadata": {},
   "outputs": [],
   "source": [
    "#Write a program that asks the user to input two numbers by using input() twice, then displays whether the difference between those two numbers is an integer. When run, your program should look like this: Enter a number: 1.5 Enter another number: .5 The difference between 1.5 and .5 is an integer? True! If the user inputs two numbers whose difference is not integral, then the output should look like this: Enter a number: 1.5 Enter another number: 1.0 The difference between 1.5 and 1.0 is an integer? False!\n",
    "dif1=input('introduce un número:')\n",
    "dif2=input('introduce otro número:')\n",
    "dif1=float(dif1)\n",
    "dif2=float(dif2)\n",
    "dif3=dif1-dif2\n",
    "print('the difference between '+str(dif1)+ ' and '+ str(dif2)+ ' is an integer?')\n",
    "if (dif3) is int:\n",
    "    print('TRUE')\n",
    "else:\n",
    "    print('FALSE')\n",
    "\n"
   ]
  },
  {
   "cell_type": "code",
   "execution_count": null,
   "metadata": {},
   "outputs": [],
   "source": [
    "#ejercicios de lógica:\n",
    "\n",
    "#Figure out what the result will be (True or False) when evaluating the following expressions, then type them into the interactive window to check your answers:\n",
    "#(1 <= 1) and (1 != 1) #True y False--> False\n",
    "#not (1 != 2) # not True--> False\n",
    "(\"good\" != \"bad\") or False #True o Falso--> True\n",
    "#(\"good\" != \"Good\") and not (1 == 1) #False y Falso--> Falso"
   ]
  },
  {
   "cell_type": "code",
   "execution_count": null,
   "metadata": {},
   "outputs": [],
   "source": [
    "#pon paréntesis para conseguir True:\n",
    "#False == (not True)\n",
    "#(True and False) == (True and False)\n",
    "not (True and \"A\") == \"B\""
   ]
  },
  {
   "cell_type": "code",
   "execution_count": null,
   "metadata": {},
   "outputs": [],
   "source": [
    "#Write a program that prompts the user to enter a word using the input() function and compares the length of the word to the number five. The program should display one of the following outputs, depending on the length of the user’s input:\n",
    "#\"Your input is less than 5 characters long\"\n",
    "#\"Your input is greater than 5 characters long\"\n",
    "#\"Your input is 5 characters long\"\n",
    "palabra = input('Hola, por favor introduce una palabra:')\n",
    "duracion = len(palabra)\n",
    "if duracion == 5:\n",
    "    print('your word is 5 characters long')\n",
    "elif duración < 5:\n",
    "    print('Your word is longer than 5 characters')\n",
    "else:\n",
    "    print('your word is very short')"
   ]
  },
  {
   "cell_type": "code",
   "execution_count": null,
   "metadata": {},
   "outputs": [],
   "source": [
    "#Write a program that displays \"I'm thinking of a number between 1 and 10. Guess which one.\" Then use input() to get a number from the user. If the user inputs the number 3, then the program should display \"You win!\" For any other input, the program should display \"You lose.\"\n",
    "adivinanza = input('adivina mi número (del 1 al 10):')\n",
    "if adivinanza ==3:\n",
    "    print('Sí Señor')\n",
    "else: \n",
    "    print('Mec')"
   ]
  },
  {
   "cell_type": "code",
   "execution_count": null,
   "metadata": {},
   "outputs": [],
   "source": [
    "#Write a for loop that prints out the integers 2 through 10, each on a new line, using range().\n",
    "for n in range(2,11):\n",
    "    print(n)"
   ]
  },
  {
   "cell_type": "code",
   "execution_count": null,
   "metadata": {},
   "outputs": [],
   "source": [
    "#Write a while loop that prints out the integers 2 through 10. (Hint: You’ll need to create a new integer first.)\n",
    "\n",
    "n = 2\n",
    "while n < 11:\n",
    "    print(n)\n",
    "    n = n + 1"
   ]
  },
  {
   "cell_type": "code",
   "execution_count": null,
   "metadata": {},
   "outputs": [],
   "source": [
    "#Write a function called doubles() that takes a number as its input and doubles it. Then use doubles() in a loop to double the number 2 three times, displaying each result on a separate line. Here’s some sample output:\n",
    "\n",
    "#4 8 16\n",
    "def doubles(doblu):\n",
    "    doble = doblu * 2\n",
    "    print(str(doble))\n",
    "    return doble\n",
    "\n",
    "n = 0\n",
    "arzo = 2\n",
    "for n in range (0,3):\n",
    "    doubles(arzo)\n",
    "    arzo = arzo * 2\n",
    "    n = n + 1\n"
   ]
  },
  {
   "cell_type": "code",
   "execution_count": null,
   "metadata": {},
   "outputs": [],
   "source": [
    "#Using break, write a program that repeatedly asks the user for some input and quits only if the user enters \"q\" or \"Q\".\n",
    "a = 9\n",
    "while a < 10:\n",
    "    b = str(input('si no me dices \"q\" ó \"Q\", no paro'))\n",
    "    if b == ('q'):\n",
    "        break\n",
    "    elif b == ('Q'):\n",
    "        break\n",
    "    else:\n",
    "        continue"
   ]
  },
  {
   "cell_type": "code",
   "execution_count": null,
   "metadata": {},
   "outputs": [],
   "source": [
    "#Using continue, write a program that loops over the numbers 1 to 50 and prints all numbers that are not multiples of 3.\n",
    "n = 0\n",
    "for n in range(1,50):\n",
    "    n = n + 1\n",
    "    if n % 3 == 0:\n",
    "        print(str(n))\n"
   ]
  },
  {
   "cell_type": "code",
   "execution_count": null,
   "metadata": {},
   "outputs": [],
   "source": [
    "#Escribe un programa que defina dos funciones:\n",
    "\n",
    "#convert_cel_to_far (), que tenga un parámetro float que represente grados Celsius y devuelva un float que represente la misma temperatura en grados Fahrenheit usando la siguiente fórmula: F = C * 9/5 + 32\n",
    "#convert_far_to_cel (), que tenga un parámetro float que represente grados Fahrenheit y devuelve un float que represente la misma temperatura en grados Celsius usando la siguiente fórmula: C = (F - 32) * 5/9\n",
    "#El programa debe hacer lo siguiente:\n",
    "\n",
    "#Indicar (con input) al usuario que ingrese una temperatura en grados Fahrenheit y luego muestre la temperatura convertida a Celsius\n",
    "#Indicar al usuario que ingrese una temperatura en grados Celsius y luego muestre la temperatura convertida a Fahrenheit\n",
    "#Mostrar todas las temperaturas convertidas redondeadas a dos decimales\n",
    "#Un ejemplo sería:\n",
    "\n",
    "#Ingrese una temperatura en grados F: 72\n",
    "\n",
    "#72 grados F = 22,22 grados C\n",
    "\n",
    "#Ingrese una temperatura en grados C: 37\n",
    "\n",
    "#37 grados C = 98,60 grados F\n",
    "\n",
    "def convert_cel_to_far(cel):\n",
    "    Farenheit = cel * 9/5 + 32\n",
    "    print(str(cel) + ' grados Celsius son ' + str(Farenheit) + ' grados Farenheit')\n",
    "    return Farenheit\n",
    "def convert_far_to_cel(far):\n",
    "    Celsius = (far - 32) * 5/9\n",
    "    print(str(far) + ' grados Farenheit son ' + str(Celsius) + ' grados Celsius')\n",
    "    #return Celsius\n",
    "\n",
    "cels = float(input('por favor, introduce una temperatura en Celsius:'))\n",
    "convert_cel_to_far(cels)\n",
    "\n",
    "fare = float(input('introduce ahora una en Farenheit:'))\n",
    "convert_far_to_cel(fare)\n",
    "\n"
   ]
  },
  {
   "cell_type": "code",
   "execution_count": null,
   "metadata": {},
   "outputs": [],
   "source": [
    "#Supón que lanzas una moneda equilibrada repetidamente hasta que cae en cara y cruz al menos una vez cada una. Es decir, después del primer lanzamiento, continúas lanzando la moneda hasta que caiga en el otro lado.\n",
    "\n",
    "#Hacer esto genera una secuencia de caras y cruces. Por ejemplo, la primera vez que realizas este experimento, la secuencia puede ser cara, cara, cruz.\n",
    "\n",
    "#En promedio, ¿cuántos giros se necesitan para que la secuencia contenga cara y cruz?\n",
    "\n",
    "#Escribe una simulación que ejecute diez mil ensayos del experimento e imprima el número promedio de lanzamientos de la moneda por ensayo.\n",
    "\n",
    "#CONSEJOS:\n",
    "\n",
    "#Éste ejercicio es complicado de estructurar correctamente. Intenta escribir la lógica antes empiezas a escribir el código. Algunos consejos adicionales si estás atascado:\n",
    "\n",
    "#Necesitarás utilizar un bucle \"for\" en una serie de pruebas.\n",
    "#Para cada prueba, primero debes verificar el resultado del primer lanzamiento.\n",
    "#Asegúrate de agregar el primer giro al número total de giros.\n",
    "#Después del primer lanzamiento, necesitarás otro bucle para seguir tirando la moneda mientras obtienes el mismo resultado que el primer lanzamiento\n"
   ]
  },
  {
   "cell_type": "code",
   "execution_count": null,
   "metadata": {
    "tags": []
   },
   "outputs": [],
   "source": [
    "import random\n",
    "def tirar_moneda():\n",
    "    if random.randint(0,1) == 0:\n",
    "        return 'Cara' \n",
    "    else: \n",
    "        return 'Cruz'\n",
    "def tirar_mon_hasta_CyX():\n",
    "    num_caras = 0\n",
    "    num_cruces = 0\n",
    "    X = 100\n",
    "    for i in range(X):\n",
    "        if (num_caras >= 1) and (num_cruces >=1):\n",
    "            break\n",
    "        elif tirar_moneda() == 'Cara':\n",
    "            num_caras = num_caras + 1\n",
    "        else:\n",
    "            num_cruces = num_cruces + 1\n",
    "    \n",
    "    tiradas = num_caras + num_cruces #esta variable recoge el número de lanzamientos necesarios hasta que la secuencia contiene Cara y Cruz.\n",
    "    print(str(tiradas))\n",
    "    return tiradas\n",
    "\n",
    "sumatorio = 0\n",
    "Y = 10\n",
    "for veces in range(Y):\n",
    "    tirar_mon_hasta_CyX()\n",
    "    sumatorio = sumatorio + tirar_mon_hasta_CyX()\n",
    "    print('llevamos un sumatorio de ' + str(sumatorio))\n",
    "\n",
    "media = sumatorio / Y\n",
    "print('el número total de lanzamientos de moneda ha sido de ' + str(sumatorio) + ', y la media de lanzamientos necesario para conseguir que la moneda mostrase ambas caras ha sido de ' + str(media))"
   ]
  },
  {
   "cell_type": "code",
   "execution_count": null,
   "metadata": {},
   "outputs": [],
   "source": [
    "#SIMULAR UNA ELECCIÓN:\n",
    "import random\n",
    "\n",
    "def distritoA():\n",
    "    candidatoA = 0\n",
    "    candidatoB = 0\n",
    "    if random.random() < 0.87:\n",
    "        candidatoA = 1\n",
    "    else:\n",
    "        candidatoB = 1\n",
    "    return candidatoA\n",
    "\n",
    "def distritoB():\n",
    "    candidatoA = 0\n",
    "    candidatoB = 0\n",
    "    if random.random() < 0.65:\n",
    "        candidatoA = 1\n",
    "    else:\n",
    "        candidatoB = 1\n",
    "    return candidatoA\n",
    "\n",
    "def distritoC():\n",
    "    candidatoA = 0\n",
    "    candidatoB = 0\n",
    "    if random.random() < 0.17:\n",
    "        candidatoA = 1\n",
    "    else:\n",
    "        candidatoB = 1\n",
    "    return candidatoA\n",
    "\n",
    "def ciudad():\n",
    "    victoriasA = 0\n",
    "    victoriasB = 0\n",
    "    if distritoA() == 1: #eso significa que el distrito A lo gana A\n",
    "        victoriasA = victoriasA + 1\n",
    "    else:\n",
    "        victoriasB = victoriasB + 1\n",
    "\n",
    "    if distritoB() == 1: #eso significa que el distrito B lo gana A\n",
    "        victoriasA = victoriasA + 1\n",
    "    else:\n",
    "        victoriasB = victoriasB + 1\n",
    "\n",
    "    if distritoC() == 1: #eso significa que el distrito C lo gana A\n",
    "        victoriasA = victoriasA + 1\n",
    "    else:\n",
    "        victoriasB = victoriasB + 1\n",
    " \n",
    "    eleccionA = 0\n",
    "    eleccionB = 0\n",
    "    if victoriasA >= 2:\n",
    "        eleccionA = 1\n",
    "    else:\n",
    "        eleccionB = 1\n",
    "    return eleccionA\n",
    "\n",
    "\n",
    "X = 500\n",
    "numerovictoriasA = 0\n",
    "for i in range(X):\n",
    "    ciudad()\n",
    "    numerovictoriasA = numerovictoriasA + ciudad()\n",
    "print('de cada ' + str(X) + ' veces, el candidato A gana en ' + str(numerovictoriasA) + ' ocasiones, su porcentaje de victoria es ' + str(numerovictoriasA / X))\n",
    "\n",
    "lista = []\n",
    "for i in range(10):\n",
    "    lista.append(ciudad())\n",
    "print(lista)\n"
   ]
  },
  {
   "cell_type": "code",
   "execution_count": null,
   "metadata": {},
   "outputs": [],
   "source": [
    "#EJERCIcIOS TUPLAS, LISTAS..:\n",
    "\n",
    "#Sports: Define a list of strings, where each string is a sport. Then output each sport with the following line \"I like to play {}\"...\n",
    "sports = ['automovilismo', 'fútbol', 'baloncesto', 'pingpong', 'pádel']\n",
    "for sport in sports:\n",
    "    print(sport)"
   ]
  },
  {
   "cell_type": "code",
   "execution_count": null,
   "metadata": {},
   "outputs": [],
   "source": [
    "#First Character: For the following list, print out each item's first letter. (output should be 'J', 'A', 'S', 'K'): names = ['John', 'Abraham', 'Sam', 'Kelly']\n",
    "names = ['Jhon', 'Abrham', 'Sam', 'Kelly']\n",
    "for name in names:\n",
    "    print(name[0])"
   ]
  },
  {
   "cell_type": "code",
   "execution_count": null,
   "metadata": {},
   "outputs": [],
   "source": [
    "#Divisble by Three: Write a for loop that prints out all numbers from 1 to 100 that are divisble by three.\n",
    "for n in range(100):\n",
    "    if n%3 == 0:\n",
    "        print(n)"
   ]
  },
  {
   "cell_type": "code",
   "execution_count": null,
   "metadata": {},
   "outputs": [],
   "source": [
    "#Only Vowels: Ask for user input and write a for loop that will output all the vowels within it. For example: \"Hello\" --> \"eo\"\n",
    "palabrita = input('por favor introduce aquí alguna palabra:')\n",
    "vocales = ['a','e','i','o','u']\n",
    "for vocal in vocales:\n",
    "    if vocal in palabrita:\n",
    "        print(vocal)"
   ]
  },
  {
   "cell_type": "code",
   "execution_count": 1,
   "metadata": {},
   "outputs": [],
   "source": [
    "#User Input: Write a while loop that continues to ask for user input and runs until they type 'quit'.\n",
    "while 1<2:\n",
    "    para = input('pon algo:')\n",
    "    if para == 'quit':\n",
    "        break\n"
   ]
  },
  {
   "cell_type": "code",
   "execution_count": 2,
   "metadata": {},
   "outputs": [
    {
     "ename": "IndentationError",
     "evalue": "unexpected indent (<ipython-input-2-1116626a17eb>, line 5)",
     "output_type": "error",
     "traceback": [
      "\u001b[1;36m  File \u001b[1;32m\"<ipython-input-2-1116626a17eb>\"\u001b[1;36m, line \u001b[1;32m5\u001b[0m\n\u001b[1;33m    print\u001b[0m\n\u001b[1;37m    ^\u001b[0m\n\u001b[1;31mIndentationError\u001b[0m\u001b[1;31m:\u001b[0m unexpected indent\n"
     ]
    }
   ],
   "source": [
    "#Double Loop: Write a for loop within a while loop that will count from 0 to 5, but when it reaches 3 it sets a game_over variable to True and breaks out of the loop. The while loop should continue to loop until game_over is True. The output should only be 0, 1, 2.\n",
    "\n",
    "# game_over = False\n",
    "# while game_over == False:\n",
    "   # print"
   ]
  },
  {
   "cell_type": "code",
   "execution_count": 15,
   "metadata": {
    "tags": []
   },
   "outputs": [
    {
     "name": "stdout",
     "output_type": "stream",
     "text": [
      "0\n",
      "1\n",
      "2\n"
     ]
    }
   ],
   "source": [
    "game_over = False\n",
    "while game_over == False:\n",
    "    for n in range (0, 5):\n",
    "        asd = n\n",
    "        print(str(n))\n",
    "        if asd == 2:\n",
    "            break\n",
    "    if asd == 2:\n",
    "        game_over = True"
   ]
  },
  {
   "cell_type": "code",
   "execution_count": 9,
   "metadata": {},
   "outputs": [
    {
     "name": "stdout",
     "output_type": "stream",
     "text": [
      "0\n",
      "1\n",
      "2\n"
     ]
    }
   ],
   "source": [
    "game_over = False\n",
    "while game_over == False:\n",
    "    for n in range (5):\n",
    "        asd = n\n",
    "        if asd == 3:\n",
    "            game_over = True\n",
    "            break\n",
    "        else:\n",
    "            print(str(n))"
   ]
  },
  {
   "cell_type": "code",
   "execution_count": 13,
   "metadata": {},
   "outputs": [
    {
     "name": "stdout",
     "output_type": "stream",
     "text": [
      "['Amanda', 'Kenny', 'Bob']\n"
     ]
    }
   ],
   "source": [
    "#Remove Duplicates: Remove all duplicates from the list below. Hint: Use the .count() method. The output should be [\"Bob\", \"Kenny\", \"Amanda\"]. names = [\"Bob\", \"Kenny\", \"Amanda\", \"Bob\", \"Kenny\"]\n",
    "names = ['Bob', 'Kenny', 'Amanda', 'Bob', 'Kenny', 'Bob']\n",
    "for name in names:\n",
    "     while names.count(name) > 1:\n",
    "        names.remove(name) \n",
    "print(names)"
   ]
  },
  {
   "cell_type": "code",
   "execution_count": 45,
   "metadata": {},
   "outputs": [
    {
     "name": "stdout",
     "output_type": "stream",
     "text": [
      "['hola', 'adiós']\n"
     ]
    }
   ],
   "source": [
    "#User Input: Use a while loop to continually ask the user to input a word, until they type 'quit'. Once they type a word in, add it to a list. Once they quit the loop, use a for loop to output all items within the list.\n",
    "lista = []\n",
    "comodín = 0\n",
    "while comodín == 0:\n",
    "    palabra = input('introduce una palabra:')\n",
    "    if palabra == 'quit':\n",
    "        print(lista)\n",
    "        comodín = 1\n",
    "        break\n",
    "    else:\n",
    "        lista.append(palabra)\n",
    "        comodín = 0\n"
   ]
  },
  {
   "cell_type": "code",
   "execution_count": 2,
   "metadata": {},
   "outputs": [
    {
     "name": "stdout",
     "output_type": "stream",
     "text": [
      "                    \n",
      "                   X \n",
      "                  X X \n",
      "                 X X X \n",
      "                X X X X \n",
      "               X X X X X \n",
      "              X X X X X X \n",
      "             X X X X X X X \n",
      "            X X X X X X X X \n",
      "           X X X X X X X X X \n",
      "          X X X X X X X X X X \n",
      "         X X X X X X X X X X X \n",
      "        X X X X X X X X X X X X \n",
      "       X X X X X X X X X X X X X \n",
      "      X X X X X X X X X X X X X X \n",
      "     X X X X X X X X X X X X X X X \n",
      "    X X X X X X X X X X X X X X X X \n",
      "   X X X X X X X X X X X X X X X X X \n",
      "  X X X X X X X X X X X X X X X X X X \n",
      " X X X X X X X X X X X X X X X X X X X \n"
     ]
    }
   ],
   "source": [
    "#Pyramids: Use a for loop to build a pyramid of x's. It should be modular so that if you loop to 5 or 50, it still creates evenly spaced rows. Hint: Multiply the string 'x' by the row. For example, if you loop to the range of 4, it should produce the following result:\n",
    " # x\n",
    " #x x\n",
    "#x x x\n",
    "T = 20\n",
    "for t in range(T):\n",
    "    print( ' ' * int(T - t ) + 'X ' * t)"
   ]
  },
  {
   "cell_type": "code",
   "execution_count": 58,
   "metadata": {},
   "outputs": [],
   "source": [
    "#Output Names: Write a loop that will iterate over a list of items and only output items which have letters inside of a string. Take the following list for example, only \"John\" and \"Amanda\" should be output: names = [ \"John\", \" \", \"Amanda\", 5]\n",
    "\n",
    "names = ['Jhon Cena', 7 , 9.7 , ' ', 'Jose Juan']\n",
    "for b in names:\n",
    "    if name is str:\n",
    "        print(name)\n"
   ]
  },
  {
   "cell_type": "code",
   "execution_count": 61,
   "metadata": {},
   "outputs": [
    {
     "name": "stdout",
     "output_type": "stream",
     "text": [
      "[89.6, 90.13999999999999, 36.5, 129.2, 68.72]\n"
     ]
    }
   ],
   "source": [
    "#Convert Celsius: Given a list of temperatures that are in Celsius, write a loop that iterates over the list and outputs the temperature converted into Fahrenheit. Hint: The conversion is \"F = (9/5) * C + 32\". temps = [32, 12, 44, 29] Output would be [89.6, 53.6, 111.2, 84.2]\n",
    "\n",
    "Celsius = [32, 32.3, 2.5, 54, 20.4]\n",
    "Kelvin = []\n",
    "for celsiu in Celsius:\n",
    "    kelvi = celsiu * (9/5) + 32\n",
    "    Kelvin.append(kelvi)\n",
    "\n",
    "print(Kelvin)"
   ]
  },
  {
   "cell_type": "code",
   "execution_count": 65,
   "metadata": {},
   "outputs": [
    {
     "name": "stdout",
     "output_type": "stream",
     "text": [
      "{'nombre': 'hola', 'dirección': 'jesus', 'numero': 'maría'}\n"
     ]
    }
   ],
   "source": [
    "#User Input: Declare an empty dictionary. Ask the user for their name, address, and number. Add that information to the dictionary and iterate over it to show the user.\n",
    "\n",
    "primerdiccionario = {}\n",
    "name = input('tu nombre')\n",
    "address = input('tu dirección')\n",
    "number = input('tu número')\n",
    "primerdiccionario = {'nombre' : name, 'dirección' : address, 'numero' : number}\n",
    "print(primerdiccionario)"
   ]
  },
  {
   "cell_type": "code",
   "execution_count": 66,
   "metadata": {},
   "outputs": [
    {
     "name": "stdout",
     "output_type": "stream",
     "text": [
      "Jhon Smith\n"
     ]
    }
   ],
   "source": [
    "#Problem Solving: What is wrong with the following code:\n",
    "#>>> person = { 'name', 'John Smith' }\n",
    "\n",
    "#>>> print(person['name'])\n",
    "person = {'name' : 'Jhon Smith'}\n",
    "print(person['name'])"
   ]
  },
  {
   "cell_type": "code",
   "execution_count": 79,
   "metadata": {},
   "outputs": [
    {
     "name": "stdout",
     "output_type": "stream",
     "text": [
      "[3, 4, 7, 10]\n"
     ]
    }
   ],
   "source": [
    "#Conversion: Convert the list below into a set of unique values. Print it out after to check there are no duplicates.\n",
    "nums = [3, 4, 3, 7, 10]\n",
    "\n",
    "#for num in nums:\n",
    "    #while nums.count(num) > 1:\n",
    "        #nums.remove(num)\n",
    "nums2 = []\n",
    "for num in nums:\n",
    "    if nums.count(num) == 1:\n",
    "        nums2.append(num)\n",
    "    else:\n",
    "        if nums2.count(num) == 0:\n",
    "            nums2.append(num)\n",
    "        \n",
    "\n",
    "print(nums2)"
   ]
  },
  {
   "cell_type": "code",
   "execution_count": null,
   "metadata": {},
   "outputs": [],
   "source": [
    "#1. Animals: Create a class called “Animals,” and create two instances from it. Use two variables with names of “lion” and “tiger.”\n",
    "class Animals():\n",
    "    def __init__(self)\n",
    "\n",
    "lion = Animals()\n",
    "tiger = Animals()"
   ]
  },
  {
   "cell_type": "code",
   "execution_count": 3,
   "metadata": {},
   "outputs": [
    {
     "data": {
      "text/plain": [
       "'feline'"
      ]
     },
     "execution_count": 3,
     "metadata": {},
     "output_type": "execute_result"
    }
   ],
   "source": [
    "#Animals: Create a class definition of an animal that has a species attribute and both a setter and getter to change or access the attributes' value. Create an instance called \"lion\" and call the setter method with an argument of \"feline\". Then print out the species by calling the getter method.\n",
    "\n",
    "class Animal():\n",
    "\n",
    "    def __init__(self, species):\n",
    "        self.species = species\n",
    "\n",
    "    def get_species(self):\n",
    "        return self.species\n",
    "\n",
    "    def setter(self, spe):\n",
    "        self.species = spe \n",
    "\n",
    "lion = Animal('lion')\n",
    "lion.setter('feline')\n",
    "lion.get_species()"
   ]
  },
  {
   "cell_type": "code",
   "execution_count": 5,
   "metadata": {},
   "outputs": [
    {
     "name": "stdout",
     "output_type": "stream",
     "text": [
      "Pepillo tiene 56 años\n"
     ]
    }
   ],
   "source": [
    "#user Input: Create a class Person, that takes in a name when instantiated, but sets an age to 0. Within the class definition setup, a setter and getter that will ask the user to input their age and set the age attribute to the value input. Then output the information in a formatted string as \"You are 64 years old.\" Assuming the user input 64 as their age\n",
    "class Person():\n",
    "    def __init__(self, name):\n",
    "        self.name = name\n",
    "        self.age = 0\n",
    "\n",
    "    def setter(self):\n",
    "        age = input('introduce edad')\n",
    "        self.age = age\n",
    "\n",
    "    def getter(self):\n",
    "        print(self.name + ' tiene ' + str(self.age) + ' años' )\n",
    "\n",
    "persona1 = Person('Pepillo')\n",
    "persona1.setter()\n",
    "persona1.getter()"
   ]
  },
  {
   "cell_type": "code",
   "execution_count": 11,
   "metadata": {},
   "outputs": [
    {
     "name": "stdout",
     "output_type": "stream",
     "text": [
      "Hello, my name is Max and I´m on the good guys\n",
      "Hello, my name is Tony and I´m on the bad guys\n"
     ]
    }
   ],
   "source": [
    "#Good Guys/Bad Guys: Create three classes, a superclass called \"Characters\" that will be defined with the following attributes and methods:\n",
    "#a. Attributes: name, team, height, weight\n",
    "\n",
    "#b. Methods: sayHello\n",
    "\n",
    "#The sayHello method should output the statement \"Hello, my name is Max and I'm on the good guys.\". The team attribute should be declared to a string of either \"good\" or \"bad\". The other two classes, which will be subclasses, will be all the attributes that the superclass requires. The subclasses do not need any other methods or attributes. Instantiate one player on each team and call the sayHello method for each. The output should result in the following:\n",
    "\n",
    "#>>> \"Hello, my name is Max and I'm on the good guys\"\n",
    "\n",
    "#>>> \"Hello, my name is Tony and I'm on the bad guys\"\n",
    "\n",
    "class Characters():\n",
    "\n",
    "    def __init__(self, nombre, team):\n",
    "        self.nombre = nombre\n",
    "        self.team = team\n",
    "\n",
    "    def sayHello(self):\n",
    "        print('Hello, my name is ' + self.nombre + ' and I´m on the ' + self.team + ' guys')\n",
    "\n",
    "class Height(Characters):\n",
    "\n",
    "    def __init__(self, height):\n",
    "        super().__init__(nombre, team)\n",
    "        self.height = Height\n",
    "\n",
    "class Weight(Characters):\n",
    "    def __init__(self, weight):\n",
    "        super().__init__(nombre, team)\n",
    "        self.weight = weight\n",
    "\n",
    "Max = Characters('Max', 'good')\n",
    "Tony = Characters('Tony', 'bad')\n",
    "Max.sayHello()\n",
    "Tony.sayHello()\n"
   ]
  },
  {
   "cell_type": "code",
   "execution_count": 13,
   "metadata": {},
   "outputs": [
    {
     "name": "stdout",
     "output_type": "stream",
     "text": [
      "[0, 1, 2, 3, 4, 5, 6, 7, 8, 9]\n"
     ]
    }
   ],
   "source": [
    "achis = [i for i in range (10)]\n",
    "print(achis)\n"
   ]
  },
  {
   "cell_type": "code",
   "execution_count": 17,
   "metadata": {},
   "outputs": [
    {
     "name": "stdout",
     "output_type": "stream",
     "text": [
      "[2, 4, 6, 8, 10, 12, 14, 16, 18]\n"
     ]
    }
   ],
   "source": [
    "achis2 = [i * 2 for i in range (1,10)]\n",
    "print(achis2)"
   ]
  },
  {
   "cell_type": "code",
   "execution_count": 18,
   "metadata": {},
   "outputs": [
    {
     "name": "stdout",
     "output_type": "stream",
     "text": [
      "[0, 2, 4, 6, 8]\n",
      "[1, 3, 5, 7, 9]\n"
     ]
    }
   ],
   "source": [
    "pares = []\n",
    "impares = []\n",
    "for x in achis:\n",
    "    if x % 2 != 0:\n",
    "        impares.append(x)\n",
    "    else:\n",
    "        pares.append(x)\n",
    "print(pares)\n",
    "print(impares)"
   ]
  },
  {
   "cell_type": "code",
   "execution_count": 19,
   "metadata": {},
   "outputs": [
    {
     "name": "stdout",
     "output_type": "stream",
     "text": [
      "[4, 16, 36, 64, 100, 144, 196, 256, 324]\n"
     ]
    }
   ],
   "source": [
    "squarenum = [j**2 for j in achis2]\n",
    "print(squarenum)"
   ]
  },
  {
   "cell_type": "code",
   "execution_count": 20,
   "metadata": {},
   "outputs": [
    {
     "name": "stdout",
     "output_type": "stream",
     "text": [
      "[53.6, 69.80000000000001, 59.0, 89.6]\n"
     ]
    }
   ],
   "source": [
    "degrees = [12, 21, 15, 32]\n",
    "farenh = [p * (9/5) + 32 for p in degrees]\n",
    "print(farenh)"
   ]
  },
  {
   "cell_type": "code",
   "execution_count": 36,
   "metadata": {},
   "outputs": [
    {
     "name": "stdout",
     "output_type": "stream",
     "text": [
      "[0, 8, 16, 24, 32, 40, 48, 56, 64, 72, 80, 88, 96]\n",
      "[0, 8, 16, 24, 32, 40, 48, 56, 64, 72, 80, 88, 96]\n"
     ]
    }
   ],
   "source": [
    "numerin = int(input('pon un número del 1 al 100(incluido)'))\n",
    "divisibles = []\n",
    "for i in range (101):\n",
    "    if (i % int(numerin) == 0):\n",
    "        divisibles.append(i)\n",
    "\n",
    "print(divisibles)\n",
    "\n",
    "divisibles2 = [u for u in range(101) if u % int(numerin) == 0]\n",
    "print(divisibles2)"
   ]
  },
  {
   "cell_type": "code",
   "execution_count": 29,
   "metadata": {},
   "outputs": [
    {
     "ename": "SyntaxError",
     "evalue": "can't assign to lambda (<ipython-input-29-a32e8a7f01ef>, line 2)",
     "output_type": "error",
     "traceback": [
      "\u001b[1;36m  File \u001b[1;32m\"<ipython-input-29-a32e8a7f01ef>\"\u001b[1;36m, line \u001b[1;32m2\u001b[0m\n\u001b[1;33m    qwertyu = lambda x: x = True if x > 50 else x = False\u001b[0m\n\u001b[1;37m             ^\u001b[0m\n\u001b[1;31mSyntaxError\u001b[0m\u001b[1;31m:\u001b[0m can't assign to lambda\n"
     ]
    }
   ],
   "source": [
    "#Fill in the Blanks: Fill in the blanks for the code below so that it takes in a parameter of \"x\" and returns \"True\" if it is greater than 50, otherwise it should return \"False\".\n",
    "qwertyu = lambda x: x = True if x > 50 else x = False"
   ]
  },
  {
   "cell_type": "code",
   "execution_count": 30,
   "metadata": {},
   "outputs": [
    {
     "name": "stdout",
     "output_type": "stream",
     "text": [
      "41.0\n"
     ]
    }
   ],
   "source": [
    "#Degree Conversion: Write a lambda function that takes in a degree value in Celsius and returns the degree converted into Fahrenheit (la fórmula es 9/5 * grados ºC + 32).\n",
    "degreeconv = lambda x: x * (9/5) + 32\n",
    "print(degreeconv(5))"
   ]
  },
  {
   "cell_type": "code",
   "execution_count": 34,
   "metadata": {},
   "outputs": [
    {
     "ename": "SyntaxError",
     "evalue": "invalid syntax (<ipython-input-34-a088f2da1b68>, line 3)",
     "output_type": "error",
     "traceback": [
      "\u001b[1;36m  File \u001b[1;32m\"<ipython-input-34-a088f2da1b68>\"\u001b[1;36m, line \u001b[1;32m3\u001b[0m\n\u001b[1;33m    ordenada = [i for i in scifi_authors, scifi_authors.sort[-1]]\u001b[0m\n\u001b[1;37m                                        ^\u001b[0m\n\u001b[1;31mSyntaxError\u001b[0m\u001b[1;31m:\u001b[0m invalid syntax\n"
     ]
    }
   ],
   "source": [
    "scifi_authors = [\"Isaac Asimov\", \"Ray Bradbury\", \"Robert Heinlein\", \"Arthur C. Clarke\", \"Frank Herbert\", \"Orson Scott Card\", \"Douglas Adams\", \"H. G. Wells\", \"Leigh Brackett\"]\n",
    "\n",
    "ordenada = [i for i in scifi_authors, scifi_authors.sort[-1]]\n",
    "print(ordenada)\n",
    "\n",
    "ordenada2 = lambda "
   ]
  },
  {
   "cell_type": "code",
   "execution_count": null,
   "metadata": {},
   "outputs": [],
   "source": []
  }
 ],
 "metadata": {
  "kernelspec": {
   "display_name": "Python 3.10.5 ('venv': venv)",
   "language": "python",
   "name": "python3"
  },
  "language_info": {
   "codemirror_mode": {
    "name": "ipython",
    "version": 3
   },
   "file_extension": ".py",
   "mimetype": "text/x-python",
   "name": "python",
   "nbconvert_exporter": "python",
   "pygments_lexer": "ipython3",
   "version": "3.10.5"
  },
  "orig_nbformat": 2,
  "vscode": {
   "interpreter": {
    "hash": "4a84144fe2cb265f9f8b9cb7eee296bb55be74236409e7953caddf9ce61ef878"
   }
  }
 },
 "nbformat": 4,
 "nbformat_minor": 2
}
