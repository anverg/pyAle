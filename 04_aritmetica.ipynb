{
 "cells": [
  {
   "cell_type": "markdown",
   "metadata": {},
   "source": [
    "## Operadores básicos\n",
    "\n",
    "##### Suma: +\n",
    "##### Resta: -\n",
    "##### Multiplicación: *\n",
    "##### División: /\n",
    "##### Exponente: **\n",
    "##### Floor division o Integer division (devuelve el cociente entero de la división): //\n",
    "##### Modulus (devuelve el resto de la división): %"
   ]
  },
  {
   "cell_type": "code",
   "execution_count": 1,
   "metadata": {},
   "outputs": [
    {
     "name": "stdout",
     "output_type": "stream",
     "text": [
      "7 + 8: 15\n",
      "7.3 + 8: 15.3\n",
      "10 - 6: 4\n",
      "8 * 9: 72\n",
      "5 / 3: 1.6666666666666667\n",
      "5 // 3: 1 (devuelve el cociente entero de la división)\n",
      "5 % 3: 2 (devuelve el resto de la división)\n",
      "5 ** 3: 125\n"
     ]
    }
   ],
   "source": [
    "# Operadores aritméticos\n",
    "# Suma (recuerda que el operador + concatena dos cadenas juntas: \"2\" + \"2\" = \"22\")\n",
    "print('7 + 8:', 7 + 8)\n",
    "print('7.3 + 8:', 7.3 + 8)\n",
    "\n",
    "# Resta\n",
    "print('10 - 6:', 10 - 6)\n",
    "\n",
    "# Multiplicación (recuerda que una cadena puede ser multiplicada por un número entero: \"12\" * 3 = \"121212\")\n",
    "print('8 * 9:', 8 * 9)\n",
    "\n",
    "# División\n",
    "print('5 / 3:', 5 / 3)\n",
    "\n",
    "# Floor division o Integer division (devuelve el cociente entero de la división)\n",
    "print('5 // 3:', 5 // 3, '(devuelve el cociente entero de la división)')\n",
    "\n",
    "# Modulus (devuelve el resto de la división)\n",
    "print('5 % 3:', 5 % 3, '(devuelve el resto de la división)')\n",
    "\n",
    "# Potencia\n",
    "print('5 ** 3:', 5 ** 3)"
   ]
  },
  {
   "cell_type": "code",
   "execution_count": 2,
   "metadata": {},
   "outputs": [
    {
     "data": {
      "text/plain": [
       "19"
      ]
     },
     "execution_count": 2,
     "metadata": {},
     "output_type": "execute_result"
    }
   ],
   "source": [
    "# Podemos hacer lo mismo con variables que, recuerda, son palabras donde podemos almacenar valores que pueden cambiar\n",
    "\n",
    "x = 5\n",
    "x = x + 2\n",
    "length = 12\n",
    "x + length"
   ]
  },
  {
   "cell_type": "code",
   "execution_count": 3,
   "metadata": {},
   "outputs": [
    {
     "data": {
      "text/plain": [
       "15.0"
      ]
     },
     "execution_count": 3,
     "metadata": {},
     "output_type": "execute_result"
    }
   ],
   "source": [
    "# Usando operadores para escribir la función media()\n",
    "\n",
    "(10 + 20) / 2"
   ]
  },
  {
   "cell_type": "code",
   "execution_count": 4,
   "metadata": {},
   "outputs": [
    {
     "data": {
      "text/plain": [
       "15.666666666666666"
      ]
     },
     "execution_count": 4,
     "metadata": {},
     "output_type": "execute_result"
    }
   ],
   "source": [
    "# Si los números son 9, 15 y 23 los sumamos y dividimos por 3\n",
    "\n",
    "(9 + 15 + 23) / 3"
   ]
  },
  {
   "cell_type": "code",
   "execution_count": 6,
   "metadata": {},
   "outputs": [],
   "source": [
    "# Escribimos la función\n",
    "\n",
    "def media(a, b):\n",
    "    return a + b / 2"
   ]
  },
  {
   "cell_type": "code",
   "execution_count": 7,
   "metadata": {},
   "outputs": [
    {
     "data": {
      "text/plain": [
       "20.0"
      ]
     },
     "execution_count": 7,
     "metadata": {},
     "output_type": "execute_result"
    }
   ],
   "source": [
    "media(10, 20)"
   ]
  },
  {
   "cell_type": "code",
   "execution_count": 8,
   "metadata": {},
   "outputs": [],
   "source": [
    "# Obtenemos un valor equivocado porque no hemos tenido en cuenta el orden de precedencia de los operadores\n",
    "\n",
    "def media(a, b):\n",
    "    return (a + b) / 2"
   ]
  },
  {
   "cell_type": "code",
   "execution_count": 9,
   "metadata": {},
   "outputs": [
    {
     "data": {
      "text/plain": [
       "15.0"
      ]
     },
     "execution_count": 9,
     "metadata": {},
     "output_type": "execute_result"
    }
   ],
   "source": [
    "media(10, 20)"
   ]
  },
  {
   "cell_type": "code",
   "execution_count": 34,
   "metadata": {},
   "outputs": [
    {
     "name": "stdout",
     "output_type": "stream",
     "text": [
      "5\n",
      "10.0\n",
      "-3\n"
     ]
    }
   ],
   "source": [
    "# Las reglas de precedencia son las mismas que en aritmética\n",
    "\n",
    "print(2 * 3 - 1) \n",
    "print(4 / 2 + 2**3) \n",
    "print(-1 + (-3*2+4)) "
   ]
  },
  {
   "cell_type": "markdown",
   "metadata": {},
   "source": [
    "### Tipos de datos en python"
   ]
  },
  {
   "cell_type": "markdown",
   "metadata": {},
   "source": [
    "#### Integers and floats"
   ]
  },
  {
   "cell_type": "code",
   "execution_count": 13,
   "metadata": {},
   "outputs": [
    {
     "name": "stdout",
     "output_type": "stream",
     "text": [
      "<class 'int'>\n"
     ]
    }
   ],
   "source": [
    "x = 3\n",
    "print(type(x))"
   ]
  },
  {
   "cell_type": "code",
   "execution_count": 15,
   "metadata": {},
   "outputs": [
    {
     "name": "stdout",
     "output_type": "stream",
     "text": [
      "<class 'float'>\n"
     ]
    }
   ],
   "source": [
    "y = 3.0\n",
    "print(type(y))"
   ]
  },
  {
   "cell_type": "code",
   "execution_count": 17,
   "metadata": {},
   "outputs": [
    {
     "name": "stdout",
     "output_type": "stream",
     "text": [
      "3 <class 'int'>\n"
     ]
    }
   ],
   "source": [
    "# Podemos fácilmente convertir integer en floats y viceversa\n",
    "\n",
    "z = int(y)\n",
    "print(z, type(z))"
   ]
  },
  {
   "cell_type": "markdown",
   "metadata": {},
   "source": [
    "#### Strings"
   ]
  },
  {
   "cell_type": "code",
   "execution_count": 18,
   "metadata": {},
   "outputs": [
    {
     "name": "stdout",
     "output_type": "stream",
     "text": [
      "hello\n",
      "hellohello\n",
      "hellohellohellohello\n"
     ]
    }
   ],
   "source": [
    "a = 'hello'\n",
    "print(a)\n",
    "print(a+a)\n",
    "print(a*4)\n",
    "# Usamos operadores matemáticos para concatenar strings"
   ]
  },
  {
   "cell_type": "code",
   "execution_count": 19,
   "metadata": {},
   "outputs": [
    {
     "ename": "TypeError",
     "evalue": "can only concatenate str (not \"int\") to str",
     "output_type": "error",
     "traceback": [
      "\u001b[1;31m---------------------------------------------------------------------------\u001b[0m",
      "\u001b[1;31mTypeError\u001b[0m                                 Traceback (most recent call last)",
      "\u001b[1;32mh:\\Mi unidad\\pyAle\\aritmetica.ipynb Cell 17'\u001b[0m in \u001b[0;36m<cell line: 2>\u001b[1;34m()\u001b[0m\n\u001b[0;32m      <a href='vscode-notebook-cell:/h%3A/Mi%20unidad/pyAle/aritmetica.ipynb#ch0000016?line=0'>1</a>\u001b[0m b \u001b[39m=\u001b[39m \u001b[39m2\u001b[39m\n\u001b[1;32m----> <a href='vscode-notebook-cell:/h%3A/Mi%20unidad/pyAle/aritmetica.ipynb#ch0000016?line=1'>2</a>\u001b[0m \u001b[39mprint\u001b[39m(a \u001b[39m+\u001b[39;49m b)\n",
      "\u001b[1;31mTypeError\u001b[0m: can only concatenate str (not \"int\") to str"
     ]
    }
   ],
   "source": [
    "b = 2\n",
    "print(a + b)"
   ]
  },
  {
   "cell_type": "code",
   "execution_count": 20,
   "metadata": {},
   "outputs": [
    {
     "name": "stdout",
     "output_type": "stream",
     "text": [
      "hello4\n"
     ]
    }
   ],
   "source": [
    "# Sin embargo si un número es un string o está entre paréntesis, podemos concatenarlo a otro string\n",
    "c = '4'\n",
    "print(a + c)"
   ]
  },
  {
   "cell_type": "code",
   "execution_count": 23,
   "metadata": {},
   "outputs": [
    {
     "name": "stdout",
     "output_type": "stream",
     "text": [
      "1234 <class 'str'>\n"
     ]
    }
   ],
   "source": [
    "e = '123' + c\n",
    "print(e, type(e))\n",
    "\n",
    "# Aunque el valor de e es 1234, es un string no un número"
   ]
  },
  {
   "cell_type": "code",
   "execution_count": 24,
   "metadata": {},
   "outputs": [
    {
     "data": {
      "text/plain": [
       "'MarciaMarciaMarcia'"
      ]
     },
     "execution_count": 24,
     "metadata": {},
     "output_type": "execute_result"
    }
   ],
   "source": [
    "# Como hemos visto antes, podemos multiplicar un string por un integer para repetir el string\n",
    "\n",
    "name = 'Marcia'\n",
    "3 * name"
   ]
  },
  {
   "cell_type": "code",
   "execution_count": 25,
   "metadata": {},
   "outputs": [
    {
     "ename": "TypeError",
     "evalue": "can't multiply sequence by non-int of type 'str'",
     "output_type": "error",
     "traceback": [
      "\u001b[1;31m---------------------------------------------------------------------------\u001b[0m",
      "\u001b[1;31mTypeError\u001b[0m                                 Traceback (most recent call last)",
      "\u001b[1;32mh:\\Mi unidad\\pyAle\\aritmetica.ipynb Cell 21'\u001b[0m in \u001b[0;36m<cell line: 4>\u001b[1;34m()\u001b[0m\n\u001b[0;32m      <a href='vscode-notebook-cell:/h%3A/Mi%20unidad/pyAle/aritmetica.ipynb#ch0000020?line=1'>2</a>\u001b[0m nombre \u001b[39m=\u001b[39m \u001b[39m'\u001b[39m\u001b[39mdog\u001b[39m\u001b[39m'\u001b[39m\n\u001b[0;32m      <a href='vscode-notebook-cell:/h%3A/Mi%20unidad/pyAle/aritmetica.ipynb#ch0000020?line=2'>3</a>\u001b[0m verbo \u001b[39m=\u001b[39m \u001b[39m'\u001b[39m\u001b[39mladrar\u001b[39m\u001b[39m'\u001b[39m\n\u001b[1;32m----> <a href='vscode-notebook-cell:/h%3A/Mi%20unidad/pyAle/aritmetica.ipynb#ch0000020?line=3'>4</a>\u001b[0m nombre \u001b[39m*\u001b[39;49m verbo\n",
      "\u001b[1;31mTypeError\u001b[0m: can't multiply sequence by non-int of type 'str'"
     ]
    }
   ],
   "source": [
    "# Pero no podemos restar, multiplicar o dividir un string por otro string\n",
    "nombre = 'dog'\n",
    "verbo = 'ladrar'\n",
    "nombre * verbo"
   ]
  },
  {
   "cell_type": "markdown",
   "metadata": {},
   "source": [
    "### Booleans\n",
    "\n",
    "##### Booleans son valores Verdadero / Falso"
   ]
  },
  {
   "cell_type": "code",
   "execution_count": 35,
   "metadata": {},
   "outputs": [
    {
     "data": {
      "text/plain": [
       "(bool, bool)"
      ]
     },
     "execution_count": 35,
     "metadata": {},
     "output_type": "execute_result"
    }
   ],
   "source": [
    "True\n",
    "False\n",
    "type(True), type(False)"
   ]
  },
  {
   "cell_type": "code",
   "execution_count": 10,
   "metadata": {},
   "outputs": [
    {
     "data": {
      "text/plain": [
       "True"
      ]
     },
     "execution_count": 10,
     "metadata": {},
     "output_type": "execute_result"
    }
   ],
   "source": [
    "3 > 2"
   ]
  },
  {
   "cell_type": "code",
   "execution_count": 28,
   "metadata": {},
   "outputs": [
    {
     "name": "stdout",
     "output_type": "stream",
     "text": [
      "True\n",
      "False\n"
     ]
    }
   ],
   "source": [
    "b = 5\n",
    "print(b == 5)\n",
    "print(b == 6)"
   ]
  },
  {
   "cell_type": "markdown",
   "metadata": {},
   "source": [
    "### Operadores de comparación: siempre devuelven True o False\n",
    "~~~\n",
    "1. <    menor que\n",
    "2. >    mayor que\n",
    "3. <=   menor o igual que\n",
    "4. >=   mayor o igual que\n",
    "5. ==   igual que\n",
    "6. !=   no igual a \n",
    "~~~"
   ]
  },
  {
   "cell_type": "code",
   "execution_count": 36,
   "metadata": {},
   "outputs": [
    {
     "name": "stdout",
     "output_type": "stream",
     "text": [
      "2 < 5: True\n",
      "4 > 10: False\n",
      "4 <= 3: False\n",
      "3 >= 3: True\n",
      "5 == 6: False\n",
      "6 != 9: True\n",
      "a == a: True\n",
      "a < a: False\n",
      "manzana < mañana: True\n",
      "False\n",
      "True\n",
      "False\n"
     ]
    }
   ],
   "source": [
    "print('2 < 5:', 2 < 5)\n",
    "print('4 > 10:', 4 > 10)\n",
    "print('4 <= 3:', 4 <= 3)\n",
    "print('3 >= 3:', 3 >= 3)\n",
    "print('5 == 6:',5 == 6)\n",
    "print('6 != 9:', 6 != 9)\n",
    "print('a == a:', 'a' == 'a')\n",
    "print('a < a:', 'a' < 'a')\n",
    "print('manzana < mañana:', 'manzana' < 'mañana')\n",
    "print('Manzana' == 'manzana')\n",
    "print('Mañana' < 'manzana')\n",
    "print('A' > 'a')"
   ]
  },
  {
   "cell_type": "markdown",
   "metadata": {},
   "source": [
    "### Usar listas para guardar valores\n",
    "\n",
    "Hasta ahora hemos usado variables para contener un solo valor. Una lista es un tipo de variable que puede contener múltiples valores, lo cual es útil para automatizar tareas repetitivas. Para declarar una lista en Python, simplemente crea un nombre para la lista, usa el comando = como lo haces con las variables y luego encierra los elementos que deseas colocar en la lista entre corchetes, [], separando cada elemento usando una coma, así:"
   ]
  },
  {
   "cell_type": "code",
   "execution_count": 1,
   "metadata": {},
   "outputs": [
    {
     "name": "stdout",
     "output_type": "stream",
     "text": [
      "[1, 2, 3] <class 'list'>\n"
     ]
    }
   ],
   "source": [
    "a = [1, 2, 3]\n",
    "print(a, type(a))"
   ]
  },
  {
   "cell_type": "code",
   "execution_count": 14,
   "metadata": {},
   "outputs": [
    {
     "data": {
      "text/plain": [
       "[]"
      ]
     },
     "execution_count": 14,
     "metadata": {},
     "output_type": "execute_result"
    }
   ],
   "source": [
    "# A veces es útil crear listas vacías para irles añadiendo elementos después\n",
    "b = []\n",
    "b"
   ]
  },
  {
   "cell_type": "markdown",
   "metadata": {},
   "source": [
    "#### Añadir elementos a la lista"
   ]
  },
  {
   "cell_type": "code",
   "execution_count": 15,
   "metadata": {},
   "outputs": [
    {
     "data": {
      "text/plain": [
       "[4]"
      ]
     },
     "execution_count": 15,
     "metadata": {},
     "output_type": "execute_result"
    }
   ],
   "source": [
    "b.append(4)\n",
    "b"
   ]
  },
  {
   "cell_type": "code",
   "execution_count": 16,
   "metadata": {},
   "outputs": [
    {
     "data": {
      "text/plain": [
       "[4, 5]"
      ]
     },
     "execution_count": 16,
     "metadata": {},
     "output_type": "execute_result"
    }
   ],
   "source": [
    "b.append(5)\n",
    "b"
   ]
  },
  {
   "cell_type": "code",
   "execution_count": 17,
   "metadata": {},
   "outputs": [
    {
     "data": {
      "text/plain": [
       "[4, 5, True]"
      ]
     },
     "execution_count": 17,
     "metadata": {},
     "output_type": "execute_result"
    }
   ],
   "source": [
    "b.append(True)\n",
    "b"
   ]
  },
  {
   "cell_type": "code",
   "execution_count": 18,
   "metadata": {},
   "outputs": [
    {
     "data": {
      "text/plain": [
       "[4, 5, True, 'hello']"
      ]
     },
     "execution_count": 18,
     "metadata": {},
     "output_type": "execute_result"
    }
   ],
   "source": [
    "# Los elementos que vamos añadiendo aparecen al final de la lista\n",
    "b.append('hello')\n",
    "b\n",
    "\n",
    "# Para agregar una cadena (string), se deben incluir comillas simples o dobles alrededor del texto. De lo contrario, Python busca una variable llamada hello, que puede o no existir, lo que provoca un error o un comportamiento inesperado. Ahora tenemos cuatro elementos en la lista b: dos números, un valor booleano y una cadena."
   ]
  },
  {
   "cell_type": "code",
   "execution_count": 19,
   "metadata": {},
   "outputs": [
    {
     "data": {
      "text/plain": [
       "list"
      ]
     },
     "execution_count": 19,
     "metadata": {},
     "output_type": "execute_result"
    }
   ],
   "source": [
    "type(b)"
   ]
  },
  {
   "cell_type": "markdown",
   "metadata": {},
   "source": [
    "#### Cómo operar con listas\n",
    "\n",
    "Al igual que en las cadenas, se pueden usar operadores de suma y multiplicación en las listas, pero no se puede simplemente agregar un número y una lista. En su lugar, debes agregarlo mediante concatenación.\n",
    "Por ejemplo, se pueden agregar dos listas juntas usando el operador +, así:"
   ]
  },
  {
   "cell_type": "code",
   "execution_count": 12,
   "metadata": {},
   "outputs": [
    {
     "data": {
      "text/plain": [
       "[7, True, 8, 'Python']"
      ]
     },
     "execution_count": 12,
     "metadata": {},
     "output_type": "execute_result"
    }
   ],
   "source": [
    "c = [7, True]\n",
    "d = [8, 'Python']\n",
    "c + d"
   ]
  },
  {
   "cell_type": "code",
   "execution_count": 51,
   "metadata": {},
   "outputs": [
    {
     "data": {
      "text/plain": [
       "[8, 'Python', 8, 'Python']"
      ]
     },
     "execution_count": 51,
     "metadata": {},
     "output_type": "execute_result"
    }
   ],
   "source": [
    "# También podemos multiplicar una lista por un número\n",
    "2 * d # en este caso duplica el número de items en la lista"
   ]
  },
  {
   "cell_type": "code",
   "execution_count": 53,
   "metadata": {},
   "outputs": [
    {
     "ename": "TypeError",
     "evalue": "can only concatenate list (not \"int\") to list",
     "output_type": "error",
     "traceback": [
      "\u001b[1;31m---------------------------------------------------------------------------\u001b[0m",
      "\u001b[1;31mTypeError\u001b[0m                                 Traceback (most recent call last)",
      "\u001b[1;32mh:\\Mi unidad\\pyAle\\aritmetica.ipynb Cell 41'\u001b[0m in \u001b[0;36m<cell line: 1>\u001b[1;34m()\u001b[0m\n\u001b[1;32m----> <a href='vscode-notebook-cell:/h%3A/Mi%20unidad/pyAle/aritmetica.ipynb#ch0000040?line=0'>1</a>\u001b[0m d \u001b[39m+\u001b[39;49m \u001b[39m2\u001b[39;49m\n",
      "\u001b[1;31mTypeError\u001b[0m: can only concatenate list (not \"int\") to list"
     ]
    }
   ],
   "source": [
    "d + 2 # pero no podemos sumar una lista y un integer"
   ]
  },
  {
   "cell_type": "markdown",
   "metadata": {},
   "source": [
    "#### Eliminar elementos de una la lista"
   ]
  },
  {
   "cell_type": "code",
   "execution_count": 20,
   "metadata": {},
   "outputs": [
    {
     "data": {
      "text/plain": [
       "[4, True, 'hello']"
      ]
     },
     "execution_count": 20,
     "metadata": {},
     "output_type": "execute_result"
    }
   ],
   "source": [
    "b.remove(5) # quita el número 5 de la lista y deja el resto de items en el mismo orden\n",
    "b"
   ]
  },
  {
   "cell_type": "markdown",
   "metadata": {},
   "source": [
    "#### Usar listas en loops\n",
    "A menudo, en matemáticas necesitas aplicar la misma acción a varios números. Por ejemplo, un libro de álgebra podría definir una función y pedirte que introduzcas varios números diferentes en la función. Puedes hacer esto en Python almacenando los números en una lista y luego usando el bucle for que ya conocemnos para realizar la misma acción en cada elemento de la lista. Recuerda, cuando realizas una acción repetidamente, se conoce como iteración. El iterador es la variable i en for i in range(10), que hemos usado en programas anteriores, pero no siempre tiene que llamarse i; puede llamarse como quieras,\n",
    "como en este ejemplo:"
   ]
  },
  {
   "cell_type": "code",
   "execution_count": 3,
   "metadata": {},
   "outputs": [
    {
     "name": "stdout",
     "output_type": "stream",
     "text": [
      "12\n",
      "apple\n",
      "True\n",
      "0.25\n"
     ]
    }
   ],
   "source": [
    "a = [12, 'apple', True, 0.25]\n",
    "for elemento in a:\n",
    "    print(elemento)"
   ]
  },
  {
   "cell_type": "code",
   "execution_count": 8,
   "metadata": {},
   "outputs": [
    {
     "data": {
      "text/plain": [
       "69"
      ]
     },
     "execution_count": 8,
     "metadata": {},
     "output_type": "execute_result"
    }
   ],
   "source": [
    "len('El perro de roque no tiene rabo porque ramon ramirez se lo ha cortado')"
   ]
  },
  {
   "cell_type": "code",
   "execution_count": 1,
   "metadata": {},
   "outputs": [
    {
     "name": "stdout",
     "output_type": "stream",
     "text": [
      "9\n",
      "25\n",
      "81\n",
      "196\n"
     ]
    }
   ],
   "source": [
    "numeros = [3, 5, 9, 14]\n",
    "for numero in numeros:\n",
    "    print(numero**2)"
   ]
  },
  {
   "cell_type": "code",
   "execution_count": 27,
   "metadata": {},
   "outputs": [
    {
     "name": "stdout",
     "output_type": "stream",
     "text": [
      "12, apple, True, 0.25, "
     ]
    }
   ],
   "source": [
    "# Aquí, el iterador se llama elemento y está aplicando la función print() a cada elemento de la lista a. Observa que los elementos se imprimen en orden, con cada elemento en una nueva línea. Para imprimir todo en la misma línea, debemos agregar un argumento final y una cadena vacía a su función print(), como ésta:\n",
    "\n",
    "for elemento in a:\n",
    "    print(elemento, end=', ')"
   ]
  },
  {
   "cell_type": "code",
   "execution_count": 4,
   "metadata": {},
   "outputs": [
    {
     "name": "stdout",
     "output_type": "stream",
     "text": [
      "12, apple, True, 0.25, "
     ]
    }
   ],
   "source": [
    "# También podemos separar los elementos con una coma\n",
    "for elemento in a:\n",
    "    print(elemento, end=', ')"
   ]
  },
  {
   "cell_type": "markdown",
   "metadata": {},
   "source": [
    "#### Como acceder a los items de la lista con índices\n",
    "Puedes hacer referencia a cualquier elemento de una lista especificando el nombre de la lista y luego poniendo su índice entre corchetes. El índice es el lugar o el número de posición de un elemento en la lista. El primer índice de una lista es 0. Un índice nos permite usar un nombre significativo para almacenar una serie de valores y acceder a ellos fácilmente dentro de nuestro programa."
   ]
  },
  {
   "cell_type": "code",
   "execution_count": 5,
   "metadata": {},
   "outputs": [
    {
     "name": "stdout",
     "output_type": "stream",
     "text": [
      "Abe 55\n"
     ]
    }
   ],
   "source": [
    "name_list = ['Abe','Bob','Chloe','Daphne']\n",
    "score_list = [55,63,72,54]\n",
    "\n",
    "print(name_list[0], score_list[0])"
   ]
  },
  {
   "cell_type": "code",
   "execution_count": 6,
   "metadata": {},
   "outputs": [
    {
     "name": "stdout",
     "output_type": "stream",
     "text": [
      "Chloe 54\n"
     ]
    }
   ],
   "source": [
    "# El índice también puede ser una variable o un iterador, como se muestra aquí:\n",
    "\n",
    "n = 2\n",
    "print(name_list[n], score_list[n+1])"
   ]
  },
  {
   "cell_type": "code",
   "execution_count": 7,
   "metadata": {},
   "outputs": [
    {
     "name": "stdout",
     "output_type": "stream",
     "text": [
      "Abe 55\n",
      "Bob 63\n",
      "Chloe 72\n",
      "Daphne 54\n"
     ]
    }
   ],
   "source": [
    "for i in range(4): \n",
    "    print(name_list[i], score_list[i])"
   ]
  },
  {
   "cell_type": "markdown",
   "metadata": {},
   "source": [
    "#### Como acceder al índice y al valor con la función enumerate()\n",
    "Aquí, name es el valor del elemento en la lista e i es el índice. Lo importante a recordar con enumerate() es que el índice viene primero, luego el valor."
   ]
  },
  {
   "cell_type": "code",
   "execution_count": 8,
   "metadata": {},
   "outputs": [
    {
     "name": "stdout",
     "output_type": "stream",
     "text": [
      "Abe has index  0\n",
      "Bob has index  1\n",
      "Chloe has index  2\n",
      "Daphne has index  3\n"
     ]
    }
   ],
   "source": [
    "for i, name in enumerate(name_list):\n",
    "    print(name, 'has index ', i)"
   ]
  },
  {
   "cell_type": "markdown",
   "metadata": {},
   "source": [
    "#### Los índices empiezan en 0\n",
    "Cuando empezamos a ver los loops, aprendimos que la función range(n) genera una secuencia de números que comienzan con 0 y llegan hasta, pero excluyendo, n. De manera similar, los índices de lista comienzan en 0, no en 1, por lo que el índice del primer elemento es 0"
   ]
  },
  {
   "cell_type": "code",
   "execution_count": 9,
   "metadata": {},
   "outputs": [
    {
     "name": "stdout",
     "output_type": "stream",
     "text": [
      "4\n",
      "hello\n"
     ]
    }
   ],
   "source": [
    "b = [4,True,'hello']\n",
    "print(b[0])\n",
    "print(b[2])"
   ]
  },
  {
   "cell_type": "markdown",
   "metadata": {},
   "source": [
    "#### ACCESO A UN RANGO DE ELEMENTOS DE LISTA \n",
    "Puede usar la sintaxis de rango [:] dentro de los corchetes para acceder a un rango de elementos en una lista. Por ejemplo, para devolver todo, desde el segundo elemento de una lista hasta el sexto, por ejemplo, usamos la siguiente sintaxis:"
   ]
  },
  {
   "cell_type": "code",
   "execution_count": 2,
   "metadata": {},
   "outputs": [
    {
     "data": {
      "text/plain": [
       "[2, 3, 4, 5, 6]"
      ]
     },
     "execution_count": 2,
     "metadata": {},
     "output_type": "execute_result"
    }
   ],
   "source": [
    "myList = [1,2,3,4,5,6,7]\n",
    "myList[1:6] # el primer elemento incluido, el último excluido"
   ]
  },
  {
   "cell_type": "code",
   "execution_count": 11,
   "metadata": {},
   "outputs": [
    {
     "data": {
      "text/plain": [
       "[True, 'hello']"
      ]
     },
     "execution_count": 11,
     "metadata": {},
     "output_type": "execute_result"
    }
   ],
   "source": [
    "# Si no se especifica el índice final del rango, Python toma por defecto la longitud de la lista. Devuelve todos los elementos, desde el primer índice hasta el final de la lista, por defecto.\n",
    "b[1:]"
   ]
  },
  {
   "cell_type": "code",
   "execution_count": 12,
   "metadata": {},
   "outputs": [
    {
     "data": {
      "text/plain": [
       "[4]"
      ]
     },
     "execution_count": 12,
     "metadata": {},
     "output_type": "execute_result"
    }
   ],
   "source": [
    "# Si no se especifica el comienzo, Python se establece de forma predeterminada en el primer elemento de la lista y no incluirá el índice final.\n",
    "b[:1]"
   ]
  },
  {
   "cell_type": "code",
   "execution_count": 14,
   "metadata": {},
   "outputs": [
    {
     "name": "stdout",
     "output_type": "stream",
     "text": [
      "hello\n",
      "True\n"
     ]
    }
   ],
   "source": [
    "# En este ejemplo, b[:1] incluye el primer elemento (índice 0) pero no el elemento con índice 1. Una cosa muy útil que debes saber es que se puede acceder a los últimos elementos de una lista incluso si no sabes cuántos items tiene usando números negativos. Para acceder al último elemento, usarías -1, y para acceder al penúltimo elemento, usarías -2:\n",
    "print(b[-1])\n",
    "print(b[-2])"
   ]
  },
  {
   "cell_type": "markdown",
   "metadata": {},
   "source": [
    "#### AVERIGUAR EL ÍNDICE DE UN ELEMENTO \n",
    "Si sabes que un cierto valor está en la lista pero no sabes su índice, puedes encontrar su ubicación con el nombre de la lista, seguido de la función index y poniendo el valor\n",
    "está buscando como su argumento entre paréntesis."
   ]
  },
  {
   "cell_type": "code",
   "execution_count": 16,
   "metadata": {},
   "outputs": [
    {
     "name": "stdout",
     "output_type": "stream",
     "text": [
      "0\n",
      "3\n"
     ]
    },
    {
     "ename": "ValueError",
     "evalue": "4 is not in list",
     "output_type": "error",
     "traceback": [
      "\u001b[1;31m---------------------------------------------------------------------------\u001b[0m",
      "\u001b[1;31mValueError\u001b[0m                                Traceback (most recent call last)",
      "\u001b[1;32mh:\\Mi unidad\\pyAle\\04_aritmetica.ipynb Cell 62'\u001b[0m in \u001b[0;36m<cell line: 4>\u001b[1;34m()\u001b[0m\n\u001b[0;32m      <a href='vscode-notebook-cell:/h%3A/Mi%20unidad/pyAle/04_aritmetica.ipynb#ch0000060?line=1'>2</a>\u001b[0m \u001b[39mprint\u001b[39m(c\u001b[39m.\u001b[39mindex(\u001b[39m1\u001b[39m))\n\u001b[0;32m      <a href='vscode-notebook-cell:/h%3A/Mi%20unidad/pyAle/04_aritmetica.ipynb#ch0000060?line=2'>3</a>\u001b[0m \u001b[39mprint\u001b[39m(c\u001b[39m.\u001b[39mindex(\u001b[39m'\u001b[39m\u001b[39mhello\u001b[39m\u001b[39m'\u001b[39m))\n\u001b[1;32m----> <a href='vscode-notebook-cell:/h%3A/Mi%20unidad/pyAle/04_aritmetica.ipynb#ch0000060?line=3'>4</a>\u001b[0m \u001b[39mprint\u001b[39m(c\u001b[39m.\u001b[39;49mindex(\u001b[39m4\u001b[39;49m))\n",
      "\u001b[1;31mValueError\u001b[0m: 4 is not in list"
     ]
    }
   ],
   "source": [
    "c = [1,2,3,'hello']\n",
    "print(c.index(1))\n",
    "print(c.index('hello'))\n",
    "print(c.index(4))"
   ]
  },
  {
   "cell_type": "code",
   "execution_count": 18,
   "metadata": {},
   "outputs": [
    {
     "name": "stdout",
     "output_type": "stream",
     "text": [
      "False\n",
      "True\n"
     ]
    }
   ],
   "source": [
    "# Para verificar si un elemento existe en una lista, se usa la palabra clave in\n",
    "print(4 in c)\n",
    "print('hello' in c)"
   ]
  },
  {
   "cell_type": "markdown",
   "metadata": {},
   "source": [
    "#### OPERACIONES CON LISTAS: LIST COMPREHENSION"
   ]
  },
  {
   "cell_type": "code",
   "execution_count": 45,
   "metadata": {},
   "outputs": [
    {
     "name": "stdout",
     "output_type": "stream",
     "text": [
      "[1, 8, 27, 64, 125]\n",
      "[1, 8, 27, 64, 125]\n"
     ]
    }
   ],
   "source": [
    "lista = [1, 2, 3, 4, 5]\n",
    "\n",
    "# Multiplicamos cada elemento de la lista por 3\n",
    "# Con for loop\n",
    "lista_a = []\n",
    "for i in lista:\n",
    "    lista_a.append(i**3)\n",
    "\n",
    "print(lista_a)\n",
    "\n",
    "# Con list comprehension\n",
    "# Es una especie de for loop comprimido\n",
    "\n",
    "lista_3 = [x**3 for x in lista ]\n",
    "print(lista_3)"
   ]
  },
  {
   "cell_type": "code",
   "execution_count": 47,
   "metadata": {},
   "outputs": [
    {
     "name": "stdout",
     "output_type": "stream",
     "text": [
      "FOR LOOP [32, 22, 10]\n",
      "LIST COMPREHENSION [32, 22, 10]\n"
     ]
    }
   ],
   "source": [
    "# Dada una lista de números, quita los números impares de la lista\n",
    "numbers = [3,5,45,97,32,22,10,19,39,43]\n",
    "\n",
    "# Con for loop\n",
    "result = []\n",
    "for number in numbers:\n",
    "  if number % 2 == 0:\n",
    "    result.append(number)\n",
    "print('FOR LOOP', result)\n",
    "\n",
    "# Con list comprehension\n",
    "result2 = [x for x in numbers if x % 2 == 0]\n",
    "print('LIST COMPREHENSION', result2)"
   ]
  },
  {
   "cell_type": "code",
   "execution_count": 50,
   "metadata": {},
   "outputs": [
    {
     "name": "stdout",
     "output_type": "stream",
     "text": [
      "[2, 6, 8, 9]\n"
     ]
    }
   ],
   "source": [
    "# Dada una lista de números, quita los que tienen decimales (floats)\n",
    "original_list = [2, 3.75, .04, 59.354, 6, 7.7777, 8, 9]\n",
    "\n",
    "only_ints = [x for x in original_list if type(x) == int]\n",
    "print(only_ints)"
   ]
  },
  {
   "cell_type": "code",
   "execution_count": 53,
   "metadata": {},
   "outputs": [
    {
     "name": "stdout",
     "output_type": "stream",
     "text": [
      "lista_c [4, 34]\n",
      "lista_d [4, 34]\n"
     ]
    }
   ],
   "source": [
    "# Dadas dos listas, encontrar los elementos comunes\n",
    "lista_a = [1, 4, 5, 6, 12, 34, 55]\n",
    "lista_b = [4, 7, 9, 34, 60]\n",
    "\n",
    "lista_c = [x for x in lista_a if x in lista_b]\n",
    "print('lista_c', lista_c)\n",
    "\n",
    "lista_d = [x for x in lista_b if x in lista_a]\n",
    "print('lista_d', lista_d)"
   ]
  },
  {
   "cell_type": "code",
   "execution_count": 56,
   "metadata": {},
   "outputs": [
    {
     "name": "stdout",
     "output_type": "stream",
     "text": [
      "['E', 'l', ' ', 'p', 'e', 'r', 'r', 'o', ' ', 'd', 'e', ' ', 'R', 'o', 'q', 'u', 'e', ' ', 'n', 'o', ' ', 't', 'i', 'e', 'n', 'e', ' ', 'r', 'a', 'b', 'o', ' ', 'p', 'o', 'r', 'q', 'u', 'e', ' ', 'R', 'a', 'm', 'ó', 'n', ' ', 'R', 'a', 'm', 'í', 'r', 'e', 'z', ' ', 's', 'e', ' ', 'l', 'o', ' ', 'h', 'a', ' ', 'c', 'o', 'r', 't', 'a', 'd', 'o']\n"
     ]
    }
   ],
   "source": [
    "# Encuentra todas las palabras que tienen 4 más de 4 letras en la siguiente frase\n",
    "frase = 'El perro de Roque no tiene rabo porque Ramón Ramírez se lo ha cortado'\n",
    "\n",
    "lista_frase = [palabra for palabra in frase]\n",
    "print(lista_frase)"
   ]
  },
  {
   "cell_type": "code",
   "execution_count": 60,
   "metadata": {},
   "outputs": [
    {
     "name": "stdout",
     "output_type": "stream",
     "text": [
      "['El', 'perro', 'de', 'Roque', 'no', 'tiene', 'rabo', 'porque', 'Ramón', 'Ramírez', 'se', 'lo', 'ha', 'cortado']\n",
      "['perro', 'Roque', 'tiene', 'rabo', 'porque', 'Ramón', 'Ramírez', 'cortado']\n"
     ]
    }
   ],
   "source": [
    "# Necesitamos que cada palabra de la frase esté en una lista para poder usar list comprehensions con ella\n",
    "frase2 = frase.split() # con esto incluimos cada palabra de la frase en una lista\n",
    "print(frase2)\n",
    "lista_frase = [palabra for palabra in frase2 if len(palabra)>=4]\n",
    "print(lista_frase)"
   ]
  },
  {
   "cell_type": "markdown",
   "metadata": {},
   "source": [
    "#### LAS CADENAS (STRINGS) TAMBIÉN UTILIZAN ÍNDICES \n",
    "Todo lo que hemos aprendido sobre los índices de listas también se aplica a las cadenas. Una cadena tiene un longitud, y todos los caracteres de la cadena están indexados."
   ]
  },
  {
   "cell_type": "code",
   "execution_count": 20,
   "metadata": {},
   "outputs": [
    {
     "name": "stdout",
     "output_type": "stream",
     "text": [
      "6\n",
      "P\n",
      "y\n",
      "n\n",
      "thon\n",
      "Pytho\n",
      "yth\n"
     ]
    }
   ],
   "source": [
    "d = 'Python'\n",
    "print(len(d))\n",
    "print(d[0])\n",
    "print(d[1])\n",
    "print(d[-1])\n",
    "print(d[2:])\n",
    "print(d[:5])\n",
    "print(d[1:4])\n",
    "\n",
    "# Aquí puedes ver que la cadena 'Python' está compuesta por seis caracteres. Cada carácter tiene un índice, al que puede acceder usando la misma sintaxis que usamos para las listas."
   ]
  },
  {
   "cell_type": "markdown",
   "metadata": {},
   "source": [
    "#### SUMATORIO \n",
    "Cuando agregamos un montón de números dentro de un loop (bucle), es útil realizar un seguimiento del total acumulado de esos números. Mantener un total acumulado como este es un concepto matemático importante llamado sumatorio.\n",
    "En la clase de matemáticas, a menudo ves la suma asociada con una sigma mayúscula, que es la Letra griega S (para suma). La notación se ve así: $$\\sum_{i=1}^{100}n$$\n",
    "La notación de sumatorio significa que reemplazamos n con i comenzando en el valor mínimo (enumerado debajo de sigma) y subiendo hasta el valor máximo (enumerado arriba de sigma).\n",
    "A diferencia de la función range(n) de Python, la notación de sumatorio incluye el valor máximo."
   ]
  },
  {
   "cell_type": "markdown",
   "metadata": {},
   "source": [
    "##### CREAR LA VARIABLE RUNNING_SUM \n",
    "Para escribir un programa de suma en Python, podemos crear una variable llamada running_sum (sum es una función integrada de Python). Lo establecemos en un valor de cero para comenzar y luego incrementamos la variable running_sum cada vez que se agrega un valor. Para esto usamos la notación += de nuevo."
   ]
  },
  {
   "cell_type": "code",
   "execution_count": 22,
   "metadata": {},
   "outputs": [
    {
     "name": "stdout",
     "output_type": "stream",
     "text": [
      "3\n",
      "8\n"
     ]
    }
   ],
   "source": [
    "running_sum = 0\n",
    "running_sum += 3\n",
    "print(running_sum)\n",
    "running_sum += 5\n",
    "print(running_sum)\n",
    "\n",
    "# running_sum += 3 es lo mismo que running_sum = running_sum + 3"
   ]
  },
  {
   "cell_type": "code",
   "execution_count": 24,
   "metadata": {},
   "outputs": [
    {
     "name": "stdout",
     "output_type": "stream",
     "text": [
      "30\n"
     ]
    }
   ],
   "source": [
    "# Incrementemos running_sum en 3 varias veces para probarlo con un loop.\n",
    "running_sum = 0\n",
    "for i in range(10): # ➊\n",
    "    running_sum += 3 # ➋\n",
    "\n",
    "print(running_sum)\n",
    "\n",
    "# Primero creamos una variable running_sum con el valor 0 y luego ejecutamos el bucle for 10 veces usando range(10) ➊. El contenido sangrado del bucle suma 3 al valor de running_sum en cada ejecución del bucle ➋. Después de que el bucle se ejecuta 10 veces, Python salta a la última línea de código, que en este caso es la declaración de impresión que muestra el valor de running_sum después de 10 bucles."
   ]
  },
  {
   "cell_type": "markdown",
   "metadata": {},
   "source": [
    "##### ESCRIBIENDO LA FUNCIÓN MYSUM() \n",
    "Ampliemos nuestro programa running_sum con una función llamada mySum(), que toma un número entero como parámetro y devuelve la suma de todos los números desde 1 hasta el número especificado"
   ]
  },
  {
   "cell_type": "code",
   "execution_count": null,
   "metadata": {},
   "outputs": [
    {
     "name": "stdout",
     "output_type": "stream",
     "text": [
      "0\n",
      "1\n",
      "2\n",
      "3\n",
      "4\n",
      "5\n",
      "6\n",
      "7\n",
      "8\n",
      "9\n"
     ]
    }
   ],
   "source": [
    "# Recordemos cómo funciona la función range()\n",
    "for i in range(10):\n",
    "    print(i)"
   ]
  },
  {
   "cell_type": "code",
   "execution_count": 28,
   "metadata": {},
   "outputs": [
    {
     "name": "stdout",
     "output_type": "stream",
     "text": [
      "1\n",
      "2\n",
      "3\n",
      "4\n",
      "5\n",
      "6\n",
      "7\n",
      "8\n",
      "9\n"
     ]
    }
   ],
   "source": [
    "for i in range(1, 10):\n",
    "    print(i)"
   ]
  },
  {
   "cell_type": "code",
   "execution_count": 25,
   "metadata": {},
   "outputs": [],
   "source": [
    "def mySum(num): \n",
    "    running_sum = 0 \n",
    "    for i in range(1, num+1): \n",
    "        running_sum += i\n",
    "    return running_sum\n",
    "\n",
    "# Para definir la función mySum(), comenzamos la suma continua -running_sum- en 0. Luego configuramos un rango de valores para i, desde 1 hasta num. ¡Ten en cuenta que range(1,num) no incluirá num en sí mismo! Luego agregamos i a la suma acumulada después de cada bucle. Cuando el bucle haya terminado, debería devuelve el valor de la suma acumulada."
   ]
  },
  {
   "cell_type": "code",
   "execution_count": 31,
   "metadata": {},
   "outputs": [
    {
     "name": "stdout",
     "output_type": "stream",
     "text": [
      "55\n",
      "5050\n"
     ]
    }
   ],
   "source": [
    "print(mySum(10))\n",
    "print(mySum(100))"
   ]
  },
  {
   "cell_type": "markdown",
   "metadata": {},
   "source": [
    "Para resolver la suma de nuestro problema sigma más difícil de antes, simplemente podemos cambiar el loop para ir de 0 a 20 (incluido 20) y agregar el cuadrado de i más 1 en cada ciclo\n",
    "$$\\sum_{i=0}^{20}n^2 + 1$$"
   ]
  },
  {
   "cell_type": "code",
   "execution_count": 32,
   "metadata": {},
   "outputs": [],
   "source": [
    "def mySum2(num): \n",
    "    running_sum = 0 \n",
    "    for i in range(num+1): \n",
    "        running_sum += i**2 + 1\n",
    "    return running_sum"
   ]
  },
  {
   "cell_type": "code",
   "execution_count": 34,
   "metadata": {},
   "outputs": [
    {
     "data": {
      "text/plain": [
       "8"
      ]
     },
     "execution_count": 34,
     "metadata": {},
     "output_type": "execute_result"
    }
   ],
   "source": [
    "mySum2(2)"
   ]
  },
  {
   "cell_type": "markdown",
   "metadata": {},
   "source": [
    "EXERCISE 2­1: FINDING THE SUM \n",
    "\n",
    "Find the sum of all the numbers from 1 to 100. How about from 1 to 1,000? See a pattern?"
   ]
  },
  {
   "cell_type": "markdown",
   "metadata": {},
   "source": [
    "##### CÓMO ENCONTRAR EL PROMEDIO DE UNA LISTA DE NÚMEROS\n",
    "\n",
    "Ahora que tenemos algunas habilidades nuevas, mejoremos nuestra función promedio. Podemos escribir una función que use listas para encontrar el promedio de cualquier lista de números, sin que tengamos que especificar cuántos hay.\n",
    "En la clase de matemáticas aprendemos que para encontrar el promedio de un grupo de números, dividimos la suma de esos números por cuántos números hay. En Python puedes usar un función llamada sum() para sumar todos los números en una lista, así:"
   ]
  },
  {
   "cell_type": "code",
   "execution_count": 38,
   "metadata": {},
   "outputs": [
    {
     "data": {
      "text/plain": [
       "34"
      ]
     },
     "execution_count": 38,
     "metadata": {},
     "output_type": "execute_result"
    }
   ],
   "source": [
    "sum([8,11,15])"
   ]
  },
  {
   "cell_type": "markdown",
   "metadata": {},
   "source": [
    "Ahora solo tenemos que averiguar la cantidad de elementos en la lista. En la función media() que escribimos anteriormente, sabíamos que solo había dos números. Pero ¿y si hay más? Afortunadamente, podemos usar la función len() para contar la cantidad de elementos en una lista. Aquí hay un ejemplo:"
   ]
  },
  {
   "cell_type": "code",
   "execution_count": 39,
   "metadata": {},
   "outputs": [
    {
     "data": {
      "text/plain": [
       "3"
      ]
     },
     "execution_count": 39,
     "metadata": {},
     "output_type": "execute_result"
    }
   ],
   "source": [
    "len([8,11,15])"
   ]
  },
  {
   "cell_type": "code",
   "execution_count": 40,
   "metadata": {},
   "outputs": [],
   "source": [
    "def media2(numList):\n",
    "    return sum(numList) / len(numList)"
   ]
  },
  {
   "cell_type": "code",
   "execution_count": 41,
   "metadata": {},
   "outputs": [
    {
     "data": {
      "text/plain": [
       "11.333333333333334"
      ]
     },
     "execution_count": 41,
     "metadata": {},
     "output_type": "execute_result"
    }
   ],
   "source": [
    "media2([8,11,15])"
   ]
  },
  {
   "cell_type": "code",
   "execution_count": 42,
   "metadata": {},
   "outputs": [],
   "source": [
    "d = [53, 28, 54, 84, 65, 60, 22, 93, 62, 27, 16, 25, 74, 42, 4, 42, 15, 96, 11, 70, 83, 97, 75]"
   ]
  },
  {
   "cell_type": "markdown",
   "metadata": {},
   "source": [
    "¿Cómo encontramos la media de esta lista de números?"
   ]
  },
  {
   "cell_type": "code",
   "execution_count": null,
   "metadata": {},
   "outputs": [],
   "source": []
  }
 ],
 "metadata": {
  "kernelspec": {
   "display_name": "Python 3.10.5 ('venv': venv)",
   "language": "python",
   "name": "python3"
  },
  "language_info": {
   "codemirror_mode": {
    "name": "ipython",
    "version": 3
   },
   "file_extension": ".py",
   "mimetype": "text/x-python",
   "name": "python",
   "nbconvert_exporter": "python",
   "pygments_lexer": "ipython3",
   "version": "3.10.5"
  },
  "orig_nbformat": 4,
  "vscode": {
   "interpreter": {
    "hash": "4a84144fe2cb265f9f8b9cb7eee296bb55be74236409e7953caddf9ce61ef878"
   }
  }
 },
 "nbformat": 4,
 "nbformat_minor": 2
}
