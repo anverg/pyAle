{
 "cells": [
  {
   "cell_type": "markdown",
   "metadata": {},
   "source": [
    "# CURSO de PYTHON"
   ]
  },
  {
   "cell_type": "code",
   "execution_count": 1,
   "metadata": {},
   "outputs": [
    {
     "name": "stdout",
     "output_type": "stream",
     "text": [
      "Mi primer programa suma dos números, 2 y 3:\n",
      "5\n",
      "112\n",
      "Mi primer programa suma dos números, 2 y 3: 2 + 3\n",
      "Mi primer programa suma dos números, 2 y 3: 5\n"
     ]
    }
   ],
   "source": [
    "print(\"Mi primer programa suma dos números, 2 y 3:\")\n",
    "print(2 + 3)\n",
    "print((5 + 9) * (15 - 7))\n",
    "print(\"Mi primer programa suma dos números, 2 y 3: 2 + 3\")\n",
    "print(\"Mi primer programa suma dos números, 2 y 3:\", 2 + 3)"
   ]
  },
  {
   "cell_type": "code",
   "execution_count": null,
   "metadata": {},
   "outputs": [],
   "source": [
    "# COMENTARIOS\n",
    "# Esto es un comentario de línea\n",
    "'''Esto es un comentario\n",
    "que abarca varias líneas'''"
   ]
  },
  {
   "cell_type": "code",
   "execution_count": null,
   "metadata": {},
   "outputs": [],
   "source": [
    "print(2 * 3)"
   ]
  },
  {
   "cell_type": "markdown",
   "metadata": {},
   "source": [
    "##  VALORES\n",
    "Un valor es una de las cosas fundamentales que un programa manipula — como una letra o un número.\n",
    "Estos valores pertenecen a diferente clases (class) o tipos: 4 es un entero, y \"¡Hola, todo el mundo!\" es una cadena , llamada así porque contiene una cadena de letras. Las cadenas (str) están encerradas entre comillas, que pueden ser dobles \"\" o sencillas ''."
   ]
  },
  {
   "cell_type": "code",
   "execution_count": null,
   "metadata": {},
   "outputs": [],
   "source": [
    "print(type('Hola'))\n",
    "print(type(2))\n",
    "print(type(2.3))"
   ]
  },
  {
   "cell_type": "markdown",
   "metadata": {},
   "source": [
    "##  VARIABLES\n",
    "Podemos guardar valores en variables para reutilizarlos tan a menudo como queramos: Una variable es un nombre que se refiere a un valor.\n",
    "El tipo de una variable es el tipo del valor al que se refiere.\n",
    "\n",
    "Usamos las variables en un programa para “recordar” las cosas. Sin embargo, las variables son variables. Esto significa que pueden cambiar con el tiempo. Se puede asignar un valor a una variable, y luego asignar un valor diferente a la misma variable.'''\n",
    "\n",
    "### Cómo denominar a las variables\n",
    "Nombres de variables válidos en Python debe ajustarse a las siguientes tres simples reglas:\n",
    "\n",
    "    - Son secuencias arbitrariamente largas de letras y dígitos.\n",
    "    - La secuencia debe empezar con una letra.\n",
    "    - Además de a..z, y A..Z, el guión bajo (_) es una letra.\n",
    "\n",
    "Los programadores generalmente escogen nombres significativos para sus variables — que especifiquen para qué se usa la variable.\n",
    "\n",
    "En python hay palabras reservadas que no se pueden usar como variables"
   ]
  },
  {
   "cell_type": "code",
   "execution_count": 3,
   "metadata": {},
   "outputs": [
    {
     "name": "stdout",
     "output_type": "stream",
     "text": [
      "\n",
      "Here is a list of the Python keywords.  Enter any keyword to get more help.\n",
      "\n",
      "False               class               from                or\n",
      "None                continue            global              pass\n",
      "True                def                 if                  raise\n",
      "and                 del                 import              return\n",
      "as                  elif                in                  try\n",
      "assert              else                is                  while\n",
      "async               except              lambda              with\n",
      "await               finally             nonlocal            yield\n",
      "break               for                 not                 \n",
      "\n"
     ]
    }
   ],
   "source": [
    "help('keywords')"
   ]
  },
  {
   "cell_type": "code",
   "execution_count": 4,
   "metadata": {},
   "outputs": [
    {
     "name": "stdout",
     "output_type": "stream",
     "text": [
      "Class definitions\n",
      "*****************\n",
      "\n",
      "A class definition defines a class object (see section The standard\n",
      "type hierarchy):\n",
      "\n",
      "   classdef    ::= [decorators] \"class\" classname [inheritance] \":\" suite\n",
      "   inheritance ::= \"(\" [argument_list] \")\"\n",
      "   classname   ::= identifier\n",
      "\n",
      "A class definition is an executable statement.  The inheritance list\n",
      "usually gives a list of base classes (see Metaclasses for more\n",
      "advanced uses), so each item in the list should evaluate to a class\n",
      "object which allows subclassing.  Classes without an inheritance list\n",
      "inherit, by default, from the base class \"object\"; hence,\n",
      "\n",
      "   class Foo:\n",
      "       pass\n",
      "\n",
      "is equivalent to\n",
      "\n",
      "   class Foo(object):\n",
      "       pass\n",
      "\n",
      "The class’s suite is then executed in a new execution frame (see\n",
      "Naming and binding), using a newly created local namespace and the\n",
      "original global namespace. (Usually, the suite contains mostly\n",
      "function definitions.)  When the class’s suite finishes execution, its\n",
      "execution frame is discarded but its local namespace is saved. [3] A\n",
      "class object is then created using the inheritance list for the base\n",
      "classes and the saved local namespace for the attribute dictionary.\n",
      "The class name is bound to this class object in the original local\n",
      "namespace.\n",
      "\n",
      "The order in which attributes are defined in the class body is\n",
      "preserved in the new class’s \"__dict__\".  Note that this is reliable\n",
      "only right after the class is created and only for classes that were\n",
      "defined using the definition syntax.\n",
      "\n",
      "Class creation can be customized heavily using metaclasses.\n",
      "\n",
      "Classes can also be decorated: just like when decorating functions,\n",
      "\n",
      "   @f1(arg)\n",
      "   @f2\n",
      "   class Foo: pass\n",
      "\n",
      "is roughly equivalent to\n",
      "\n",
      "   class Foo: pass\n",
      "   Foo = f1(arg)(f2(Foo))\n",
      "\n",
      "The evaluation rules for the decorator expressions are the same as for\n",
      "function decorators.  The result is then bound to the class name.\n",
      "\n",
      "**Programmer’s note:** Variables defined in the class definition are\n",
      "class attributes; they are shared by instances.  Instance attributes\n",
      "can be set in a method with \"self.name = value\".  Both class and\n",
      "instance attributes are accessible through the notation “\"self.name\"”,\n",
      "and an instance attribute hides a class attribute with the same name\n",
      "when accessed in this way.  Class attributes can be used as defaults\n",
      "for instance attributes, but using mutable values there can lead to\n",
      "unexpected results.  Descriptors can be used to create instance\n",
      "variables with different implementation details.\n",
      "\n",
      "See also:\n",
      "\n",
      "  **PEP 3115** - Metaclasses in Python 3000\n",
      "     The proposal that changed the declaration of metaclasses to the\n",
      "     current syntax, and the semantics for how classes with\n",
      "     metaclasses are constructed.\n",
      "\n",
      "  **PEP 3129** - Class Decorators\n",
      "     The proposal that added class decorators.  Function and method\n",
      "     decorators were introduced in **PEP 318**.\n",
      "\n",
      "Related help topics: CLASSES, SPECIALMETHODS\n",
      "\n"
     ]
    }
   ],
   "source": [
    "help('class')"
   ]
  },
  {
   "cell_type": "code",
   "execution_count": 2,
   "metadata": {},
   "outputs": [
    {
     "name": "stdout",
     "output_type": "stream",
     "text": [
      "Juanita\n",
      "Juanita\n",
      "Juanita\n",
      "17\n",
      "3.14159\n"
     ]
    }
   ],
   "source": [
    "print('Juanita')\n",
    "nombre = 'Juanita'\n",
    "num = 17\n",
    "pi = 3.14159\n",
    "print(nombre)\n",
    "print(nombre)\n",
    "print(num)\n",
    "print(pi)"
   ]
  },
  {
   "cell_type": "markdown",
   "metadata": {},
   "source": [
    "## STRINGS\n",
    "Son trozos de texto o secuencias de caracteres que puedes definir usando comillas sencillas, dobles o triples (siempre que el inicio y el final sean del mismo tipo). La triples se usan para strings multilínea"
   ]
  },
  {
   "cell_type": "code",
   "execution_count": 5,
   "metadata": {},
   "outputs": [
    {
     "name": "stdout",
     "output_type": "stream",
     "text": [
      "Esta es una\n",
      "      frase que se extiende en múltiples líneas\n",
      "            y que mantiene los espacios en blanco\n",
      "<class 'str'>\n",
      "Hola\n",
      "Bienvenido\n",
      "Yo dije: \"Este es un mensaje 😉\"\n"
     ]
    }
   ],
   "source": [
    "saludo = 'Hola'\n",
    "bienvenida = \"Bienvenido\"\n",
    "mensaje = 'Yo dije: \"Este es un mensaje 😉\"'\n",
    "\n",
    "print('''Esta es una\n",
    "      frase que se extiende en múltiples líneas\n",
    "            y que mantiene los espacios en blanco''')\n",
    "\n",
    "\n",
    "print(type(saludo))\n",
    "\n",
    "print(saludo)\n",
    "print(bienvenida)\n",
    "print(mensaje)"
   ]
  },
  {
   "cell_type": "markdown",
   "metadata": {},
   "source": [
    "## Unir strings y variables"
   ]
  },
  {
   "cell_type": "code",
   "execution_count": 6,
   "metadata": {},
   "outputs": [
    {
     "name": "stdout",
     "output_type": "stream",
     "text": [
      "HolaYo dije: \"Este es un mensaje 😉\"\n",
      "Hola, Yo dije: \"Este es un mensaje 😉\"\n",
      "Hola, Yo dije: \"Este es un mensaje 😉\"\n",
      "Hola, Yo dije: \"Este es un mensaje 😉\"\n"
     ]
    }
   ],
   "source": [
    "print(saludo + mensaje)\n",
    "print(saludo + ', ' + mensaje)\n",
    "print('{0}, {1}'.format(saludo, mensaje))\n",
    "print(f'{saludo}, {mensaje}') # f-string Python 3.6 y superior"
   ]
  },
  {
   "cell_type": "code",
   "execution_count": null,
   "metadata": {},
   "outputs": [],
   "source": [
    "n = 3\n",
    "m = 4\n",
    "# 3 x 4 es 12\n"
   ]
  },
  {
   "cell_type": "markdown",
   "metadata": {},
   "source": [
    "### --> Ejercicios\n",
    "1. Crea un objeto float llamado peso con el valor 0.2 y crea un objeto string llamado animal con el valor \"tritón\". Imprime lo siguiente usando sólo +: 0.2 kg es el peso del tritón\n",
    "2. Muestra la misma cadena usando el método .format()\n",
    "3. Igual con f-string"
   ]
  },
  {
   "cell_type": "markdown",
   "metadata": {},
   "source": [
    "## Built-in functions\n",
    "### Manipulando strings con métodos\n",
    "Los métodos son funciones especiales que se usan para manipular strings"
   ]
  },
  {
   "cell_type": "code",
   "execution_count": 8,
   "metadata": {},
   "outputs": [
    {
     "name": "stdout",
     "output_type": "stream",
     "text": [
      "uno, dos, tres\n"
     ]
    }
   ],
   "source": [
    "# Unir strings\n",
    "\n",
    "a = \"uno\"\n",
    "b = \"dos\"\n",
    "c = \"tres\"\n",
    "print(\", \".join([a, b, c]))\n",
    "\n",
    "# El punto (.) le dice a python que lo que sigue es el nombre de un método"
   ]
  },
  {
   "cell_type": "code",
   "execution_count": 9,
   "metadata": {},
   "outputs": [
    {
     "name": "stdout",
     "output_type": "stream",
     "text": [
      "FELIZ CUMPLEAÑOS\n",
      "feliz cumpleaños\n",
      "Feliz Cumpleaños\n",
      "Feliz cumpleaños\n"
     ]
    }
   ],
   "source": [
    "# Mayúsculas y minúsculas\n",
    "\n",
    "feliz_cumple = \"Feliz cumpleaños\"\n",
    "print(feliz_cumple.upper())\n",
    "print(feliz_cumple.lower())\n",
    "print(feliz_cumple.title())\n",
    "print(feliz_cumple.capitalize())"
   ]
  },
  {
   "cell_type": "code",
   "execution_count": null,
   "metadata": {},
   "outputs": [],
   "source": [
    "# Longitud de la cadena\n",
    "\n",
    "print(len('Vamos a contar mentiras tralará')) # Los espacios cuentan como caracteres"
   ]
  },
  {
   "cell_type": "markdown",
   "metadata": {},
   "source": [
    "### --> Ejercicio: ¿Cómo imprimirías \"La frase Vamos a contar mentiras tralará\" tiene 31 caracteres?"
   ]
  },
  {
   "cell_type": "markdown",
   "metadata": {},
   "source": [
    "### String indexing: Cómo obtener los caracteres de una cadena de texto"
   ]
  },
  {
   "cell_type": "code",
   "execution_count": 10,
   "metadata": {},
   "outputs": [
    {
     "name": "stdout",
     "output_type": "stream",
     "text": [
      "9\n",
      "a\n"
     ]
    },
    {
     "ename": "IndexError",
     "evalue": "string index out of range",
     "output_type": "error",
     "traceback": [
      "\u001b[1;31m---------------------------------------------------------------------------\u001b[0m",
      "\u001b[1;31mIndexError\u001b[0m                                Traceback (most recent call last)",
      "\u001b[1;32m<ipython-input-10-8300286e46b9>\u001b[0m in \u001b[0;36m<module>\u001b[1;34m\u001b[0m\n\u001b[0;32m      3\u001b[0m \u001b[0mprint\u001b[0m\u001b[1;33m(\u001b[0m\u001b[0mlen\u001b[0m\u001b[1;33m(\u001b[0m\u001b[0msabor\u001b[0m\u001b[1;33m)\u001b[0m\u001b[1;33m)\u001b[0m\u001b[1;33m\u001b[0m\u001b[1;33m\u001b[0m\u001b[0m\n\u001b[0;32m      4\u001b[0m \u001b[0mprint\u001b[0m\u001b[1;33m(\u001b[0m\u001b[0msabor\u001b[0m\u001b[1;33m[\u001b[0m\u001b[1;36m0\u001b[0m\u001b[1;33m]\u001b[0m\u001b[1;33m)\u001b[0m\u001b[1;33m\u001b[0m\u001b[1;33m\u001b[0m\u001b[0m\n\u001b[1;32m----> 5\u001b[1;33m \u001b[0mprint\u001b[0m\u001b[1;33m(\u001b[0m\u001b[0msabor\u001b[0m\u001b[1;33m[\u001b[0m\u001b[1;36m18\u001b[0m\u001b[1;33m]\u001b[0m\u001b[1;33m)\u001b[0m\u001b[1;33m\u001b[0m\u001b[1;33m\u001b[0m\u001b[0m\n\u001b[0m",
      "\u001b[1;31mIndexError\u001b[0m: string index out of range"
     ]
    }
   ],
   "source": [
    "sabor = 'apple pie'\n",
    "\n",
    "print(len(sabor))\n",
    "print(sabor[0])\n",
    "print(sabor[18])"
   ]
  },
  {
   "cell_type": "markdown",
   "metadata": {},
   "source": [
    "### Slice notation\n"
   ]
  },
  {
   "cell_type": "code",
   "execution_count": 11,
   "metadata": {},
   "outputs": [
    {
     "name": "stdout",
     "output_type": "stream",
     "text": [
      "app\n"
     ]
    }
   ],
   "source": [
    "# Supongamos que necesitamos los 3 primeros caracteres de la cadena \"apple pie\"\n",
    "primeras_tres_letras = sabor[0] + sabor [1] + sabor [2]\n",
    "print(primeras_tres_letras)"
   ]
  },
  {
   "cell_type": "code",
   "execution_count": null,
   "metadata": {},
   "outputs": [],
   "source": [
    "print(sabor[0:3])"
   ]
  },
  {
   "cell_type": "markdown",
   "metadata": {},
   "source": [
    "|a|p|p|l|e| |p|i|e|\n",
    "\n",
    " 0 1 2 3 4 5 6 7 8 9"
   ]
  },
  {
   "cell_type": "code",
   "execution_count": null,
   "metadata": {},
   "outputs": [],
   "source": [
    "print(sabor[:])"
   ]
  },
  {
   "cell_type": "markdown",
   "metadata": {},
   "source": [
    "|a|p|p|l|e| |p|i|e|\n",
    " \n",
    "-9-8-7-6-5-4-3-2-1"
   ]
  },
  {
   "cell_type": "code",
   "execution_count": null,
   "metadata": {},
   "outputs": [],
   "source": [
    "print(sabor[-1])"
   ]
  },
  {
   "cell_type": "code",
   "execution_count": null,
   "metadata": {},
   "outputs": [],
   "source": [
    "print(sabor[-9:-6])"
   ]
  },
  {
   "cell_type": "markdown",
   "metadata": {},
   "source": [
    "### --> Ejercicio: guarda la \"u\" de \"feliz cumpleaños\" en una variable. \n",
    "### --> Ejercicio: guarda \"años\" de \"feliz cumpleaños\" en una variable. "
   ]
  },
  {
   "cell_type": "code",
   "execution_count": null,
   "metadata": {},
   "outputs": [],
   "source": [
    "# Podemos añadir un tercer parámetro para indicar cada cuantos caracteres queremos la nueva cadena\n",
    "print(sabor[0:5:2])"
   ]
  },
  {
   "cell_type": "markdown",
   "metadata": {},
   "source": [
    "### --> Ejercicio: crea una nueva variable a partir de feliz_cumple en la que el texto esté en mayúsculas. Crea una variable con tu nombre y, a partir de ahí, la frase \"Feliz cumpleaños Toni\""
   ]
  },
  {
   "cell_type": "markdown",
   "metadata": {},
   "source": [
    "### Quitar espacios en blanco de una cadena:\n",
    "\n",
    "1. .rstrip() los quita de la parte derecha de la cadena\n",
    "\n",
    "2. .lstrip() los quita de la parte izquierda de la cadena\n",
    "\n",
    "3. .strip() los quita de ambos lados"
   ]
  },
  {
   "cell_type": "code",
   "execution_count": 12,
   "metadata": {},
   "outputs": [],
   "source": [
    "nombre_1 = 'Jean.luc Picard       '\n",
    "nombre_2 = '      Jean.luc Picard'\n",
    "nombre_3 = '      Jean.luc Picard       '"
   ]
  },
  {
   "cell_type": "markdown",
   "metadata": {},
   "source": [
    "### --> Ejercicio: quita los espacios de las tres variables anteriores"
   ]
  },
  {
   "cell_type": "markdown",
   "metadata": {},
   "source": [
    "### Determinar si una cadena empieza o termina con un carácter determinado"
   ]
  },
  {
   "cell_type": "code",
   "execution_count": 13,
   "metadata": {},
   "outputs": [
    {
     "name": "stdout",
     "output_type": "stream",
     "text": [
      "False\n",
      "True\n"
     ]
    }
   ],
   "source": [
    "starship = 'Enterprise'\n",
    "print(starship.startswith('en'))\n",
    "print(starship.endswith('rise'))"
   ]
  },
  {
   "cell_type": "markdown",
   "metadata": {},
   "source": [
    "### Strings son inmutables, es decir, no se pueden cambiar una vez que se han creado"
   ]
  },
  {
   "cell_type": "code",
   "execution_count": 14,
   "metadata": {},
   "outputs": [
    {
     "ename": "TypeError",
     "evalue": "'str' object does not support item assignment",
     "output_type": "error",
     "traceback": [
      "\u001b[1;31m---------------------------------------------------------------------------\u001b[0m",
      "\u001b[1;31mTypeError\u001b[0m                                 Traceback (most recent call last)",
      "\u001b[1;32m<ipython-input-14-c5473b075513>\u001b[0m in \u001b[0;36m<module>\u001b[1;34m\u001b[0m\n\u001b[1;32m----> 1\u001b[1;33m \u001b[0msabor\u001b[0m\u001b[1;33m[\u001b[0m\u001b[1;36m0\u001b[0m\u001b[1;33m]\u001b[0m \u001b[1;33m=\u001b[0m \u001b[1;34m'A'\u001b[0m\u001b[1;33m\u001b[0m\u001b[1;33m\u001b[0m\u001b[0m\n\u001b[0m\u001b[0;32m      2\u001b[0m \u001b[0mprint\u001b[0m\u001b[1;33m(\u001b[0m\u001b[0msabor\u001b[0m\u001b[1;33m)\u001b[0m\u001b[1;33m\u001b[0m\u001b[1;33m\u001b[0m\u001b[0m\n",
      "\u001b[1;31mTypeError\u001b[0m: 'str' object does not support item assignment"
     ]
    }
   ],
   "source": [
    "sabor[0] = 'A'\n",
    "print(sabor)"
   ]
  },
  {
   "cell_type": "code",
   "execution_count": null,
   "metadata": {},
   "outputs": [],
   "source": [
    "# La mayoría de los métodos que modifican una cadena, como .upper() y .lower(), en realidad devuelven copias de la cadena original con las modificaciones pertinentes. Por ello, debemos de tener cuidado de no cometer errores. \n",
    "nombre = 'Pedro'\n",
    "print(nombre.upper())\n",
    "print(nombre)"
   ]
  },
  {
   "cell_type": "code",
   "execution_count": null,
   "metadata": {},
   "outputs": [],
   "source": [
    "# Cuando llamamos el método nombre.upper() nada cambia en realidad en la cadena nombre. Si queremos conservar el resultado tenemos que asignarlo a una variable (de la misma o diferente denominación)\n",
    "nombre = nombre.upper()\n",
    "print(nombre)"
   ]
  },
  {
   "cell_type": "markdown",
   "metadata": {},
   "source": [
    "### --> EJERCICIOS\n",
    "\n",
    "1. Crea una cadena e imprime su longitud con la función len()\n",
    "2. Crea dos cadenas, únelas e imprime la cadena resultante\n",
    "3. Crea dos variables que contengan cadenas, imprime una de ellas después de la otra usando una coma con el comando print()\n",
    "4. Repite el ejercicio 3 pero en lugar de usar comas en print() usa concatenación para añadir espacio entre las dos cadenas\n",
    "5. Imprime la cadena \"zing\" usando slice notation sobre la cadena \"bazinga\" para especificar el rango correcto de caracteres\n",
    "6. Escribe el código que convierte las siguientes cadenas a minúsculas: \"Animales\", \"Tejón\", \"Oso Hormiguero\"\n",
    "7. Repite el ejercicio 1 pero convierte cada cadena a mayúsculas\n",
    "8. Escribe el código para quitar los espacios en blanco de las siguientes cadenas:\n",
    "cadena1 = \"     Filete Empanado\"\n",
    "cadena2 = \"Solomillo     \"\n",
    "cadena3 = \"    Hamburguesa      \"\n",
    "Imprime las cadenas sin los espacios en blanco\n",
    "9. Escribe el código que imprima el resultado de .startswith(\"be\") en cada una de las siguientes cadenas:\n",
    "cadena1 = \"Becomes\"\n",
    "cadena2 = \"becomes\"\n",
    "cadena3 = \"BEAR\"\n",
    "cadena4 = \"  bEautiful\"\n",
    "10. Usando las mismas 4 cadenas del ejercicio anterior, escribe el código que use el método para alterar cada cadena de forma que .startswith(\"be\") devuelve True para todos ellos"
   ]
  },
  {
   "cell_type": "markdown",
   "metadata": {},
   "source": [
    "## Interactuar con el usuario (Input)\n",
    "Hay una función integrada en Python para obtener la entrada (input) del usuario"
   ]
  },
  {
   "cell_type": "code",
   "execution_count": null,
   "metadata": {},
   "outputs": [],
   "source": [
    "nombre = input (\"Por favor entre su nombre: \") # Lo que hay dentro del paréntesis y entre comillas se conoce como prompt y puede ser lo que se quiera: una palabra, un símbolo o una frase\n",
    "print('Tu nombre es ' + nombre)\n",
    "\n",
    "respuesta = input('¿Cuál es el radio de la circunferencia?: ')\n",
    "r = float(respuesta)\n",
    "area = pi * r**2\n",
    "print(\"El área es\", area)\n",
    "\n",
    "# Formatear un texto\n",
    "print(f'El área es {area} cm2')"
   ]
  },
  {
   "cell_type": "markdown",
   "metadata": {},
   "source": [
    "### --> Ejercicios\n",
    "1. Escribe un script que tome un input del usuario y lo imprima\n",
    "2. Escribe un script que tome un input del usuario y lo muestre en mayúsculas\n",
    "3. Escribe un script que tome un input del usuario y muestre el número de caracteres que tiene\n",
    "4. Escribe un script que pida al usuario que introduzca un palabra en minúsculas. El script debe determinar la primera letra de la contraseña introducida por el usuario, convertirla a mayúsculas y mostrarla\n"
   ]
  },
  {
   "cell_type": "markdown",
   "metadata": {},
   "source": [
    "### Encontrar una cadena dentro de otra cadena"
   ]
  },
  {
   "cell_type": "code",
   "execution_count": null,
   "metadata": {},
   "outputs": [],
   "source": [
    "frase = 'La sorpresa está aquí en algún sitio'\n",
    "print(frase.find('sorpresa'))\n",
    "print(frase.find('aquí'))\n",
    "print(frase.find('Sorpresa'))\n",
    "print('La sorpresa está aquí en algún sitio'.find('sorpresa'))"
   ]
  },
  {
   "cell_type": "code",
   "execution_count": null,
   "metadata": {},
   "outputs": [],
   "source": [
    "# Si la cadena aparece más de una vez, sólo devuelve la primera aparición\n",
    "print('Hubo una vez una ballena verde'.find('una'))"
   ]
  },
  {
   "cell_type": "code",
   "execution_count": null,
   "metadata": {},
   "outputs": [],
   "source": [
    "# .find() sólo acepta cadenas como input\n",
    "print('Mi número es 555-555-5555'.find(5))"
   ]
  },
  {
   "cell_type": "code",
   "execution_count": null,
   "metadata": {},
   "outputs": [],
   "source": [
    "# Reemplazar strings\n",
    "str1 = 'Te digo la verdad, sólo la verdad'\n",
    "print(str1.replace('la verdad', 'mentiras'))\n",
    "# Como strings son inmutables, .replace() no altera str1. Para cambiarla, hace falta asignarla a una nueva variable\n",
    "print(str1)\n",
    "str2 = str1.replace('la verdad', 'mentirijillas')\n",
    "print(str2)\n",
    "# Para reemplazar muchas cadenas podemos unir .replace() todas las veces que queramos\n",
    "texto = 'all'\n",
    "nuevo_texto = texto.replace('a', 'b')\n",
    "nuevo_texto = nuevo_texto.replace('l', 'e')\n",
    "# nuevo_texto = texto.replace('a', 'b').replace('l', 'e')\n",
    "print(nuevo_texto)"
   ]
  },
  {
   "cell_type": "markdown",
   "metadata": {},
   "source": [
    "### --> Ejercicio\n",
    "Escribe un script que pida al usuario introducir algún texto con el siguiente prompt: 'Escribe algún texto: '. A continuación, uso el método .replace() para convertir el texto introducido por el usuario en escritura \"leet\" haciendo los siguientes cambios en las letras minúsculas:\n",
    "- La letra a se convierte en 4\n",
    "- La letra b se convierte en 8\n",
    "- La letra e se convierte en 3\n",
    "- La letra l se convierte en 1\n",
    "- La letra o se convierte en 0\n",
    "- La letra s se convierte en 5\n",
    "- La letra t se convierte en 7\n",
    "\n",
    "Muestra el resultado con print()"
   ]
  },
  {
   "cell_type": "markdown",
   "metadata": {},
   "source": [
    "## STRINGS Y NÚMEROS\n",
    "\n",
    "- Integer: Números enteros sin lugares decimales (int)\n",
    "- Floating-point: números con decimales (float)\n",
    "- Complex: números con una parte real y una parte imaginaria (complex)"
   ]
  },
  {
   "cell_type": "code",
   "execution_count": null,
   "metadata": {},
   "outputs": [],
   "source": [
    "# ¿Que pasa si usamos * con dos cadenas?\n",
    "print('12' * 3)\n",
    "# ¿Y si sumamos una cadena y un número?\n",
    "print(\"3\" + '3')"
   ]
  },
  {
   "cell_type": "code",
   "execution_count": null,
   "metadata": {},
   "outputs": [],
   "source": [
    "# Convertir cadenas a números\n",
    "num1 = '3'\n",
    "print(type(num1))\n",
    "num2 = '4.78'\n",
    "# print(int(num2))\n",
    "print(type(int(num1)))\n",
    "# print(int(num2)) # Floating-points números siempre tienen al menos un decimal, por ello no se puede cambiar una cadena que parece un floating-point número en un entero porque se perdería todo lo que hay después del decimal\n",
    "print(float(num1))\n",
    "print(float(num2))"
   ]
  },
  {
   "cell_type": "code",
   "execution_count": null,
   "metadata": {},
   "outputs": [],
   "source": [
    "# Convertir números en cadenas\n",
    "numero = 10\n",
    "comidos = 4\n",
    "print('Me voy a comer ' + str(numero) + ' pasteles')\n",
    "print('Me voy a comer ' + str(numero) + ' pasteles')\n",
    "print('Me voy a comer ' + str(25) + ' pasteles')\n",
    "print('Me voy a comer ' + str(numero - comidos) + ' pasteles')"
   ]
  },
  {
   "cell_type": "markdown",
   "metadata": {},
   "source": [
    "Los operadores pueden ser números o variables que contienen números\n",
    "\n",
    "### --> Ejercicio: crea dos variables que contengan 127 y 42 y calcula el resto de la división entre ellos\n",
    "\n",
    "### --> Ejercicio: \n",
    "- Convierte 9 a float\n",
    "- Convierte \"2\" a float\n",
    "- Convierte 6.5 a integer\n",
    "- ¿Cómo trunca int los decimales, hacia arriba o hacia abajo?\n",
    "- Crea una cadena y un número entero, muéstralos uno al lado del otro con print() usando la función str()\n",
    "- Escribe un script que obtenga 2 números del usuario usando la función input() dos veces, multiplique los números y muestre el resultado.Si el usuario introduce 2 y 4 tu programa debe imprimir: El producto de 2 y 4 es 8.0."
   ]
  },
  {
   "cell_type": "code",
   "execution_count": null,
   "metadata": {},
   "outputs": [],
   "source": [
    "print(10.0.is_integer())\n",
    "print(10.2.is_integer())"
   ]
  },
  {
   "cell_type": "code",
   "execution_count": null,
   "metadata": {},
   "outputs": [],
   "source": [
    "# Python usa notación científica para mostrar floating-points muy largos\n",
    "print(2000000000000000000.0)\n",
    "print(1e-4) # Esto es interpretado como 10 elevado a la potencia -4, lo cual es 1/10000 o 0.0001"
   ]
  },
  {
   "cell_type": "code",
   "execution_count": null,
   "metadata": {},
   "outputs": [],
   "source": [
    "# Los floating-point números se pueden crear de 3 maneras\n",
    "print(1000000.0)\n",
    "print(1_000_000.0)\n",
    "print(1e6)"
   ]
  },
  {
   "cell_type": "code",
   "execution_count": null,
   "metadata": {},
   "outputs": [],
   "source": [
    "# A diferencia de los enteros, los floats tienen un tamaña máximo. Depende del ordenador pero 2e400 debería ser el tamaño máximo para la mayoría\n",
    "print(2e400) # inf significa infinito, es decir, el número que se intenta crear es mayor que el máximo floating-point permitido al ordenador \n",
    "print(2e300)"
   ]
  },
  {
   "cell_type": "markdown",
   "metadata": {},
   "source": [
    "### Operaciones Aritméticas"
   ]
  },
  {
   "cell_type": "code",
   "execution_count": null,
   "metadata": {},
   "outputs": [],
   "source": [
    "# Operadores aritméticos\n",
    "# Suma (recuerda que el operador + concatena dos cadenas juntas: \"2\" + \"2\" = \"22\")\n",
    "print('7 + 8:', 7 + 8)\n",
    "print('7.3 + 8:', 7.3 + 8)\n",
    "\n",
    "# Resta\n",
    "print('10 - 6:', 10 - 6)\n",
    "\n",
    "# Multiplicación (recuerda que una cadena puede ser multiplicada por un número entero: \"12\" * 3 = \"121212\")\n",
    "print('8 * 9:', 8 * 9)\n",
    "\n",
    "# División\n",
    "print('5 / 3:', 5 / 3)\n",
    "\n",
    "# Floor division o Integer division (devuelve el cociente entero de la división)\n",
    "print('5 // 3:', 5 // 3)\n",
    "\n",
    "# Modulus (devuelve el resto de la división)\n",
    "print('5 % 3:', 5 % 3)\n",
    "\n",
    "# Potencia\n",
    "print('5 ** 3:', 5 ** 3)"
   ]
  },
  {
   "cell_type": "markdown",
   "metadata": {},
   "source": [
    "### Expresiones Aritméticas"
   ]
  },
  {
   "cell_type": "code",
   "execution_count": null,
   "metadata": {},
   "outputs": [],
   "source": [
    "# Las reglas de precedencia son las mismas que en aritmética\n",
    "\n",
    "print(2 * 3 - 1) # 5\n",
    "print(4 / 2 + 2**3) # 10.0\n",
    "print(-1 + (-3*2+4)) # -3"
   ]
  },
  {
   "cell_type": "markdown",
   "metadata": {},
   "source": [
    "### --> Ejercicio\n",
    "Escribe un script que reciba dos números del usuario y muestre el primer número elevado a la potencia del segundo número (ten en cuenta que lo que devuelve input es siempre un string)\n",
    "\n",
    "Ejemplo:\n",
    "\n",
    "Introduce la base: 1.2\n",
    "\n",
    "Introduce el exponente: 3\n",
    "\n",
    "1.2 elevado a la potencia de 3 = 1.7279999999999998"
   ]
  },
  {
   "cell_type": "code",
   "execution_count": null,
   "metadata": {},
   "outputs": [],
   "source": [
    "# Cuidado con los floating-points\n",
    "print(3.3 + 6.6)\n",
    "print(0.1 + 0.2)"
   ]
  },
  {
   "cell_type": "markdown",
   "metadata": {},
   "source": [
    "### Funciones matemáticas y Métodos en Números"
   ]
  },
  {
   "cell_type": "code",
   "execution_count": null,
   "metadata": {},
   "outputs": [],
   "source": [
    "# round()\n",
    "print(round(2.3))\n",
    "print(round(2.7))\n",
    "print(round(2.5)) # comportamiento no esperado\n",
    "print(round(3.5))\n",
    "print(round(4.5))"
   ]
  },
  {
   "cell_type": "code",
   "execution_count": null,
   "metadata": {},
   "outputs": [],
   "source": [
    "print(round(3.14159, 3))\n",
    "print(round(2.71828, 2)) # el segundo parámetro tiene que ser un número entero\n",
    "print(round(2.755, 2))"
   ]
  },
  {
   "cell_type": "code",
   "execution_count": null,
   "metadata": {},
   "outputs": [],
   "source": [
    "# abs() Devuelve el valor absoluto de un número\n",
    "print(abs(3))\n",
    "print(abs(-5.0))"
   ]
  },
  {
   "cell_type": "code",
   "execution_count": null,
   "metadata": {},
   "outputs": [],
   "source": [
    "# pow() Antes hemos visto que para elevar un número a una potencia podemos usar el operador **. También podemos usar pow()\n",
    "pow(2, 3)\n",
    "# pow(2, 3, 2) es equivalente a (2 ** 3) % 2"
   ]
  },
  {
   "cell_type": "markdown",
   "metadata": {},
   "source": [
    "### --> Ejercicios\n",
    "\n",
    "1. Write a program that asks the user to input a number and then displays that number rounded to two decimal places. When run, your program should look like this:\n",
    "Enter a number: 5.432\n",
    "5.432 rounded to 2 decimal places is 5.43\n",
    "2. Write a program that asks the user to input a number and then displays the absolute value of that number. When run, your program should look like this:\n",
    "Enter a number: -10\n",
    "The absolute value of -10 is 10.0\n",
    "3. Write a program that asks the user to input two numbers by using input() twice, then displays whether the difference between those two numbers is an integer. When run, your program should look like this:\n",
    "Enter a number: 1.5\n",
    "Enter another number: .5\n",
    "The difference between 1.5 and .5 is an integer? True!\n",
    "If the user inputs two numbers whose difference is not integral, then the output should look like this:\n",
    "Enter a number: 1.5\n",
    "Enter another number: 1.0\n",
    "The difference between 1.5 and 1.0 is an integer? False!"
   ]
  },
  {
   "cell_type": "markdown",
   "metadata": {},
   "source": [
    "## Módulos\n",
    "Paquetes de herramientas adicionales que importamos para usarlas"
   ]
  },
  {
   "cell_type": "code",
   "execution_count": null,
   "metadata": {},
   "outputs": [],
   "source": [
    "import math\n",
    "math.pi"
   ]
  },
  {
   "cell_type": "code",
   "execution_count": null,
   "metadata": {},
   "outputs": [],
   "source": [
    "print(math.sqrt(15))\n",
    "print(15**0.5)"
   ]
  },
  {
   "cell_type": "code",
   "execution_count": null,
   "metadata": {},
   "outputs": [],
   "source": [
    "import random\n",
    "random.random()"
   ]
  },
  {
   "cell_type": "code",
   "execution_count": null,
   "metadata": {},
   "outputs": [],
   "source": [
    "random.choice([1, 2, 3, 4, 5])"
   ]
  },
  {
   "cell_type": "markdown",
   "metadata": {},
   "source": [
    "## BOOLEANS (verdadero o falso)"
   ]
  },
  {
   "cell_type": "code",
   "execution_count": null,
   "metadata": {},
   "outputs": [],
   "source": [
    "True\n",
    "False\n",
    "type(True), type(False)"
   ]
  },
  {
   "cell_type": "markdown",
   "metadata": {},
   "source": [
    "### Operadores de comparación:\n",
    "~~~\n",
    "1. <\n",
    "2. >\n",
    "3. <=\n",
    "4. >= \n",
    "5. == \n",
    "6. !=\n",
    "~~~"
   ]
  },
  {
   "cell_type": "code",
   "execution_count": null,
   "metadata": {},
   "outputs": [],
   "source": [
    "print('2 < 5:', 2 < 5)\n",
    "print('4 > 10:', 4 > 10)\n",
    "print('4 <= 3:', 4 <= 3)\n",
    "print('3 >= 3:', 3 >= 3)\n",
    "print('5 == 6:',5 == 6)\n",
    "print('6 != 9:', 6 != 9)\n",
    "print('a == a:', 'a' == 'a')\n",
    "print('a < a:', 'a' < 'a')\n",
    "print('manzana < mañana:', 'manzana' < 'mañana')\n",
    "print('Manzana' == 'manzana')\n",
    "print('Mañana' < 'manzana')\n",
    "print('A' > 'a')"
   ]
  },
  {
   "cell_type": "code",
   "execution_count": null,
   "metadata": {},
   "outputs": [],
   "source": [
    "print(int(False))\n",
    "print(int(True))\n",
    "print('Zanahora' < 'antonio')"
   ]
  },
  {
   "cell_type": "markdown",
   "metadata": {},
   "source": [
    "### --> Ejercicio\n",
    "- 1 <= 1\n",
    "- 1 != 1\n",
    "- 1 != 2\n",
    "- 'good' != 'bad'\n",
    "- 'good' != 'Good'\n",
    "- 123 == '123'\n",
    "\n",
    "Por cada una de las siguients expresiones, rellena los espacios con el comparador apropiado\n",
    "- 3 ___ 4\n",
    "- 10 ___ 5\n",
    "- 'jack' ___ 'jill'\n",
    "- 42 ___ '42'"
   ]
  },
  {
   "cell_type": "markdown",
   "metadata": {},
   "source": [
    "## Lógica"
   ]
  },
  {
   "cell_type": "markdown",
   "metadata": {},
   "source": [
    "### And"
   ]
  },
  {
   "cell_type": "markdown",
   "metadata": {},
   "source": [
    "True and True -> True\n",
    "\n",
    "True and False -> False\n",
    "\n",
    "False and True -> False\n",
    "\n",
    "False and False -> False\n"
   ]
  },
  {
   "cell_type": "code",
   "execution_count": null,
   "metadata": {},
   "outputs": [],
   "source": [
    "print(1 < 2 and 3 < 4)  # Both are True\n",
    "print(2 < 1 and 4 < 3)  # Both are False\n",
    "print(1 < 2 and 4 < 3)  # Second statement is False\n",
    "print(2 < 1 and 3 < 4)  # First statement is False"
   ]
  },
  {
   "cell_type": "markdown",
   "metadata": {},
   "source": [
    "### Or"
   ]
  },
  {
   "cell_type": "markdown",
   "metadata": {},
   "source": [
    "True or True -> True\n",
    "\n",
    "True or False -> True\n",
    "\n",
    "False or True -> True\n",
    "\n",
    "False or False -> False"
   ]
  },
  {
   "cell_type": "code",
   "execution_count": null,
   "metadata": {},
   "outputs": [],
   "source": [
    "print(1 < 2 or 3 < 4)  # Both are True\n",
    "print(2 < 1 or 4 < 3)  # Both are False\n",
    "print(1 < 2 or 4 < 3)  # Second statement is False\n",
    "print(2 < 1 or 3 < 4)  # First statement is False"
   ]
  },
  {
   "cell_type": "markdown",
   "metadata": {},
   "source": [
    "### Not"
   ]
  },
  {
   "cell_type": "code",
   "execution_count": null,
   "metadata": {},
   "outputs": [],
   "source": [
    "print(not True)\n",
    "print(not False)"
   ]
  },
  {
   "cell_type": "code",
   "execution_count": null,
   "metadata": {},
   "outputs": [],
   "source": [
    "True and False == True and False"
   ]
  },
  {
   "cell_type": "code",
   "execution_count": null,
   "metadata": {},
   "outputs": [],
   "source": [
    "False == True"
   ]
  },
  {
   "cell_type": "markdown",
   "metadata": {},
   "source": [
    "### Orden de preferencia de operadores\n",
    "- <, <=, ==, >=, >\n",
    "- not\n",
    "- and\n",
    "- or"
   ]
  },
  {
   "cell_type": "code",
   "execution_count": null,
   "metadata": {},
   "outputs": [],
   "source": [
    "True and not (1 != 1)"
   ]
  },
  {
   "cell_type": "code",
   "execution_count": null,
   "metadata": {},
   "outputs": [],
   "source": [
    "print(('A' != 'A') or not (2 >=3))"
   ]
  },
  {
   "cell_type": "markdown",
   "metadata": {},
   "source": [
    "### --> Ejercicios"
   ]
  },
  {
   "cell_type": "markdown",
   "metadata": {},
   "source": [
    "1. Figure out what the result will be (True or False) when evaluating the following expressions, then type them into the interactive window to check your answers:\n",
    "\n",
    "- (1 <= 1) and (1 != 1)\n",
    "- not (1 != 2)\n",
    "- (\"good\" != \"bad\") or False\n",
    "- (\"good\" != \"Good\") and not (1 == 1)\n",
    "\n",
    "2. Add parentheses where necessary so that each of the following expressions evaluates to True:\n",
    "\n",
    "- False == not True\n",
    "- True and False == True and False\n",
    "- not True and \"A\" == \"B\""
   ]
  },
  {
   "cell_type": "markdown",
   "metadata": {},
   "source": [
    "## Control de flujo en un programa"
   ]
  },
  {
   "cell_type": "markdown",
   "metadata": {},
   "source": [
    "### if\n",
    "Ejecuta una porción de código sólo si se cumple cierta condición"
   ]
  },
  {
   "cell_type": "code",
   "execution_count": null,
   "metadata": {},
   "outputs": [],
   "source": [
    "if 2 + 3 == 4:\n",
    "    print('2 más 2 suman 4')"
   ]
  },
  {
   "cell_type": "code",
   "execution_count": null,
   "metadata": {},
   "outputs": [],
   "source": [
    "nota = 9\n",
    "if nota >= 5:\n",
    "    print('Has aprobado el examen')\n",
    "print('Gracias por asistir a clase')"
   ]
  },
  {
   "cell_type": "markdown",
   "metadata": {},
   "source": [
    "### else"
   ]
  },
  {
   "cell_type": "code",
   "execution_count": null,
   "metadata": {},
   "outputs": [],
   "source": [
    "nota = 6\n",
    "if nota >= 5:\n",
    "    print('Has aprobado el examen')\n",
    "else:\n",
    "    print('Lo siento, has suspendido')\n",
    "print('Gracias por asistir a clase')"
   ]
  },
  {
   "cell_type": "markdown",
   "metadata": {},
   "source": [
    "### elif"
   ]
  },
  {
   "cell_type": "code",
   "execution_count": null,
   "metadata": {},
   "outputs": [],
   "source": [
    "nota = 9\n",
    "actitud = 'B'\n",
    "if nota >= 9 and actitud == 'A':\n",
    "    print('Has sacado una matrícula')\n",
    "elif nota >= 9:\n",
    "    print('Has sacado un sobresaliente')\n",
    "elif nota >= 7:\n",
    "    print('Has sacado un notable')\n",
    "elif nota >= 6:\n",
    "    print('Has sacado un bien')\n",
    "elif nota >= 5:\n",
    "    print('Has sacado un aprobado')\n",
    "else:\n",
    "    print('Lo siento, has suspendido')\n",
    "print('Gracias por asistir a clase')"
   ]
  },
  {
   "cell_type": "markdown",
   "metadata": {},
   "source": [
    "### if anidados"
   ]
  },
  {
   "cell_type": "code",
   "execution_count": null,
   "metadata": {},
   "outputs": [],
   "source": [
    "sport = input(\"Baloncesto o golf?: \")\n",
    "p1_score = int(input(\"Puntuación del jugador 1: \"))\n",
    "p2_score = int(input(\"Puntuación del jugador 2: \"))\n",
    "\n",
    "# 1\n",
    "if sport.lower() == \"baloncesto\":\n",
    "    if p1_score == p2_score:\n",
    "        print(\"Ha habido un empate.\")\n",
    "    elif p1_score > p2_score:\n",
    "        print(\"El jugador 1 gana.\")\n",
    "    else:\n",
    "        print(\"El jugador 2 gana.\")\n",
    "# 2\n",
    "elif sport.lower() == \"golf\":\n",
    "    if p1_score == p2_score:\n",
    "        print(\"Ha habido un empate.\")\n",
    "    elif p1_score < p2_score:\n",
    "        print(\"El jugador 1 gana.\")\n",
    "    else:\n",
    "        print(\"El jugador 2 gana.\")\n",
    "# 3\n",
    "else:\n",
    "    print(\"Deporte desconocido\")"
   ]
  },
  {
   "cell_type": "code",
   "execution_count": null,
   "metadata": {},
   "outputs": [],
   "source": [
    "sport = input(\"Baloncesto o golf?: \")\n",
    "p1_score = int(input(\"Puntuación del jugador 1: \"))\n",
    "p2_score = int(input(\"Puntuación del jugador 2: \"))\n",
    "\n",
    "if p1_score == p2_score:\n",
    "    print(\"Ha habido un empate.\")\n",
    "\n",
    "elif sport.lower() == \"baloncesto\":\n",
    "    if p1_score > p2_score:\n",
    "        print(\"El jugador 1 gana.\")\n",
    "    else:\n",
    "        print(\"El jugador 2 gana.\")\n",
    "\n",
    "elif sport.lower() == \"golf\":\n",
    "    if p1_score < p2_score:\n",
    "        print(\"El jugador 1 gana.\")\n",
    "    else:\n",
    "        print(\"El jugador 2 gana.\")\n",
    "\n",
    "else:\n",
    "    print(\"Deporte desconocido\")"
   ]
  },
  {
   "cell_type": "code",
   "execution_count": 3,
   "metadata": {},
   "outputs": [
    {
     "name": "stdout",
     "output_type": "stream",
     "text": [
      "p1_wins_bball False\n",
      "p1_wins_golf False\n",
      "El jugador 2 gana.\n"
     ]
    }
   ],
   "source": [
    "sport = input(\"Baloncesto o golf?: \")\n",
    "p1_score = int(input(\"Puntuación del jugador 1: \"))\n",
    "p2_score = int(input(\"Puntuación del jugador 2: \"))\n",
    "\n",
    "sport = sport.lower()\n",
    "if p1_score == p2_score:\n",
    "    print(\"Ha habido un empate.\")\n",
    "elif (sport == \"baloncesto\") or (sport == \"golf\"):\n",
    "    p1_wins_bball = (sport == \"baloncesto\") and (p1_score > p2_score)\n",
    "    print(f'p1_wins_bball {p1_wins_bball}')\n",
    "    p1_wins_golf = (sport == \"golf\") and (p1_score < p2_score)\n",
    "    print(f'p1_wins_golf {p1_wins_golf}')\n",
    "    p1_wins = p1_wins_bball or p1_wins_golf\n",
    "    # print(f'pl_wins {pl_wins}')\n",
    "    if p1_wins:\n",
    "        print(\"El jugador 1 gana.\")\n",
    "    else:\n",
    "        print(\"El jugador 2 gana.\")\n",
    "else:\n",
    "    print(\"Deporte desconocido\")"
   ]
  },
  {
   "cell_type": "markdown",
   "metadata": {},
   "source": [
    "### --> Ejercicios\n",
    "1. Write a program that prompts the user to enter a word using the input() function and compares the length of the word to the number five. The program should display one of the following outputs, depending on the length of the user’s input:\n",
    "\n",
    "- \"Your input is less than 5 characters long\"\n",
    "- \"Your input is greater than 5 characters long\"\n",
    "- \"Your input is 5 characters long\"\n",
    "\n",
    "2. Write a program that displays \"I'm thinking of a number between 1 and 10. Guess which one.\" Then use input() to get a number from the user. If the user inputs the number 3, then the program should display \"You win!\" For any other input, the program should display \"You lose.\""
   ]
  },
  {
   "cell_type": "markdown",
   "metadata": {},
   "source": [
    "## Iteraciones o bucles (loops)\n",
    "- while loops\n",
    "- for loops"
   ]
  },
  {
   "cell_type": "code",
   "execution_count": 15,
   "metadata": {},
   "outputs": [
    {
     "name": "stdout",
     "output_type": "stream",
     "text": [
      "Levantar peso repetición 1\n",
      "Levantar peso repetición 2\n",
      "Levantar peso repetición 3\n",
      "Levantar peso repetición 4\n",
      "Levantar peso repetición 5\n",
      "Levantar peso repetición 6\n",
      "Levantar peso repetición 7\n",
      "Levantar peso repetición 8\n",
      "Levantar peso repetición 9\n",
      "Levantar peso repetición 10\n"
     ]
    }
   ],
   "source": [
    "print('Levantar peso repetición 1')\n",
    "print('Levantar peso repetición 2')\n",
    "print('Levantar peso repetición 3')\n",
    "print('Levantar peso repetición 4')\n",
    "print('Levantar peso repetición 5')\n",
    "print('Levantar peso repetición 6')\n",
    "print('Levantar peso repetición 7')\n",
    "print('Levantar peso repetición 8')\n",
    "print('Levantar peso repetición 9')\n",
    "print('Levantar peso repetición 10')"
   ]
  },
  {
   "cell_type": "markdown",
   "metadata": {},
   "source": [
    "### while loops\n",
    "Los bucles while repiten una sección de código mientras alguna condición es verdadera. Hay dos partes para cada ciclo while:\n",
    "\n",
    "1. La instrucción while comienza con la palabra clave while, seguida de una condición de prueba y termina con dos puntos (:).\n",
    "2. El cuerpo del bucle contiene el código que se repite en cada paso del bucle. Cada línea tiene cuatro espacios de sangrado.\n",
    "\n",
    "Cuando Python ejecuta un ciclo while, evalúa la condición de prueba y determina si es verdadera o falsa. Si la condición de prueba es verdadera, Python ejecuta el código en el cuerpo del bucle y regresa para verificar la condición de prueba nuevamente. De lo contrario, omite el código en el cuerpo y ejecuta el resto del programa."
   ]
  },
  {
   "cell_type": "code",
   "execution_count": null,
   "metadata": {},
   "outputs": [],
   "source": [
    "n = 1\n",
    "while n < 5:\n",
    "    print(n)\n",
    "    n = n + 1"
   ]
  },
  {
   "cell_type": "code",
   "execution_count": null,
   "metadata": {},
   "outputs": [],
   "source": [
    "# Hay que tener cuidado con lo while loops porque pueden crear un bucle infinito\n",
    "# n = 1\n",
    "# while n < 5:\n",
    "    # print(n)"
   ]
  },
  {
   "cell_type": "code",
   "execution_count": null,
   "metadata": {},
   "outputs": [],
   "source": [
    "# Escribe las repeticiones de peso anteriores on un bucle while"
   ]
  },
  {
   "cell_type": "markdown",
   "metadata": {},
   "source": [
    "### for loops\n",
    "Un bucle for ejecuta una sección de código una vez para cada elemento de una colección de elementos. El número de veces que se ejecuta el código está determinado por el número de elementos de la colección.\n",
    "\n",
    "Al igual que el bucle while, el bucle for tiene dos partes principales:\n",
    "\n",
    "1. La instrucción for comienza con la palabra clave for, seguida de una expresión de pertenencia y termina en dos puntos (:).\n",
    "2. El cuerpo del bucle contiene el código que se ejecutará en cada paso del bucle. Cada línea tiene cuatro espacios sangrados."
   ]
  },
  {
   "cell_type": "code",
   "execution_count": 16,
   "metadata": {},
   "outputs": [
    {
     "name": "stdout",
     "output_type": "stream",
     "text": [
      "Levantar peso repetición 1\n",
      "Levantar peso repetición 2\n",
      "Levantar peso repetición 3\n",
      "Levantar peso repetición 4\n",
      "Levantar peso repetición 5\n",
      "Levantar peso repetición 6\n",
      "Levantar peso repetición 7\n",
      "Levantar peso repetición 8\n",
      "Levantar peso repetición 9\n",
      "Levantar peso repetición 10\n"
     ]
    }
   ],
   "source": [
    "for numero in range(10):\n",
    "    print(f'Levantar peso repetición {numero+1}')"
   ]
  },
  {
   "cell_type": "code",
   "execution_count": 17,
   "metadata": {},
   "outputs": [
    {
     "name": "stdout",
     "output_type": "stream",
     "text": [
      "P\n",
      "y\n",
      "t\n",
      "h\n",
      "o\n",
      "n\n"
     ]
    }
   ],
   "source": [
    "for i in 'Python':\n",
    "    print(i)"
   ]
  },
  {
   "cell_type": "code",
   "execution_count": 18,
   "metadata": {},
   "outputs": [
    {
     "name": "stdout",
     "output_type": "stream",
     "text": [
      "10 100\n",
      "11 121\n",
      "12 144\n",
      "13 169\n",
      "14 196\n",
      "15 225\n",
      "16 256\n",
      "17 289\n",
      "18 324\n",
      "19 361\n",
      "0.5\n",
      "1.0\n",
      "1.5\n",
      "4.0\n"
     ]
    }
   ],
   "source": [
    "for i in range(10, 20):\n",
    "    print(i, i**2)\n",
    "for i in [1, 2, 3, 8]:\n",
    "    print(i/2)"
   ]
  },
  {
   "cell_type": "code",
   "execution_count": null,
   "metadata": {},
   "outputs": [],
   "source": [
    "cantidad = float(input('Introduce una cantidad :'))\n",
    "for num_personas in range(2, 6):\n",
    "    print(f'{num_personas} personas: tocan a {round(cantidad / num_personas, 2)}€')"
   ]
  },
  {
   "cell_type": "markdown",
   "metadata": {},
   "source": [
    "### Loops anidados"
   ]
  },
  {
   "cell_type": "code",
   "execution_count": 19,
   "metadata": {},
   "outputs": [
    {
     "name": "stdout",
     "output_type": "stream",
     "text": [
      "i = 1 y j = 4\n",
      "i = 1 y j = 5\n",
      "i = 1 y j = 6\n",
      "i = 2 y j = 4\n",
      "i = 2 y j = 5\n",
      "i = 2 y j = 6\n",
      "i = 3 y j = 4\n",
      "i = 3 y j = 5\n",
      "i = 3 y j = 6\n"
     ]
    }
   ],
   "source": [
    "for i in range(1, 4):\n",
    "    for j in range(4, 7):\n",
    "        print(f'i = {i} y j = {j}')"
   ]
  },
  {
   "cell_type": "markdown",
   "metadata": {},
   "source": [
    "### --> Ejercicios\n",
    "1. Write a for loop that prints out the integers 2 through 10, each on a new line, using range().\n",
    "\n",
    "2. Write a while loop that prints out the integers 2 through 10. (Hint: You’ll need to create a new integer first.)\n",
    "\n",
    "3. Write a function called doubles() that takes a number as its input and doubles it. Then use doubles() in a loop to double the number 2 three times, displaying each result on a separate line. Here’s some sample output:\n",
    "\n",
    "4\n",
    "8\n",
    "16\n"
   ]
  },
  {
   "cell_type": "markdown",
   "metadata": {},
   "source": [
    "## if Statements y for Loops\n",
    "El bloque de código en un for loop es como cualquier otro bloque de código, lo que significa que se puede anidar un if statement en un for loop"
   ]
  },
  {
   "cell_type": "code",
   "execution_count": null,
   "metadata": {},
   "outputs": [],
   "source": [
    "sum_of_evens = 0\n",
    "\n",
    "for n in range(101):\n",
    "    if n % 2 == 0:\n",
    "        sum_of_evens = sum_of_evens + n\n",
    "        print(sum_of_evens)\n",
    "\n",
    "print(sum_of_evens)"
   ]
  },
  {
   "cell_type": "markdown",
   "metadata": {},
   "source": [
    "### break\n",
    "break le dice a python que interrumpa la iteración"
   ]
  },
  {
   "cell_type": "code",
   "execution_count": null,
   "metadata": {},
   "outputs": [],
   "source": [
    "# Este código se repite sobre los números 0 a 3, pero se para cuando encuentra el número 2\n",
    "for n in range(4):\n",
    "    if n == 3:\n",
    "        break\n",
    "    print(n)\n",
    "\n",
    "print(f\"Finished with n = {n}\")"
   ]
  },
  {
   "cell_type": "markdown",
   "metadata": {},
   "source": [
    "### continue\n",
    "Se utiliza para saltar una iteración y continuar con la/s siguiente/s"
   ]
  },
  {
   "cell_type": "code",
   "execution_count": null,
   "metadata": {},
   "outputs": [],
   "source": [
    "for i in range(5):\n",
    "    if i == 2:\n",
    "        continue\n",
    "    print(i)\n",
    "\n",
    "print(f\"Finished with i = {i}\")"
   ]
  },
  {
   "cell_type": "markdown",
   "metadata": {},
   "source": [
    "### --> Ejercicios\n",
    "1. Using break, write a program that repeatedly asks the user for some input and quits only if the user enters \"q\" or \"Q\".\n",
    "2. Using continue, write a program that loops over the numbers 1 to 50 and prints all numbers that are not multiples of 3."
   ]
  },
  {
   "cell_type": "markdown",
   "metadata": {},
   "source": [
    "## Funciones\n",
    "Las funciones son valores que pueden ser asignados a una variable\n",
    "Hay dos tipos de funciones:\n",
    "- Built-in functions\n",
    "- Custom functions"
   ]
  },
  {
   "cell_type": "code",
   "execution_count": null,
   "metadata": {},
   "outputs": [],
   "source": [
    "print(len)"
   ]
  },
  {
   "cell_type": "code",
   "execution_count": null,
   "metadata": {},
   "outputs": [],
   "source": [
    "# Para llamar o ejecutar una función, necesitamos paréntesis\n",
    "print(len())"
   ]
  },
  {
   "cell_type": "markdown",
   "metadata": {},
   "source": [
    "Un argumento es un valor que se pasa a la función como input (entrada). Algunas funciones se pueden llamar sin argumentos y otras pueden aceptar tantos argumentos como queramos. len () requiere exactamente un argumento.\n",
    "Cuando una función termina de ejecutarse, devuelve un valor como output (salida). El valor de retorno por lo general, pero no siempre, depende de los valores de los argumentos pasados ​​a la función.\n",
    "\n",
    "El proceso para ejecutar una función se puede resumir en tres pasos:\n",
    "\n",
    "1. Se llama a la función y los argumentos se pasan a la función como entrada.\n",
    "2. La función se ejecuta y se realiza alguna acción con los argumentos.\n",
    "3. La función devuelve un valor y la llamada a la función original se reemplaza con el valor de retorno.\n"
   ]
  },
  {
   "cell_type": "code",
   "execution_count": null,
   "metadata": {},
   "outputs": [],
   "source": [
    "print(len('cuatro'))\n",
    "num_letras = len('cuatro')\n",
    "print(num_letras)"
   ]
  },
  {
   "cell_type": "markdown",
   "metadata": {},
   "source": [
    "### Cómo escribir nuestras propias funciones\n",
    "Cada función tiene dos partes:\n",
    "\n",
    "1. La declaración de la función define el nombre de la función y las entradas (argumentos) que espera.\n",
    "2. El cuerpo de la función contiene el código que se ejecuta cada vez que se utiliza la función."
   ]
  },
  {
   "cell_type": "code",
   "execution_count": 2,
   "metadata": {},
   "outputs": [
    {
     "name": "stdout",
     "output_type": "stream",
     "text": [
      "Hola Antonio\n",
      "None\n"
     ]
    }
   ],
   "source": [
    "def di_hola():\n",
    "    print('Hola Antonio')\n",
    "\n",
    "# Para poder usar una función tenemos que llamarla\n",
    "\n",
    "# Añadiendo parámetros\n",
    "a = di_hola()\n",
    "print(a)\n",
    "# Todas las funciones en Python devuelven un valor, incluso si ese valor es Ninguno. Sin embargo, no todas las funciones necesitan una declaración de retorno."
   ]
  },
  {
   "cell_type": "code",
   "execution_count": null,
   "metadata": {},
   "outputs": [],
   "source": [
    "def multiplicar(x, y): # def + nombre de la función (multiplicar) + lista de parámetros (x, y) + : \n",
    "    product = x * y # código que se ejecuta cuando ejecutamos la función\n",
    "    return product # valor que devuelve la función\n",
    "    print(f'El producto de {x} e {y} es {producto}')\n",
    "\n",
    "# Cuando Python lee una línea que comienza con la palabra clave def, crea una nueva función. La función se asigna a una variable con el mismo nombre que el nombre de la función.\n",
    "# Dado que los nombres de las funciones se convierten en variables, deben seguir las mismas reglas para los nombres de las variables.\n",
    "\n",
    "# Por lo tanto, el nombre de una función solo puede contener números, letras y guiones bajos, y no debe comenzar con un número."
   ]
  },
  {
   "cell_type": "code",
   "execution_count": null,
   "metadata": {},
   "outputs": [],
   "source": [
    "multiplicar(2, 5)"
   ]
  },
  {
   "cell_type": "code",
   "execution_count": null,
   "metadata": {},
   "outputs": [],
   "source": [
    "help(len)"
   ]
  },
  {
   "cell_type": "code",
   "execution_count": null,
   "metadata": {},
   "outputs": [],
   "source": [
    "help(multiplicar)"
   ]
  },
  {
   "cell_type": "code",
   "execution_count": 1,
   "metadata": {},
   "outputs": [
    {
     "data": {
      "text/plain": [
       "46.656000000000006"
      ]
     },
     "execution_count": 1,
     "metadata": {},
     "output_type": "execute_result"
    }
   ],
   "source": [
    "# Vamos a escribir una función llamada cubo() que tome un parámetro numérico y devuelva el valor de ese número elevado a la tercera potencia.\n",
    "def cubo(josué):\n",
    "    '''devuelve el valor de un número x elevado a la tercera potencia'''\n",
    "    r = josué**3\n",
    "    return r\n",
    "cubo(3.6)\n"
   ]
  },
  {
   "cell_type": "markdown",
   "metadata": {},
   "source": [
    "### --> Ejercicio\n",
    "Escribe un programa que defina dos funciones:\n",
    "\n",
    "1. convert_cel_to_far (), que tenga un parámetro float que represente grados Celsius y devuelva un float que represente la misma temperatura en grados Fahrenheit usando la siguiente fórmula:\n",
    "F = C * 9/5 + 32\n",
    "2. convert_far_to_cel (), que tenga un parámetro float que represente grados Fahrenheit y devuelve un float que represente la misma temperatura en grados Celsius usando la siguiente fórmula:\n",
    "C = (F - 32) * 5/9\n",
    "\n",
    "El programa debe hacer lo siguiente:\n",
    "\n",
    "1. Indicar (con input) al usuario que ingrese una temperatura en grados Fahrenheit y luego muestre la temperatura convertida a Celsius\n",
    "2. Indicar al usuario que ingrese una temperatura en grados Celsius y luego muestre la temperatura convertida a Fahrenheit\n",
    "3. Mostrar todas las temperaturas convertidas redondeadas a dos decimales\n",
    "\n",
    "Un ejemplo sería:\n",
    "\n",
    "Ingrese una temperatura en grados F: 72\n",
    "\n",
    "72 grados F = 22,22 grados C\n",
    "\n",
    "Ingrese una temperatura en grados C: 37\n",
    "\n",
    "37 grados C = 98,60 grados F"
   ]
  },
  {
   "cell_type": "markdown",
   "metadata": {},
   "source": [
    "## Simulación de eventos y cálculo de probabilidades\n",
    "Vamos a ejecutar una simulación simple conocida como experimento de Monte Carlo. Cada experimento consiste en una prueba, que es solo un proceso que se puede repetir, como lanzar una moneda. Cada prueba genera un resultado, como caer con cara o cruz. La prueba se repite una y otra vez para calcular la probabilidad de que se produzca un resultado determinado.\n"
   ]
  },
  {
   "cell_type": "markdown",
   "metadata": {},
   "source": [
    "### Módulo random\n",
    "Python proporciona varias funciones para generar números aleatorios en el módulo random. Un módulo es una colección de código relacionado. La biblioteca estándar de Python es una colección organizada de módulos que puede importar a su propio código para resolver varios problemas.\n",
    "\n"
   ]
  },
  {
   "cell_type": "code",
   "execution_count": null,
   "metadata": {},
   "outputs": [],
   "source": [
    "import random # con esto podemos usar funciones del módulo random en nuestro código\n",
    "\n",
    "random.randint(1, 10) # Dado que randint () se encuentra en el módulo aleatorio,debemos escribir random seguido de un punto (.) Y luego el nombre de la función para poder usarlo."
   ]
  },
  {
   "cell_type": "markdown",
   "metadata": {},
   "source": [
    "### Monedas equilibradas\n",
    "Veamos cómo usar randint () para simular lanzar una moneda al aire que tiene la misma probabilidad de caer en cara o cruz.\n",
    "\n",
    "Una prueba para este experimento será un solo lanzamiento de moneda. El resultado será cara o cruz. La pregunta es: en muchos lanzamientos de monedas, ¿cuál es la proporción de cara a cruz?\n",
    "\n",
    "Pensemos en cómo solucionar este problema. Vamos a realizar un seguimiento de cuántas veces obtenemos cara y cruz, por lo que necesitanos un recuento de caras y un recuento de cruces. Cada prueba tiene dos pasos:\n",
    "\n",
    "1. Lanzar la moneda.\n",
    "2. Si la moneda cae en cara, actualizar el recuento de caras. De lo contrario, la moneda cayó en cruz, así que tenemos que actualizar el recuento de cruces.\n",
    "\n",
    "Necesitamos repetir la prueba muchas veces, digamos diez mil. Un bucle for sobre rango (10.000) es una buena opción para hacer algo así.\n",
    "\n",
    "Ahora que tenemos un plan, podemos comenzar escribiendo una función llamada coin_flip () que devuelve aleatoriamente la cadena \"cara\" o la cadena \"cruz\". Vamos a hacer esto usando random.randint (0, 1). Podemos usar 0 para cara y 1 para cruz.\n",
    "\n"
   ]
  },
  {
   "cell_type": "code",
   "execution_count": null,
   "metadata": {},
   "outputs": [],
   "source": [
    "# 1. Definimos la función tirar_moneda\n",
    "import random\n",
    "def coin_flip():\n",
    "    if random.randint(0,1) == 0:\n",
    "        return 'Cara'\n",
    "    else:\n",
    "        return 'Cruz'\n",
    "\n",
    "coin_flip()\n",
    "numcaras = 0\n",
    "numcruces = 0\n",
    "x = 6789\n",
    "for i in range(x):\n",
    "    if coin_flip() == 'Cara':\n",
    "        numcaras = numcaras + 1\n",
    "    else:\n",
    "        numcruces = numcruces + 1\n",
    "\n",
    "print('Han salido ' + str(numcaras) + ' Caras y ' + str(numcruces) + ' Cruces')\n",
    "print('El porcentaje de caras ha sido de ' + str(numcaras/x))\n",
    "print('El porentaje de cruces ha sido de ' + str(1-(numcaras/x)))"
   ]
  },
  {
   "cell_type": "code",
   "execution_count": null,
   "metadata": {},
   "outputs": [],
   "source": [
    "# 2. Escribimos un bucle for que tira la moneda 10.000 veces y actualiza el contador de caras y cruces\n",
    "\n"
   ]
  },
  {
   "cell_type": "code",
   "execution_count": null,
   "metadata": {},
   "outputs": [],
   "source": [
    "# 3. Imprimimos el ratio de caras y cruces\n",
    "\n"
   ]
  },
  {
   "cell_type": "markdown",
   "metadata": {},
   "source": [
    "### Monedas no equilibradas\n",
    "randint () devuelve un 0 o un 1 con la misma probabilidad. Si 0 representa cruz y 1 representa cara, entonces para simular una moneda desequilibrada, necesitamos una forma de aumentar la probabilidad de devolver 0 o 1.\n",
    "\n",
    "La función random() no toma argumentos y devuelve un número de tipo float mayor o igual que 0.0 pero menor que 1.0. Cada valor de retorno posible es igualmente probable. En teoría de la probabilidad, esto se conoce como distribución de probabilidad uniforme.\n",
    "\n",
    "Una consecuencia de esto es que, dado un número n entre 0 y 1, la probabilidad de que random() devuelva un número menor que n es simplemente n. Por ejemplo, la probabilidad de que random() sea menor que .8 es .8 y la probabilidad de que random() sea menor que .25 es .25.\n"
   ]
  },
  {
   "cell_type": "code",
   "execution_count": null,
   "metadata": {},
   "outputs": [],
   "source": [
    "# Usando este hecho, podemos escribir una función que simule un lanzamiento de moneda pero devuelva cruz con una probabilidad específica: tirar_moneda_des\n",
    "\n"
   ]
  },
  {
   "cell_type": "code",
   "execution_count": null,
   "metadata": {},
   "outputs": [],
   "source": [
    "# Reescribimos el experimento (loop) usando ahora esta nueva función\n",
    "\n"
   ]
  },
  {
   "cell_type": "code",
   "execution_count": null,
   "metadata": {},
   "outputs": [],
   "source": [
    "# Vemos cuál es el nuevo ratio\n",
    "\n"
   ]
  },
  {
   "cell_type": "markdown",
   "metadata": {},
   "source": [
    "## --> Ejercicio: Simular un experimento de lanzamiento de monedas\n",
    "Supón que lanzas una moneda equilibrada repetidamente hasta que cae en cara y cruz al menos una vez cada una. Es decir, después del primer lanzamiento, continúas lanzando la moneda hasta que caiga en el otro lado.\n",
    "\n",
    "Hacer esto genera una secuencia de caras y cruces. Por ejemplo, la primera vez que realizas este experimento, la secuencia puede ser cara, cara, cruz.\n",
    "\n",
    "En promedio, ¿cuántos giros se necesitan para que la secuencia contenga cara y cruz?\n",
    "\n",
    "Escribe una simulación que ejecute diez mil ensayos del experimento e imprima el número promedio de lanzamientos de la moneda por ensayo.\n",
    "\n",
    "CONSEJOS:\n",
    "\n",
    "Éste ejercicio es complicado de estructurar correctamente. Intenta escribir la lógica antes empiezas a escribir el código. Algunos consejos adicionales si estás atascado:\n",
    "\n",
    "1. Necesitarás utilizar un bucle \"for\" en una serie de pruebas.\n",
    "2. Para cada prueba, primero debes verificar el resultado del primer lanzamiento.\n",
    "3. Asegúrate de agregar el primer giro al número total de giros.\n",
    "4. Después del primer lanzamiento, necesitarás otro bucle para seguir tirando la moneda mientras obtienes el mismo resultado que el primer lanzamiento."
   ]
  },
  {
   "cell_type": "code",
   "execution_count": null,
   "metadata": {},
   "outputs": [],
   "source": [
    "import random\n",
    "\n",
    "def coin_flip():\n",
    "    if random.randint(0, 1) == 0:\n",
    "        return 'cara'\n",
    "    else:\n",
    "        return 'cruz'\n",
    "\n",
    "lanzamientos = 0\n",
    "ensayos = 10_000\n",
    "\n",
    "for i in range(ensayos):\n",
    "    if coin_flip() == 'cara':\n",
    "        lanzamientos += 1\n",
    "        while coin_flip() == 'cara':\n",
    "            lanzamientos += 1\n",
    "        lanzamientos +=1\n",
    "    else:\n",
    "        lanzamientos += 1\n",
    "        while coin_flip() == 'cruz':\n",
    "            lanzamientos += 1\n",
    "        lanzamientos += 1\n",
    "\n",
    "media_lanzamientos_por_intento = lanzamientos / ensayos\n",
    "print(f'La media de lanzamientos por intento es {media_lanzamientos_por_intento}')"
   ]
  },
  {
   "cell_type": "code",
   "execution_count": null,
   "metadata": {},
   "outputs": [],
   "source": [
    "lanzamientos = 0\n",
    "ensayos = 10_000\n",
    "\n",
    "for ensayo in range(ensayos):\n",
    "    primer_lanzamiento = coin_flip()\n",
    "    lanzamientos += 1\n",
    "    while coin_flip() == primer_lanzamiento:\n",
    "        lanzamientos += 1\n",
    "    lanzamientos += 1\n",
    "\n",
    "media_lanzamientos_por_intento = lanzamientos / ensayos\n",
    "print(f'La media de lanzamientos por intento es {media_lanzamientos_por_intento}')"
   ]
  },
  {
   "cell_type": "markdown",
   "metadata": {},
   "source": [
    "## --> Ejercicio: Simular una elección\n",
    "\n",
    "Con algo de ayuda del módulo random y un poco de lógica condicional, puedes simular una elección entre dos candidatos.\n",
    "\n",
    "Supón que dos candidatos, el candidato A y el candidato B, se postulan para alcalde en una ciudad con tres regiones de votación. Las encuestas más recientes muestran que el candidato A tiene las siguientes posibilidades de ganar en cada región:\n",
    "\n",
    "- Región 1: 87 por ciento de posibilidades de ganar\n",
    "- Región 2: 65 por ciento de posibilidades de ganar\n",
    "- Región 3: 17 por ciento de posibilidades de ganar\n",
    "\n",
    "Escribe un programa que simule la elección diez mil veces e imprima el porcentaje de veces en que el candidato A gana.\n",
    "\n",
    "Para simplificar las cosas, supón que un candidato gana las elecciones si gana en al menos dos de las tres regiones.\n",
    "\n"
   ]
  },
  {
   "cell_type": "code",
   "execution_count": null,
   "metadata": {},
   "outputs": [],
   "source": [
    "num_veces_A_gana = 0\n",
    "num_veces_B_gana = 0\n",
    "\n",
    "porc_A_region1 = 0.87\n",
    "porc_A_region2 = 0.65\n",
    "porc_A_region3 = 0.17\n",
    "\n",
    "ensayos = 10_000\n",
    "\n",
    "for ensayo in range(ensayos):\n",
    "    votos_para_A = 0\n",
    "    votos_para_B = 0\n",
    "    \n",
    "    # Quien gana en la 1ª región\n",
    "    if random.random() < porc_A_region1:\n",
    "        votos_para_A += 1\n",
    "    else:\n",
    "        votos_para_B += 1\n",
    "\n",
    "    # Quien gana en la 2ª región\n",
    "    if random.random() < porc_A_region2:\n",
    "        votos_para_A += 1\n",
    "    else:\n",
    "        votos_para_B += 1\n",
    "\n",
    "    # Quien gana en la 3ª región\n",
    "    if random.random() < porc_A_region3:\n",
    "        votos_para_A += 1\n",
    "    else:\n",
    "        votos_para_B += 1\n",
    "\n",
    "    # Resultado global de las elecciones\n",
    "    if votos_para_A > votos_para_B:\n",
    "        num_veces_A_gana += 1\n",
    "    else:\n",
    "        votos_para_B += 1\n",
    "\n",
    "print(f'Probabilidad victorias de A: {num_veces_A_gana / ensayos}')\n",
    "print(f'Probabilidad victorias de B: {num_veces_B_gana / ensayos}')"
   ]
  },
  {
   "cell_type": "markdown",
   "metadata": {},
   "source": [
    "## Estructuras de Datos: List, Tuples, Dictionary\n",
    "Colecciones de datos"
   ]
  },
  {
   "cell_type": "markdown",
   "metadata": {},
   "source": [
    "## Listas"
   ]
  },
  {
   "cell_type": "code",
   "execution_count": null,
   "metadata": {},
   "outputs": [],
   "source": [
    "# declarando una lista de números\n",
    "\n",
    "nums = [5, 10, 15.2, 20]\n",
    "\n",
    "print(nums)"
   ]
  },
  {
   "cell_type": "code",
   "execution_count": null,
   "metadata": {},
   "outputs": [],
   "source": [
    "# accessing elements within a list\n",
    "\n",
    "print(nums[1])          # will output the value at index 1 = 10\n",
    "\n",
    "num = nums[2]            # saves index value 2 into num\n",
    "\n",
    "print(num)              # prints value assigned to num"
   ]
  },
  {
   "cell_type": "code",
   "execution_count": null,
   "metadata": {},
   "outputs": [],
   "source": [
    "# declaring a list of mixed data types\n",
    "\n",
    "num = 4.3\n",
    "\n",
    "data = [num, 'word', True]       # the power of data collection\n",
    "\n",
    "print(data)"
   ]
  },
  {
   "cell_type": "code",
   "execution_count": null,
   "metadata": {},
   "outputs": [],
   "source": [
    "# understanding lists within lists\n",
    "\n",
    "data = [5, 'book', [34, 'hello'], True]     # lists can hold any type\n",
    "\n",
    "print(data)\n",
    "\n",
    "print(data[2])"
   ]
  },
  {
   "cell_type": "code",
   "execution_count": null,
   "metadata": {},
   "outputs": [],
   "source": [
    "# using double bracket notation to access lists within lists\n",
    "\n",
    "print(data[2][0])        # will output 34\n",
    "\n",
    "inner_list = data[2]     # inner list will equal [34, 'hello']\n",
    "\n",
    "print(inner_list[1])     # will output 'hello'\n",
    "\n"
   ]
  },
  {
   "cell_type": "code",
   "execution_count": 22,
   "metadata": {},
   "outputs": [
    {
     "name": "stdout",
     "output_type": "stream",
     "text": [
      "[5, 10, 15, 20]\n",
      "[100, 10, 15, 20]\n"
     ]
    }
   ],
   "source": [
    "# changing values in a list through index\n",
    "\n",
    "data = [5, 10, 15, 20]\n",
    "\n",
    "print(data)\n",
    "\n",
    "data[0] = 100         # change the value at index 0 - (5 to 100)\n",
    "\n",
    "print(data)"
   ]
  },
  {
   "cell_type": "code",
   "execution_count": 23,
   "metadata": {},
   "outputs": [
    {
     "name": "stdout",
     "output_type": "stream",
     "text": [
      "a: [5, 10]\t b: [5, 10]\n",
      "Location a[0]: 140713895305744\t Location b[0]: 140713895305744\n",
      "a: [20, 10]\t b: [20, 10]\n"
     ]
    }
   ],
   "source": [
    "# understanding how lists are stored\n",
    "\n",
    "a = [5, 10]\n",
    "\n",
    "b = a\n",
    "\n",
    "print('a: {}\\t b: {}'.format(a, b))\n",
    "\n",
    "print(f'Location a[0]: {id(a[0])}\\t Location b[0]: {id(b[0])}')\n",
    "\n",
    "a[0] = 20              # re-declaring the value of a[0] also changes b[0]\n",
    "\n",
    "print('a: {}\\t b: {}'.format(a, b))"
   ]
  },
  {
   "cell_type": "code",
   "execution_count": null,
   "metadata": {},
   "outputs": [],
   "source": [
    "# using [:] to copy a list\n",
    "\n",
    "data = [5, 10, 15, 20]\n",
    "\n",
    "data_copy = data[:]       # a single colon copies the list\n",
    "\n",
    "data[0] = 50\n",
    "\n",
    "print(f'data: {data}\\t data_copy: {data_copy}')"
   ]
  },
  {
   "cell_type": "code",
   "execution_count": null,
   "metadata": {},
   "outputs": [],
   "source": [
    "# checking the number of items within a list\n",
    "\n",
    "nums = [5, 10, 15]\n",
    "\n",
    "length = len(nums)        # len() returns an integer\n",
    "\n",
    "print(length)\n"
   ]
  },
  {
   "cell_type": "code",
   "execution_count": null,
   "metadata": {},
   "outputs": [],
   "source": [
    "# accessing specific items of a list with slices\n",
    "\n",
    "print(nums[1:3])         # will output items in index 1 and 2\n",
    "\n",
    "print(nums[:2])          # will output items in index 0 and 1\n",
    "\n",
    "print(nums[::2])          # will print every other index - 0, 2, 4, etc.\n",
    "\n",
    "print(nums[-2:])          # will output the last two items in list\n"
   ]
  },
  {
   "cell_type": "code",
   "execution_count": null,
   "metadata": {},
   "outputs": [],
   "source": [
    "# adding an item to the back of a list using append\n",
    "\n",
    "nums = [10, 20]\n",
    "\n",
    "nums.append(5)\n",
    "\n",
    "print(nums)       # outputs [10, 20, 5]"
   ]
  },
  {
   "cell_type": "code",
   "execution_count": null,
   "metadata": {},
   "outputs": [],
   "source": [
    "# adding a value to the beginning of the list\n",
    "\n",
    "words = ['ball', 'base']\n",
    "\n",
    "words.insert(0, 'glove')       # first number is the index, second is the value\n",
    "\n",
    "print(words)"
   ]
  },
  {
   "cell_type": "code",
   "execution_count": null,
   "metadata": {},
   "outputs": [],
   "source": [
    "# using pop to remove items and saving to a variable to use later\n",
    "\n",
    "items = [5, 'ball', True]\n",
    "\n",
    "items.pop()                   # by default removes the last item\n",
    "\n",
    "removed_item = items.pop(0)   # removes 5 and saves it into the variable\n",
    "\n",
    "print(removed_item, '\\n', items)"
   ]
  },
  {
   "cell_type": "code",
   "execution_count": null,
   "metadata": {},
   "outputs": [],
   "source": [
    "# using the remove method with a try and except\n",
    "\n",
    "sports = ['baseball', 'soccer', 'football', 'hockey']\n",
    "\n",
    "try:\n",
    "    sports.remove('soccer')\n",
    "except:\n",
    "    print('That item does not exist in the list.')\n",
    "    \n",
    "print(sports)"
   ]
  },
  {
   "cell_type": "code",
   "execution_count": null,
   "metadata": {},
   "outputs": [],
   "source": [
    "# using min, max, and sum\n",
    "\n",
    "nums = [5, 3, 9]\n",
    "\n",
    "print(min(nums))     # will find the lowest number in the list\n",
    "print(max(nums))     # will find the highest number in the list\n",
    "print(sum(nums))     # will add all numbers in the list and return the sum"
   ]
  },
  {
   "cell_type": "code",
   "execution_count": null,
   "metadata": {},
   "outputs": [],
   "source": [
    "# using sorted on lists for numerical and alphabetical data\n",
    "\n",
    "nums = [5, 8, 0, 2]\n",
    "\n",
    "sorted_nums = sorted(nums)      # save to a new variable to use later\n",
    "\n",
    "reversed_nums = sorted(nums, reverse=True)\n",
    "\n",
    "print(nums, sorted_nums, reversed_nums)        # the original list is intact"
   ]
  },
  {
   "cell_type": "code",
   "execution_count": null,
   "metadata": {},
   "outputs": [],
   "source": [
    "# sorting a list with .sort() in-place\n",
    "\n",
    "nums = [5, 0, 8, 3]\n",
    "\n",
    "nums.sort()          # alters the original variable directly\n",
    "\n",
    "print(nums)"
   ]
  },
  {
   "cell_type": "code",
   "execution_count": null,
   "metadata": {},
   "outputs": [],
   "source": [
    "# using conditional statements on a list\n",
    "\n",
    "names = ['Jack', 'Robert', 'Mary']\n",
    "\n",
    "if 'Mary' in names:\n",
    "    print('found')        # will run since Mary is in the list\n",
    "    \n",
    "if 'Jimmy' not in names:\n",
    "    print('not found')    # will run since Jimmy is not in the list"
   ]
  },
  {
   "cell_type": "code",
   "execution_count": null,
   "metadata": {},
   "outputs": [],
   "source": [
    "# using conditionals to see if a list is empty\n",
    "\n",
    "nums = []\n",
    "\n",
    "if not nums:          # could also say 'if nums == []'\n",
    "    print('empty')"
   ]
  },
  {
   "cell_type": "code",
   "execution_count": null,
   "metadata": {},
   "outputs": [],
   "source": [
    "# using a for loop to print all items in a list\n",
    "\n",
    "sports = ['Baseball', 'Hockey', 'Football', 'Basketball']\n",
    "\n",
    "for sport in sports:\n",
    "    print(sport)"
   ]
  },
  {
   "cell_type": "code",
   "execution_count": null,
   "metadata": {},
   "outputs": [],
   "source": [
    "# using the while loop to remove a certain value\n",
    "\n",
    "names = ['Bob', 'Jack', 'Rob', 'Bob', 'Robert']\n",
    "\n",
    "while 'Bob' in names:\n",
    "    names.remove('Bob')      # removes all instances of 'Bob'\n",
    "    \n",
    "print(names)"
   ]
  },
  {
   "cell_type": "markdown",
   "metadata": {},
   "source": [
    "### --> Ejercicios\n",
    "1. Sports: Define a list of strings, where each string is a sport. Then output each sport with the following line \"I like to play {}\"...\n",
    "2. First Character: For the following list, print out each item's first letter. (output should be 'J', 'A', 'S', 'K'): names = ``['John', 'Abraham', 'Sam', 'Kelly']``\n",
    "3. Divisble by Three: Write a for loop that prints out all numbers from 1 to 100 that are divisble by three.\n",
    "4. Only Vowels: Ask for user input and write a for loop that will output all the vowels within it. For example: \"Hello\" --> \"eo\"\n",
    "5. User Input: Write a while loop that continues to ask for user input and runs until they type 'quit'.\n",
    "6. Double Loop: Write a for loop within a while loop that will count from 0 to 5, but when it reaches 3 it sets a game_over variable to True and breaks out of the loop. The while loop should continue to loop until game_over is True. The output should only be 0, 1, 2.\n",
    "7. Remove Duplicates: Remove all duplicates from the list below. Hint: Use the .count() method. The output should be ``[\"Bob\", \"Kenny\", \"Amanda\"]``.\n",
    "names = ``[\"Bob\", \"Kenny\", \"Amanda\", \"Bob\", \"Kenny\"]``\n",
    "8. User Input: Use a while loop to continually ask the user to input a word, until they type 'quit'. Once they type a word in, add it to a list. Once they quit the loop, use a for loop to output all items within the list.\n",
    "9. Pyramids: Use a for loop to build a pyramid of x's. It should be modular so that if you loop to 5 or 50, it still creates evenly spaced rows. Hint: Multiply the string 'x' by the row. For example, if you loop to the range of 4, it should produce the following result:\n",
    "<pre>\n",
    "  x\n",
    " x x\n",
    "x x x\n",
    "</pre>\n",
    "10. Output Names: Write a loop that will iterate over a list of items and only output items which have letters inside of a string. Take the following list for example, only \"John\" and \"Amanda\" should be output:\n",
    "names = ``[ \"John\", \" \", \"Amanda\", 5]``\n",
    "11. Convert Celsius: Given a list of temperatures that are in Celsius, write a loop that iterates over the list and outputs the temperature converted into Fahrenheit. Hint: The conversion is \"F = (9/5) * C + 32\".\n",
    "temps = ``[32, 12, 44, 29]``\n",
    "Output would be ``[89.6, 53.6, 111.2, 84.2]``"
   ]
  },
  {
   "cell_type": "markdown",
   "metadata": {},
   "source": [
    "### List Comprehensions --> Son una herramienta para transformar una lista (o cualquier otro iterable) en otra lista."
   ]
  },
  {
   "cell_type": "code",
   "execution_count": null,
   "metadata": {},
   "outputs": [],
   "source": [
    "numeros = [1, 2, 3, 4, 5]\n",
    "\n",
    "cuadrados = []\n",
    "for num in numeros:\n",
    "    cuadrados.append(num**2)\n",
    "print(cuadrados)"
   ]
  },
  {
   "cell_type": "code",
   "execution_count": null,
   "metadata": {},
   "outputs": [],
   "source": [
    "cuadrados2 = [num**2 for num in numeros]\n",
    "\n",
    "print(cuadrados2)"
   ]
  },
  {
   "cell_type": "code",
   "execution_count": null,
   "metadata": {},
   "outputs": [],
   "source": [
    "# Con condicional\n",
    "cuadrados3 = [\n",
    "    num**2 \n",
    "    for num in numeros \n",
    "    if num % 2 == 0\n",
    "    ]\n",
    "print(cuadrados3)"
   ]
  },
  {
   "cell_type": "code",
   "execution_count": null,
   "metadata": {},
   "outputs": [],
   "source": [
    "mi_nombre = 'Antonio'\n",
    "\n",
    "mi_nombre2 = [letra.upper() * 2 for letra in mi_nombre]\n",
    "print(mi_nombre2)"
   ]
  },
  {
   "cell_type": "code",
   "execution_count": null,
   "metadata": {},
   "outputs": [],
   "source": [
    "str_numeros = ['1.25', '2.3', '5.25']\n",
    "float_numeros = [float(num) for num in str_numeros]\n",
    "print(float_numeros)"
   ]
  },
  {
   "cell_type": "markdown",
   "metadata": {},
   "source": [
    "## Set"
   ]
  },
  {
   "cell_type": "code",
   "execution_count": null,
   "metadata": {},
   "outputs": [],
   "source": [
    "# declaring a set\n",
    "\n",
    "s1 = set( [1, 2, 3, 1] )    # uses the set keyword\n",
    "\n",
    "s2 = {4, 4, 5}    # uses curly brackets, like dictionary\n",
    "\n",
    "s1.add(5)     # using the add method to add new items to a set\n",
    "\n",
    "s1.remove(1)    # using the remove method to get rid of the value 1\n",
    "\n",
    "print(s1)     # notice when printed it removed the second \"1\" at the end"
   ]
  },
  {
   "cell_type": "code",
   "execution_count": null,
   "metadata": {},
   "outputs": [],
   "source": [
    "nombres = ['Bob', 'Jack', 'Rob', 'Bob', 'Robert']\n",
    "print(nombres)\n",
    "set_nombres = set(nombres)\n",
    "print(list(set_nombres))"
   ]
  },
  {
   "cell_type": "markdown",
   "metadata": {},
   "source": [
    "## Tuples -> Secuencias inmutables\n",
    "#### Una secuencia es una lista ordenada de valores"
   ]
  },
  {
   "cell_type": "code",
   "execution_count": null,
   "metadata": {},
   "outputs": [],
   "source": [
    "mi_primer_tuple = (1, 2, 3)\n",
    "type(mi_primer_tuple)"
   ]
  },
  {
   "cell_type": "code",
   "execution_count": null,
   "metadata": {},
   "outputs": [],
   "source": [
    "# Pueden contener cualquier tipo de valor\n",
    "tuple1 = (1, 'dos', 3.0)\n",
    "print(tuple1)"
   ]
  },
  {
   "cell_type": "code",
   "execution_count": null,
   "metadata": {},
   "outputs": [],
   "source": [
    "tuple2 = tuple('Python')\n",
    "print(tuple2) # tuple sólo acepta un único parámetro, por lo que no se puede pasar la lista de valores que queremos contenga el tuple como argumentos individuales\n",
    "print(tuple('123'))"
   ]
  },
  {
   "cell_type": "code",
   "execution_count": null,
   "metadata": {},
   "outputs": [],
   "source": [
    "# Indexing y Slicing\n",
    "print(tuple1[1])\n",
    "print(tuple2[0:5])"
   ]
  },
  {
   "cell_type": "code",
   "execution_count": null,
   "metadata": {},
   "outputs": [],
   "source": [
    "tuple3 = (1)\n",
    "type(tuple3)"
   ]
  },
  {
   "cell_type": "code",
   "execution_count": null,
   "metadata": {},
   "outputs": [],
   "source": [
    "# tuples de un sólo elemento\n",
    "tuple4 = ('x',)\n",
    "type(tuple4)"
   ]
  },
  {
   "cell_type": "markdown",
   "metadata": {},
   "source": [
    "### Similaridades con strings"
   ]
  },
  {
   "cell_type": "code",
   "execution_count": null,
   "metadata": {},
   "outputs": [],
   "source": [
    "# len\n",
    "print(len(tuple1))"
   ]
  },
  {
   "cell_type": "code",
   "execution_count": null,
   "metadata": {},
   "outputs": [],
   "source": [
    "# Indexing y Slicing\n",
    "nombre = 'Antonio'\n",
    "print(nombre[1])\n",
    "print(nombre[2:4])\n",
    "tupla_valores = (1, 3, 5, 7, 9)\n",
    "print(tupla_valores[1])\n",
    "print(tupla_valores[2:4]) # Crea un nuevo tuple que contiene todos los valores de la tupla tupla_valores empezando en la posición 2 (incluida) hasta la posición 4 (excluida)"
   ]
  },
  {
   "cell_type": "code",
   "execution_count": null,
   "metadata": {},
   "outputs": [],
   "source": [
    "# Al igual que los strings, las tuplas son inmutables\n",
    "tupla_valores[0] = 2"
   ]
  },
  {
   "cell_type": "code",
   "execution_count": null,
   "metadata": {},
   "outputs": [],
   "source": [
    "# Ls tuplas son iterables\n",
    "vocales = ('a', 'e', 'i', 'o', 'u')\n",
    "for vocal in vocales:\n",
    "    print(vocal.upper())"
   ]
  },
  {
   "cell_type": "code",
   "execution_count": null,
   "metadata": {},
   "outputs": [],
   "source": [
    "# Comprobar la existencia de valores\n",
    "'o' in vocales"
   ]
  },
  {
   "cell_type": "code",
   "execution_count": null,
   "metadata": {},
   "outputs": [],
   "source": [
    "# Devolver múltiples valores de una función\n",
    "def sumar_restar(num1, num2):\n",
    "    suma = num1 + num2\n",
    "    resta = num1 - num2\n",
    "    return suma, resta # puede estar entre paréntesis o no\n",
    "\n",
    "sumar_restar(3, 2)"
   ]
  },
  {
   "cell_type": "code",
   "execution_count": null,
   "metadata": {},
   "outputs": [],
   "source": [
    "# Unpacking\n",
    "a, b = sumar_restar(8, 6)\n",
    "print(a)\n",
    "print(b)"
   ]
  },
  {
   "cell_type": "markdown",
   "metadata": {},
   "source": [
    "## Diccionarios"
   ]
  },
  {
   "cell_type": "code",
   "execution_count": null,
   "metadata": {},
   "outputs": [],
   "source": [
    "# declaring a dictionary variable\n",
    "\n",
    "empty = {}  # empty dictionary\n",
    "\n",
    "person = { 'name' : 'John Smith' }    # dictionary with one key/value pair\n",
    "\n",
    "customer = {\n",
    "    'name' : 'Morty',\n",
    "    'age' : 26\n",
    "}                    # dictionary with two key/value pairs\n",
    "\n",
    "print(customer)"
   ]
  },
  {
   "cell_type": "code",
   "execution_count": null,
   "metadata": {},
   "outputs": [],
   "source": [
    "# accessing dictionary information through keys\n",
    "\n",
    "person = { 'name' : 'John' }\n",
    "\n",
    "print( person['name'] )       # access information through the key"
   ]
  },
  {
   "cell_type": "code",
   "execution_count": null,
   "metadata": {},
   "outputs": [],
   "source": [
    "# using the get method to access dictionary information\n",
    "\n",
    "person = { 'name' : 'John' }\n",
    "\n",
    "print( person.get('name') )     # retrieves value of name key as before\n",
    "\n",
    "print( person.get('age', 'Age is not available.') )    # get is a secure way to retrieve information"
   ]
  },
  {
   "cell_type": "code",
   "execution_count": null,
   "metadata": {},
   "outputs": [],
   "source": [
    "# storing a list within a dictionary and accessing it\n",
    "\n",
    "data = { 'sports' : ['baseball', 'football', 'hockey', 'soccer'] }\n",
    "\n",
    "print( data['sports'][0] )     # first access the key, then the index"
   ]
  },
  {
   "cell_type": "code",
   "execution_count": null,
   "metadata": {},
   "outputs": [],
   "source": [
    "# improperly storing a list within a dictionary\n",
    "\n",
    "sports = [ \"baseball\", \"football\", \"hockey\", \"soccer\" ]\n",
    "\n",
    "sports_dict = dict( sports )     # will produce error, no key"
   ]
  },
  {
   "cell_type": "code",
   "execution_count": null,
   "metadata": {},
   "outputs": [],
   "source": [
    "# storing a dictionary within a list and accessing it\n",
    "\n",
    "data = ['John', 'Dennis', {'name' : 'Kirsten'}]\n",
    "\n",
    "print( data[2] )   # the dictionary is in index 2\n",
    "\n",
    "print( data[2]['name'] )    # first access the index, then access the key"
   ]
  },
  {
   "cell_type": "code",
   "execution_count": null,
   "metadata": {},
   "outputs": [],
   "source": [
    "# storing a dictionary within a dictionary and accessing it\n",
    "\n",
    "data = {\n",
    "    'team' : 'Boston Red Sox',\n",
    "    'wins' : { '2018' : 108, '2017' : 93 }\n",
    "}\n",
    "\n",
    "print( data['wins'] )     # will output the dictionary within the wins key\n",
    "\n",
    "print( data['wins']['2018'] )    # first access the wins key, then the next key"
   ]
  },
  {
   "cell_type": "markdown",
   "metadata": {},
   "source": [
    "### Trabajando con Diccionarios"
   ]
  },
  {
   "cell_type": "code",
   "execution_count": null,
   "metadata": {},
   "outputs": [],
   "source": [
    "# adding new key/value pairs to a dictionary\n",
    "\n",
    "car = { 'year' : 2018 }\n",
    "\n",
    "car['color'] = 'Blue'\n",
    "\n",
    "print(f\"Year: {car['year']}\\tColor: {car['color']}\")"
   ]
  },
  {
   "cell_type": "code",
   "execution_count": null,
   "metadata": {},
   "outputs": [],
   "source": [
    "# updating a value for a key/value pair that already exists\n",
    "\n",
    "car = { 'year' : 2018, 'color' : 'Blue' }\n",
    "\n",
    "car['color'] = 'Red'\n",
    "\n",
    "print(f\"Year: {car['year']}\\tColor: {car['color']}\")"
   ]
  },
  {
   "cell_type": "code",
   "execution_count": null,
   "metadata": {},
   "outputs": [],
   "source": [
    "# deleting a key/value pair from a dictionary\n",
    "\n",
    "car = { 'year' : 2018 }\n",
    "\n",
    "try:\n",
    "    del car['year']\n",
    "    print(car)\n",
    "except:\n",
    "    print('That key does not exist')"
   ]
  },
  {
   "cell_type": "code",
   "execution_count": 1,
   "metadata": {},
   "outputs": [
    {
     "name": "stdout",
     "output_type": "stream",
     "text": [
      "name\n",
      "John\n",
      "age\n",
      "26\n"
     ]
    }
   ],
   "source": [
    "# looping over a dictionary via the keys\n",
    "\n",
    "person = { 'name' : 'John', 'age' : 26 }\n",
    "\n",
    "for key in person.keys():\n",
    "    print(key)\n",
    "    print(person[key])   # will output the value at the current key"
   ]
  },
  {
   "cell_type": "code",
   "execution_count": null,
   "metadata": {},
   "outputs": [],
   "source": [
    "# looping over a dictionary via the values\n",
    "\n",
    "person = { 'name' : 'John', 'age' : 26 }\n",
    "\n",
    "for value in person.values():\n",
    "    print(value)"
   ]
  },
  {
   "cell_type": "code",
   "execution_count": null,
   "metadata": {},
   "outputs": [],
   "source": [
    "# looping over a dictionary via the key/value pair\n",
    "\n",
    "person = { 'name' : 'John', 'age' : 26 }\n",
    "\n",
    "for key, value in person.items():\n",
    "    print(f\"{key}: {value}\")"
   ]
  },
  {
   "cell_type": "code",
   "execution_count": null,
   "metadata": {},
   "outputs": [],
   "source": [
    "# Dictionary comprehensions\n",
    "\n",
    "# creating a dictionary of even numbers and square values using comprehension\n",
    "\n",
    "numbers = [ x for x in range(10) ]\n",
    "print(numbers)\n",
    "\n",
    "squares = { num : num**2 for num in numbers}\n",
    "print(squares)\n",
    "\n",
    "squares2 = { num : num**2 for num in numbers if num % 2 == 0 }\n",
    "\n",
    "print(squares2)"
   ]
  },
  {
   "cell_type": "markdown",
   "metadata": {},
   "source": [
    "## --> Ejercicios\n",
    "1. User Input: Declare an empty dictionary. Ask the user for their name, address, and number. Add that information to the dictionary and iterate over it to show the user.\n",
    "2. Problem Solving: What is wrong with the following code:\n",
    "\n",
    "``>>> person = { 'name', 'John Smith' }``\n",
    "\n",
    "``>>> print(person['name'])``\n",
    "\n",
    "3. Conversion: Convert the list below into a set of unique values. Print it out after to check there are no duplicates.\n",
    "\n",
    "nums = ``[3, 4, 3, 7, 10]``\n"
   ]
  },
  {
   "cell_type": "markdown",
   "metadata": {},
   "source": [
    "## Leyendo y Escribiendo Archivos"
   ]
  },
  {
   "cell_type": "code",
   "execution_count": null,
   "metadata": {},
   "outputs": [],
   "source": [
    "# opening/creating and writing to a text file\n",
    "\n",
    "f = open(\"test.txt\", 'w+')     # open file in writing and reading mode\n",
    "\n",
    "f.write('this is a test')\n",
    "\n",
    "f.close()\n",
    "\n",
    "# reading from a text file\n",
    "f = open('test.txt', 'r')\n",
    "\n",
    "data = f.read()\n",
    "\n",
    "f.close()\n",
    "\n",
    "print(data)"
   ]
  },
  {
   "cell_type": "code",
   "execution_count": null,
   "metadata": {},
   "outputs": [],
   "source": [
    "# opening/creating and writing to a csv file\n",
    "import csv\n",
    "\n",
    "with open('test.csv', mode='w', newline='') as f:\n",
    "    writer = csv.writer(f, delimiter=',')\n",
    "    writer.writerow(['Name', 'City'])\n",
    "    writer.writerow(['Craig Lou', 'Taiwan'])"
   ]
  },
  {
   "cell_type": "code",
   "execution_count": null,
   "metadata": {},
   "outputs": [],
   "source": [
    "# reading from csv files\n",
    "\n",
    "with open('test.csv', mode='r') as f:\n",
    "    reader = csv.reader(f, delimiter=',')\n",
    "    \n",
    "    for row in reader:\n",
    "        print(row)"
   ]
  },
  {
   "cell_type": "markdown",
   "metadata": {},
   "source": [
    "### Ejercicios resueltos"
   ]
  },
  {
   "cell_type": "code",
   "execution_count": null,
   "metadata": {},
   "outputs": [],
   "source": [
    "# Double Loop: Write a for loop within a while loop that will count from 0 to 5, but when it reaches 3 it sets a game_over variable to True and breaks out of the loop. The while loop should continue to loop until game_over is True. The output should only be 0, 1, 2.\n",
    "\n",
    "game_over = False\n",
    "while game_over == False:\n",
    "    for n in range(5):\n",
    "        if n == 3:\n",
    "            game_over = True\n",
    "            break\n",
    "        else:\n",
    "            print(n)"
   ]
  },
  {
   "cell_type": "code",
   "execution_count": null,
   "metadata": {},
   "outputs": [],
   "source": [
    "# Remove Duplicates: Remove all duplicates from the list below. Hint: Use the .count() method. The output should be [\"Bob\", \"Kenny\", \"Amanda\"]. \n",
    "\n",
    "names = [\"Bob\", \"Kenny\", \"Amanda\", \"Bob\", \"Kenny\"]\n",
    "for i in names:\n",
    "    while names.count(i) > 1:\n",
    "        names.remove(i)\n",
    "\n",
    "print(names)"
   ]
  },
  {
   "cell_type": "code",
   "execution_count": null,
   "metadata": {},
   "outputs": [],
   "source": [
    "while input('Pon algo: ').lower() != 'quit':\n",
    "    pass"
   ]
  },
  {
   "cell_type": "code",
   "execution_count": null,
   "metadata": {},
   "outputs": [],
   "source": [
    "#print(' ' * 5 + ' x' * 0)\n",
    "print(' ' * 4 + ' x' * 1)\n",
    "print(' ' * 3 + ' x' * 2)\n",
    "print(' ' * 2 + ' x' * 3)\n",
    "print(' ' * 1 + ' x' * 4)"
   ]
  },
  {
   "cell_type": "code",
   "execution_count": null,
   "metadata": {},
   "outputs": [],
   "source": [
    "print(' x' * 1)\n",
    "print(' x' * 2)\n",
    "print(' x' * 3)\n",
    "print(' x' * 4)"
   ]
  },
  {
   "cell_type": "code",
   "execution_count": null,
   "metadata": {},
   "outputs": [],
   "source": [
    "row = 5\n",
    "\n",
    "for i in range(row):\n",
    "    print(' ' * (row - i) + ' x' * i)"
   ]
  },
  {
   "cell_type": "code",
   "execution_count": null,
   "metadata": {},
   "outputs": [],
   "source": [
    "names = [ \"John\", \" \", \"Amanda\", 5]\n",
    "\n",
    "for name in names:\n",
    "    if type(name) == str:\n",
    "        #if name != ' ':\n",
    "        if name.strip() != '':\n",
    "            print(name)"
   ]
  },
  {
   "cell_type": "code",
   "execution_count": null,
   "metadata": {},
   "outputs": [],
   "source": [
    "# Cambiando los valores en la misma lista\n",
    "temps = [32, 12, 44, 29]\n",
    "\n",
    "for i in range(len(temps)):\n",
    "    temps[i] = (9/5) * temps[i] + 32\n",
    "    \n",
    "print(temps)"
   ]
  },
  {
   "cell_type": "code",
   "execution_count": null,
   "metadata": {},
   "outputs": [],
   "source": [
    "# Con una nueva lista\n",
    "temps_F = []\n",
    "for i in temps:\n",
    "    temps_F.append(9/5 * i + 32)\n",
    "\n",
    "print(temps_F)"
   ]
  },
  {
   "cell_type": "code",
   "execution_count": null,
   "metadata": {},
   "outputs": [],
   "source": [
    "# Nueva lista y list comprehension\n",
    "temps = [32, 12, 44, 29]\n",
    "temps_F = [9/5 * x + 32 for x in temps]\n",
    "print(temps_F)"
   ]
  },
  {
   "cell_type": "code",
   "execution_count": null,
   "metadata": {},
   "outputs": [],
   "source": [
    "# Misma lista y list comprehension\n",
    "temps = [32, 12, 44, 29]\n",
    "temps = [(9/5 * x + 32) for x in temps]\n",
    "print(temps)"
   ]
  },
  {
   "cell_type": "code",
   "execution_count": null,
   "metadata": {},
   "outputs": [],
   "source": [
    "# User Input: Use a while loop to continually ask the user to input a word, until they type 'quit'. Once they type a word in, add it to a list. Once they quit the loop, use a for loop to output all items within the list.\n",
    "\n",
    "terminado = False\n",
    "lista_palabras = []\n",
    "\n",
    "while terminado == False:\n",
    "    palabra = input('Pon una palabra: ').lower()\n",
    "    if palabra.lower() == 'quit':\n",
    "        terminado = True\n",
    "    else:\n",
    "        lista_palabras.append(palabra.capitalize())\n",
    "\n",
    "print(lista_palabras)"
   ]
  },
  {
   "cell_type": "markdown",
   "metadata": {},
   "source": [
    "## Programación Orientada a Objetos (OOP)"
   ]
  },
  {
   "cell_type": "markdown",
   "metadata": {},
   "source": [
    "En Python (y la mayoría de los lenguajes), creamos objetos a través de clases que construimos.\n",
    "\n",
    "Podemos pensar en una clase como un modelo a partir del cual se crea un objeto. Piensa en un video juego en el que hay tiradores con armas de fuego, por ejemplo. Todos los jugadores, vehículos y armas son objetos. Podría haber diez personas en dos equipos, pero cada una de esas personas se crea a partir del mismo modelo. Todos tienen características similares como peso, altura, color de cabello, etc.\n",
    "\n",
    "En lugar de escribir las mismas líneas de código para diez personas diferentes, escribimos un solo modelo (clase) y creamos a cada persona a partir de ese modelo. Esto condensa el código y hace los programas más fáciles de administrar y mantener.\n",
    "\n",
    "Todos los objetos en python se crean a partir de clases. El objetivo de la programación orientada a objetos es reutilizar el mismo código al tiempo que brinda flexibilidad para crear cada objeto con sus propias características."
   ]
  },
  {
   "cell_type": "markdown",
   "metadata": {},
   "source": [
    "### OOP Stages\n",
    "\n",
    "There are two stages when using classes. The first stage is the class definition. Like function definitions, this stage is where you write the blueprint to be used when called.\n",
    "\n",
    "The second stage is called instantiation. It is the process of creating an object from the class definition. After an object is instantiated, it is known as an instance. You may have multiple instances from a single class definition."
   ]
  },
  {
   "cell_type": "code",
   "execution_count": null,
   "metadata": {},
   "outputs": [],
   "source": [
    "# Una clase es un modelo de como algo debe ser definido. No contiene ningún dato.\n",
    "\n",
    "# En python las clases se escriben con mayúsculas. \n",
    "\n",
    "class Empleado():\n",
    "    pass    # simply using as a placeholder until we add more code tomorrow"
   ]
  },
  {
   "cell_type": "code",
   "execution_count": null,
   "metadata": {},
   "outputs": [],
   "source": [
    "# Mientras que la clase es el modelo una instancia es un objeto que es construido desde una clase y contiene datos reales.\n",
    "\n",
    "# Otro ejemplo puede ser que una clase es como unformulario vacío. Una instancia es ese formulario que ha sido rellenado con información.\n",
    "\n",
    "# instantiating an object from a class\n",
    "\n",
    "class Empleado():\n",
    "    pass\n",
    "\n",
    "emp_1 = Empleado()   # creates an instance of the Empleado class and stores into the variable emp1\n",
    "emp_2 = Empleado()   \n",
    "\n",
    "print(emp_1)\n",
    "print(emp_2)"
   ]
  },
  {
   "cell_type": "code",
   "execution_count": null,
   "metadata": {},
   "outputs": [],
   "source": [
    "emp_1.nombre = 'Antonio'\n",
    "emp_1.apellido = 'Navarro'\n",
    "emp_1.email = 'antonio.navarro@empresa.com'\n",
    "emp_1.sueldo = 50000\n",
    "\n",
    "emp_2.nombre = 'Pepe'\n",
    "emp_2.apellido = 'Perez'\n",
    "emp_2.email = 'pepe.perez@empresa.com'\n",
    "emp_2.sueldo = 40000\n",
    "\n",
    "print(emp_1.email)\n",
    "print(emp_2.email)"
   ]
  },
  {
   "cell_type": "markdown",
   "metadata": {},
   "source": [
    "### Atributos\n",
    "We’ll begin to understand how to give personalized features, known as attributes, to classes and their instances.\n",
    "\n",
    "Attributes are just variables defined within a class, nothing more than that. If you hear someone talking about attributes, you’ll immediately know that they’re speaking about classes. An attribute is how we store personal information for each object instance.\n",
    "\n",
    "Think of an attribute as a source of information for an object. For a car, an attribute could be the color, number of wheels, number of seats, the engine size, etc."
   ]
  },
  {
   "cell_type": "markdown",
   "metadata": {},
   "source": [
    "#### The “self” Keyword\n",
    "\n",
    "The self keyword is a reference to the current instance of the class and is used to access variables and methods associated with that instance. Think about a soccer team you’ve never seen play before. How do you distinguish each player from the next? You would probably use the numbers on the back of their jerseys. Even though each player is a person with different features, it’s easy for you to pick out any of them based on their number. In Python, it’s essentially how objects that are created from the same source are identified. In the previous cell, we printed out the attribute color from the ford instance.\n",
    "\n",
    "The reason Python knew where to access this value, specifically for ford, is because we used the self keyword. We didn’t need it for basic classes because those attributes were globally accessible, which will be covered later today. For now, just know that when you want to instantiate an object with personalized attributes, you need to have the init method declared and use the self keyword to save each attributes value."
   ]
  },
  {
   "cell_type": "code",
   "execution_count": null,
   "metadata": {},
   "outputs": [],
   "source": [
    "class Empleado:\n",
    "\n",
    "    def __init__(self, nombre, apellido, sueldo):\n",
    "        self.nombre = nombre\n",
    "        self.apellido = apellido\n",
    "        self.email = f'{nombre}.{apellido}@empresa.com'\n",
    "        self.sueldo = sueldo"
   ]
  },
  {
   "cell_type": "code",
   "execution_count": null,
   "metadata": {},
   "outputs": [],
   "source": [
    "emp_3 = Empleado('Luis', 'Navarro', 50000)\n",
    "emp_4 = Empleado('Alejandro', 'Navarro', 50000)\n",
    "\n",
    "print(emp_3.email)\n",
    "print(emp_4.email)"
   ]
  },
  {
   "cell_type": "code",
   "execution_count": null,
   "metadata": {},
   "outputs": [],
   "source": [
    "print(f'{emp_3.nombre} {emp_3.apellido}')"
   ]
  },
  {
   "cell_type": "code",
   "execution_count": null,
   "metadata": {},
   "outputs": [],
   "source": [
    "# Los métodos de instancia (instance methods) son funciones que se definen dentro de una clase y sólo se pueden llamar desde una instancia de esa clase. Al igual que .__init__(), el primer parámetro de un método de instancia es siempre self.\n",
    "\n",
    "class Empleado:\n",
    "\n",
    "    def __init__(self, nombre, apellido, sueldo):\n",
    "        self.nombre = nombre\n",
    "        self.apellido = apellido\n",
    "        self.email = f'{nombre}.{apellido}@empresa.com'\n",
    "        self.sueldo = sueldo\n",
    "\n",
    "    def fullname(self):\n",
    "        return f'{self.nombre} {self.apellido}'"
   ]
  },
  {
   "cell_type": "code",
   "execution_count": null,
   "metadata": {},
   "outputs": [],
   "source": [
    "emp_3 = Empleado('Luis', 'Navarro', 50000)\n",
    "emp_4 = Empleado('Alejandro', 'Navarro', 50000)\n",
    "\n",
    "print(emp_3.fullname())"
   ]
  },
  {
   "cell_type": "code",
   "execution_count": null,
   "metadata": {},
   "outputs": [],
   "source": [
    "print(Empleado.fullname(emp_3))"
   ]
  },
  {
   "cell_type": "markdown",
   "metadata": {},
   "source": [
    "### Class variables"
   ]
  },
  {
   "cell_type": "markdown",
   "metadata": {},
   "source": [
    "#### Global Attributes vs. Instance Attributes\n",
    "\n",
    "Without knowing it, you’ve been using both globally accessible attributes and instance accessible attributes. Global attributes can be referenced by the class directly and all its instances, whereas instance attributes (which are defined within the init method) can only be accessed by the class instances. If an attribute is declared inside of a class, but not within the init method, then it is known as a global attribute. Any attributes declared within the init method using the self keyword are instance attributes. Let’s see\n",
    "an example:"
   ]
  },
  {
   "cell_type": "code",
   "execution_count": null,
   "metadata": {},
   "outputs": [],
   "source": [
    "# Variables que son iguales para todas las instancias\n",
    "\n",
    "class Empleado:\n",
    "\n",
    "    def __init__(self, nombre, apellido, sueldo):\n",
    "        self.nombre = nombre\n",
    "        self.apellido = apellido\n",
    "        self.email = f'{nombre}.{apellido}@empresa.com'\n",
    "        self.sueldo = sueldo\n",
    "\n",
    "    def fullname(self):\n",
    "        return f'{self.nombre} {self.apellido}'\n",
    "\n",
    "    def apply_raise(self):\n",
    "        self.sueldo = int(self.sueldo * 1.04)\n",
    "        return self.sueldo\n",
    "\n",
    "# Los atributos creados en .__ init __ () se denominan atributos de instancia. El valor de un atributo de instancia es específico de una instancia particular de la clase. Todos los objetos Empleado tienen un nombre, un apellido, un email y un sueldo, pero los valores de estos atributos variarán según la instancia de Dog."
   ]
  },
  {
   "cell_type": "code",
   "execution_count": null,
   "metadata": {},
   "outputs": [],
   "source": [
    "emp_3 = Empleado('Luis', 'Navarro', 50000)\n",
    "emp_4 = Empleado('Alejandro', 'Navarro', 50000)\n",
    "\n",
    "print(emp_3.sueldo)\n",
    "emp_3.apply_raise()\n",
    "print(emp_3.sueldo)"
   ]
  },
  {
   "cell_type": "code",
   "execution_count": null,
   "metadata": {},
   "outputs": [],
   "source": [
    "# emp_1.subida\n",
    "# Empleado.subida\n",
    "\n",
    "class Empleado:\n",
    "\n",
    "    subida = 1.04\n",
    "\n",
    "    def __init__(self, nombre, apellido, sueldo):\n",
    "        self.nombre = nombre\n",
    "        self.apellido = apellido\n",
    "        self.email = f'{nombre}.{apellido}@empresa.com'\n",
    "        self.sueldo = sueldo\n",
    "\n",
    "    def fullname(self):\n",
    "        return f'{self.nombre} {self.apellido}'\n",
    "\n",
    "    def apply_raise(self):\n",
    "        self.sueldo = int(self.sueldo * self.subida) # self nos da la posibilidad de cambiar esta variable para cada instancia\n",
    "        return self.sueldo"
   ]
  },
  {
   "cell_type": "code",
   "execution_count": null,
   "metadata": {},
   "outputs": [],
   "source": [
    "emp_3 = Empleado('Luis', 'Navarro', 50000)\n",
    "emp_4 = Empleado('Alejandro', 'Navarro', 50000)\n",
    "\n",
    "print(emp_3.sueldo)\n",
    "emp_3.apply_raise()\n",
    "print(emp_3.sueldo)"
   ]
  },
  {
   "cell_type": "code",
   "execution_count": null,
   "metadata": {},
   "outputs": [],
   "source": [
    "print(Empleado.subida)\n",
    "print(emp_3.subida)\n",
    "print(emp_4.subida)"
   ]
  },
  {
   "cell_type": "code",
   "execution_count": null,
   "metadata": {},
   "outputs": [],
   "source": [
    "# print(emp_3.__dict__)\n",
    "print(Empleado.__dict__)"
   ]
  },
  {
   "cell_type": "code",
   "execution_count": null,
   "metadata": {},
   "outputs": [],
   "source": [
    "Empleado.subida = 1.05\n",
    "\n",
    "print(Empleado.subida)\n",
    "print(emp_3.subida)\n",
    "print(emp_4.subida)"
   ]
  },
  {
   "cell_type": "code",
   "execution_count": null,
   "metadata": {},
   "outputs": [],
   "source": [
    "Empleado.subida = 1.04\n",
    "# emp_3.subida = 1.04\n",
    "\n",
    "print(Empleado.subida)\n",
    "print(emp_3.subida)\n",
    "print(emp_4.subida)"
   ]
  },
  {
   "cell_type": "code",
   "execution_count": null,
   "metadata": {},
   "outputs": [],
   "source": [
    "print(emp_3.__dict__)"
   ]
  },
  {
   "cell_type": "code",
   "execution_count": 8,
   "metadata": {},
   "outputs": [],
   "source": [
    "# Por otro lado, los atributos de clase son atributos que tienen el mismo valor para todas las instancias de clase. Puedes definir un atributo de clase asignando un valor a un nombre de variable fuera de .__init__().\n",
    "\n",
    "# Guardamos constancia de todas las instancias que creamos\n",
    "\n",
    "class Empleado:\n",
    "\n",
    "    num_of_emps = 0\n",
    "    subida = 1.04\n",
    "\n",
    "    def __init__(self, nombre, apellido, sueldo):\n",
    "        self.nombre = nombre\n",
    "        self.apellido = apellido\n",
    "        self.email = f'{nombre.lower()}.{apellido.lower()}@empresa.com'\n",
    "        self.sueldo = sueldo\n",
    "\n",
    "        Empleado.num_of_emps += 1\n",
    "\n",
    "    def fullname(self):\n",
    "        return f'{self.nombre} {self.apellido}'\n",
    "\n",
    "    def apply_raise(self):\n",
    "        self.sueldo = int(self.sueldo * self.subida) # self nos da la posibilidad de cambiar esta variable para cada instancia\n",
    "        return self.sueldo"
   ]
  },
  {
   "cell_type": "code",
   "execution_count": null,
   "metadata": {},
   "outputs": [],
   "source": [
    "emp_3 = Empleado('Luis', 'Navarro', 50000)\n",
    "emp_4 = Empleado('Alejandro', 'Navarro', 50000)\n",
    "\n",
    "print(Empleado.num_of_emps)"
   ]
  },
  {
   "cell_type": "markdown",
   "metadata": {},
   "source": [
    "Los atributos de clase se definen directamente debajo de la primera línea del nombre de la clase y están sangrados con cuatro espacios. Siempre se les debe asignar un valor inicial. Cuando se crea una instancia de la clase, los atributos de la clase se crean automáticamente y se asignan a sus valores iniciales.\n",
    "\n",
    "Utiliza atributos de clase para definir propiedades que deberían tener el mismo valor para cada instancia de clase. Utiliza atributos de instancia para las propiedades que varían de una instancia a otra."
   ]
  },
  {
   "cell_type": "markdown",
   "metadata": {},
   "source": [
    "## --> Ejercicios\n",
    "1. Animals: Create a class called “Animals,” and create two instances from it. Use two variables with names of “lion” and “tiger.”\n",
    "\n",
    "2. Problem-Solving: What’s wrong with the following code?\n",
    "\n",
    "``>>> class Bus:``\n",
    "\n",
    "``>>>     pass ``\n",
    "\n",
    "``>>> school_bus = Bus( ) ``\n",
    "\n",
    "3. Dogs: Create a Dog class that has one global attribute and two instance level\n",
    "attributes. The global attribute should be “species” with a value of “Canine.”\n",
    "The two instance attributes should be “name” and “breed.” Then instantiate\n",
    "two dog objects, a Husky named Sammi and a Chocolate Lab named Casey.\n",
    "\n",
    "4. User Input: Create a Person class that has a single instance level attribute of “name.” Ask the user to input their name, and create an instance of the Person class with the name they typed in. Then print out their name.\n",
    "\n",
    "5. Restaurant: Make a class called Restaurant. The __init__() method for\n",
    "Restaurant should store two attributes: a restaurant_name and a cuisine_type.\n",
    "Make a method called describe_restaurant() that prints these two pieces of\n",
    "information, and a method called open_restaurant() that prints a message indicating that the restaurant is open.\n",
    "Make an instance called restaurant from your class. Print the two attributes\n",
    "individually, and then call both methods.\n",
    "\n",
    "6. Three Restaurants: Start with your class from Exercise 5. Create three\n",
    "different instances from the class, and call describe_restaurant() for each\n",
    "instance.\n",
    "\n",
    "7. Users: Make a class called User. Create two attributes called first_name\n",
    "and last_name, and then create several other attributes that are typically stored in a user profile. Make a method called describe_user() that prints a summary of the user’s information. Make another method called greet_user() that prints a personalized greeting to the user.\n",
    "Create several instances representing different users, and call both methods\n",
    "for each user.\n",
    "\n",
    "8. Ice Cream Stand: An ice cream stand is a specific kind of restaurant. Write\n",
    "a class called IceCreamStand that inherits from the Restaurant class you wrote\n",
    "in Exercise 6. Add an attribute called flavors that stores a list of ice cream flavors. Write a method that displays these flavors. Create an instance of IceCreamStand, and call this method.\n",
    "\n",
    "9. Admin: An administrator is a special kind of user. Write a class called\n",
    "Admin that inherits from the User class you wrote in Exercise 7. Add an attribute, privileges, that stores a list of strings like \"can add post\", \"can delete post\", \"can ban user\", and so on. Write a method called show_privileges()that lists the administrator’s set of privileges. Create an instance of Admin, and call your method."
   ]
  },
  {
   "cell_type": "markdown",
   "metadata": {},
   "source": [
    "### Inherit from other Clasess. Creating Subclasses"
   ]
  },
  {
   "cell_type": "code",
   "execution_count": null,
   "metadata": {},
   "outputs": [],
   "source": [
    "# Inheritance (heredar) nos permite heredar atributos y métodos de otra clase. La nueva clase se llama \"child class\" mientra que la clase de la que hereda es la \"parent class\". Esto es útil porque podemos crear subclases y obtener toda la funcionalidad de nuestra clase principal, y tenemos la capacidad de sobrescribir o agregar una funcionalidad completamente nueva sin afectar la clase principal de ninguna manera.\n",
    "\n",
    "# Imaginemos que queremos crear distintos tipos de empleados, por ejemplo desarrolladores y directores\n",
    "\n",
    "class Desarrollador(Empleado):\n",
    "    pass"
   ]
  },
  {
   "cell_type": "code",
   "execution_count": null,
   "metadata": {},
   "outputs": [],
   "source": [
    "dev_1 = Desarrollador('Pepe', 'Pérez', 40000)\n",
    "dev_2 = Desarrollador('Pepita', 'Suárez', 40000)\n",
    "\n",
    "print(dev_1.email)\n",
    "print(dev_2.email)\n",
    "\n",
    "# Python primero busca en la clase los atributos y métodos. Como la clase Desarrollador está vacía y, por tanto, no los encuentra los busca en la clase padre"
   ]
  },
  {
   "cell_type": "code",
   "execution_count": null,
   "metadata": {},
   "outputs": [],
   "source": [
    "print(help(Desarrollador))"
   ]
  },
  {
   "cell_type": "code",
   "execution_count": null,
   "metadata": {},
   "outputs": [],
   "source": [
    "class Desarrollador(Empleado):\n",
    "    subida = 1.10"
   ]
  },
  {
   "cell_type": "code",
   "execution_count": null,
   "metadata": {},
   "outputs": [],
   "source": [
    "# Cambiamos subida en la clase Desarrollador al 10%\n",
    "dev_1 = Desarrollador('Pepe', 'Pérez', 40000)\n",
    "dev_2 = Desarrollador('Pepita', 'Suárez', 40000)\n",
    "\n",
    "print(dev_1.sueldo)\n",
    "dev_1.apply_raise()\n",
    "print(dev_1.sueldo)"
   ]
  },
  {
   "cell_type": "code",
   "execution_count": null,
   "metadata": {},
   "outputs": [],
   "source": [
    "# Supongamos que queremos añadir a la clase Desarrollador nuevos atributos que la clase Empleado no tiene\n",
    "# Para ello hay que añadirle su propio __init__ method\n",
    "# Queremos que la clase Empleado siga gestionando los atribitos que esa clase tiene\n",
    "\n",
    "class Desarrollador(Empleado):\n",
    "    subida = 1.10\n",
    "\n",
    "    def __init__(self, nombre, apellido, sueldo, leng_prog):\n",
    "        super().__init__(nombre, apellido, sueldo)\n",
    "        self.leng_prog = leng_prog"
   ]
  },
  {
   "cell_type": "code",
   "execution_count": null,
   "metadata": {},
   "outputs": [],
   "source": [
    "dev_1 = Desarrollador('Pepe', 'Pérez', 40000, 'Python')\n",
    "dev_2 = Desarrollador('Pepita', 'Suárez', 40000, 'Javascript')\n",
    "\n",
    "print(dev_1.email)\n",
    "print(dev_1.leng_prog)"
   ]
  },
  {
   "cell_type": "code",
   "execution_count": null,
   "metadata": {},
   "outputs": [],
   "source": [
    "# Vamos a crear otra subclase de la clase Empleado llamada Director\n",
    "# Queremos pasarle una lista de los empleados que cada director supervisa\n",
    "\n",
    "class Director(Empleado):\n",
    "    def __init__(self, nombre, apellido, sueldo, empleados=None):\n",
    "        super().__init__(nombre, apellido, sueldo)\n",
    "        if empleados is None:\n",
    "            self.empleados = []\n",
    "        else:\n",
    "            self.empleados = empleados\n",
    "\n",
    "    # Vamos a añadir métodos para añadir empleados a la lista de empleados que cada director supervisa, quitarlos e imprimirlos\n",
    "    def añadir_emp(self, emp):\n",
    "        if emp not in self.empleados:\n",
    "            self.empleados.append(emp)\n",
    "\n",
    "    def quitar_emp(self, emp):\n",
    "        if emp in self.empleados:\n",
    "            self.empleados.remove(emp)\n",
    "\n",
    "    def imprimir_emps(self):\n",
    "        lista_empleados = [emp.fullname() for emp in self.empleados]\n",
    "        return lista_empleados"
   ]
  },
  {
   "cell_type": "markdown",
   "metadata": {},
   "source": [
    "## >>>> Functions default arguments"
   ]
  },
  {
   "cell_type": "code",
   "execution_count": 15,
   "metadata": {},
   "outputs": [
    {
     "name": "stdout",
     "output_type": "stream",
     "text": [
      "a: 1, b: 42\n",
      "a: 1, b: 50\n"
     ]
    }
   ],
   "source": [
    "# Definiendo funciones con \"default arguments\"\n",
    "\n",
    "def spam(a, b=42):\n",
    "    print(f'a: {a}, b: {b}')\n",
    "\n",
    "spam(1)\n",
    "spam(1, 50)\n",
    "\n",
    "# Si el valor por defecto es un contenedor mutable (lista, set o diccionario) es mejor escribir el valor por defecto así: \n",
    "\n",
    "# def spam(a, b=None):\n",
    "#     if b is None:\n",
    "#         b = []\n",
    "\n"
   ]
  },
  {
   "cell_type": "code",
   "execution_count": null,
   "metadata": {},
   "outputs": [],
   "source": [
    "x = 42\n",
    "\n",
    "def spam(a, b=x):\n",
    "    print(f'a: {a}, b: {b}')\n",
    "\n",
    "spam(1)\n",
    "x = 48\n",
    "spam(1)\n",
    "\n",
    "# Los valores asignados por defecto se vinculan sólo en el momento de la definición de la función"
   ]
  },
  {
   "cell_type": "code",
   "execution_count": null,
   "metadata": {},
   "outputs": [],
   "source": [
    "# Los valores asignados por defecto deberían ser siempre objetos inmutables, como None, True, False, números o strings\n",
    "\n",
    "def spam(a, b=[]):\n",
    "    print(f'a: {a}, b: {b}')\n",
    "    return b\n",
    "\n",
    "x = spam(1)\n",
    "print(x)"
   ]
  },
  {
   "cell_type": "code",
   "execution_count": null,
   "metadata": {},
   "outputs": [],
   "source": [
    "x.append(99)\n",
    "x.append('Uff!')\n",
    "\n",
    "print(spam(1))"
   ]
  },
  {
   "cell_type": "code",
   "execution_count": null,
   "metadata": {},
   "outputs": [],
   "source": [
    "print(spam(20))"
   ]
  },
  {
   "cell_type": "code",
   "execution_count": null,
   "metadata": {},
   "outputs": [],
   "source": [
    "def spam(a, b=[]):\n",
    "    print(f'a: {a}, b: {b}')\n",
    "    return b"
   ]
  },
  {
   "cell_type": "code",
   "execution_count": null,
   "metadata": {},
   "outputs": [],
   "source": [
    "print(spam(5, x))"
   ]
  },
  {
   "cell_type": "code",
   "execution_count": null,
   "metadata": {},
   "outputs": [],
   "source": [
    "print(spam(9))"
   ]
  },
  {
   "cell_type": "markdown",
   "metadata": {},
   "source": [
    "## Functions default arguments <<<<"
   ]
  },
  {
   "cell_type": "code",
   "execution_count": null,
   "metadata": {},
   "outputs": [],
   "source": [
    "# Creamos instancias de la clase Director\n",
    "\n",
    "dir_1 = Director('Diego', 'Martínez', 100000, [dev_1])\n",
    "print(dir_1.email)\n",
    "print(f'1 - {dir_1.imprimir_emps()}')\n",
    "dir_1.añadir_emp(dev_2)\n",
    "print(f'2 - {dir_1.imprimir_emps()}')\n",
    "dir_1.quitar_emp(dev_1)\n",
    "print(f'3 - {dir_1.imprimir_emps()}')"
   ]
  },
  {
   "cell_type": "code",
   "execution_count": null,
   "metadata": {},
   "outputs": [],
   "source": [
    "# isinstance\n",
    "\n",
    "print(isinstance(dir_1, Director))\n",
    "print(isinstance(dir_1, Empleado))\n",
    "print(isinstance(dir_1, Desarrollador))"
   ]
  },
  {
   "cell_type": "code",
   "execution_count": null,
   "metadata": {},
   "outputs": [],
   "source": [
    "# issubclass\n",
    "\n",
    "print(issubclass(Desarrollador, Empleado))\n",
    "print(issubclass(Director, Empleado))\n",
    "print(issubclass(Director, Desarrollador))"
   ]
  },
  {
   "cell_type": "markdown",
   "metadata": {},
   "source": [
    "### Property Decorators - Getters, Setters, and Deleters\n",
    "In programming there is a concept called setters and getters. They are methods that you\n",
    "create to re-declare attribute values and return attribute values. We’ve seen how we can\n",
    "alter attribute values by directly accessing them; however, this can sometimes lead to\n",
    "problems or accidentally altering the value. Good practice is to create a method that will\n",
    "alter the attribute value for you and call that method when you need to set a new value.\n",
    "The same goes for when you want to access a given attributes value; instead of accessing\n",
    "it directly, you call a method that will return the value. This gives us a safer way to access\n",
    "an instances attributes.\n",
    "\n",
    "The property decorator allows us to define Class methods that we can access like attributes. This allows us to implement getters, setters, and deleters."
   ]
  },
  {
   "cell_type": "code",
   "execution_count": 11,
   "metadata": {},
   "outputs": [
    {
     "name": "stdout",
     "output_type": "stream",
     "text": [
      "Antonio\n",
      "Antonio\n",
      "antonio.puertas@empresa.com\n",
      "Pepe\n",
      "Yangel\n",
      "antonio.puertas@empresa.com\n",
      "Yangel Puertas\n"
     ]
    }
   ],
   "source": [
    "class Empleado2:\n",
    "\n",
    "    def __init__(self, nombre, apellido):\n",
    "        self.nombre = nombre\n",
    "        self.apellido = apellido\n",
    "        self.email = f'{nombre.lower()}.{apellido.lower()}@empresa.com'\n",
    "\n",
    "    def get_nombre(self):\n",
    "        return self.nombre\n",
    "\n",
    "    def set_nombre(self, nuevo_nombre):\n",
    "        self.nombre = nuevo_nombre\n",
    "\n",
    "    def fullname(self):\n",
    "        return f'{self.nombre} {self.apellido}'\n",
    "\n",
    "empl_1 = Empleado2('Antonio', 'Puertas')\n",
    "print(empl_1.nombre)\n",
    "print(empl_1.get_nombre())\n",
    "print(empl_1.email)\n",
    "empl_1.nombre = 'Pepe'\n",
    "print(empl_1.nombre)\n",
    "empl_1.set_nombre('Yangel')\n",
    "print(empl_1.nombre)\n",
    "print(empl_1.email) # a pesar de cambiar el nombre y apellidos, el email no cambia\n",
    "print(empl_1.fullname())"
   ]
  },
  {
   "cell_type": "code",
   "execution_count": null,
   "metadata": {},
   "outputs": [],
   "source": [
    "class Empleado2:\n",
    "\n",
    "    def __init__(self, nombre, apellido):\n",
    "        self.nombre = nombre\n",
    "        self.apellido = apellido\n",
    "\n",
    "    def email(self):\n",
    "        return f'{self.nombre.lower()}.{self.apellido.lower()}@empresa.com'\n",
    "\n",
    "    def fullname(self):\n",
    "        return f'{self.nombre} {self.apellido}'\n",
    "\n",
    "empl_1 = Empleado2('Antonio', 'Puertas')\n",
    "print(empl_1.nombre)\n",
    "print(empl_1.email) # como ahora es un método (función), habría que llamarlo con paréntesis\n",
    "print(empl_1.fullname())"
   ]
  },
  {
   "cell_type": "code",
   "execution_count": null,
   "metadata": {},
   "outputs": [],
   "source": [
    "class Empleado2:\n",
    "\n",
    "    def __init__(self, nombre, apellido):\n",
    "        self.nombre = nombre\n",
    "        self.apellido = apellido\n",
    "\n",
    "    @property # para poder seguir llamando un método como un atributo, usamos este decorator\n",
    "    def email(self):\n",
    "        return f'{self.nombre.lower()}.{self.apellido.lower()}@empresa.com'\n",
    "\n",
    "    def fullname(self):\n",
    "        return f'{self.nombre} {self.apellido}'\n",
    "\n",
    "empl_1.nombre = 'Darwin'\n",
    "\n",
    "print(empl_1.nombre)\n",
    "print(empl_1.email)\n",
    "print(empl_1.fullname())"
   ]
  },
  {
   "cell_type": "code",
   "execution_count": null,
   "metadata": {},
   "outputs": [],
   "source": [
    "# Queremos poder hacer empl_1 = 'Robert Kenedy' y con esto cambiar al mismo tiempo el nombre y el apellido\n",
    "\n",
    "class Empleado2:\n",
    "\n",
    "    def __init__(self, nombre, apellido):\n",
    "        self.nombre = nombre\n",
    "        self.apellido = apellido\n",
    "\n",
    "    @property\n",
    "    def email(self):\n",
    "        return f'{self.nombre.lower()}.{self.apellido.lower()}@empresa.com'\n",
    "\n",
    "    @property\n",
    "    def fullname(self):\n",
    "        return f'{self.nombre} {self.apellido}'"
   ]
  },
  {
   "cell_type": "code",
   "execution_count": null,
   "metadata": {},
   "outputs": [],
   "source": [
    "empl_1 = Empleado2('Antonio', 'Puertas')\n",
    "print(empl_1.nombre)\n",
    "print(empl_1.email)\n",
    "print(empl_1.fullname)\n",
    "\n",
    "empl_1.fullname = 'Robert Kenedy'"
   ]
  },
  {
   "cell_type": "code",
   "execution_count": null,
   "metadata": {},
   "outputs": [],
   "source": [
    "mi_lista = ['item1', 'item2']\n",
    "a, b = mi_lista\n",
    "print(a)\n",
    "print(b)"
   ]
  },
  {
   "cell_type": "code",
   "execution_count": null,
   "metadata": {},
   "outputs": [],
   "source": [
    "mi_nombre = 'Robert Kenedy'\n",
    "mi_nombre.split(' ')"
   ]
  },
  {
   "cell_type": "code",
   "execution_count": null,
   "metadata": {},
   "outputs": [],
   "source": [
    "nombre, apellido = mi_nombre.split(' ')\n",
    "print(nombre)\n",
    "print(apellido)"
   ]
  },
  {
   "cell_type": "code",
   "execution_count": 12,
   "metadata": {},
   "outputs": [],
   "source": [
    "class Empleado2:\n",
    "\n",
    "    def __init__(self, nombre, apellido):\n",
    "        self.nombre = nombre\n",
    "        self.apellido = apellido\n",
    "\n",
    "    @property\n",
    "    def email(self):\n",
    "        return f'{self.nombre.lower()}.{self.apellido.lower()}@empresa.com'\n",
    "\n",
    "    @property\n",
    "    def fullname(self):\n",
    "        return f'{self.nombre} {self.apellido}'\n",
    "\n",
    "    @fullname.setter\n",
    "    def fullname(self, nombre_completo):\n",
    "        nombre, apellido = nombre_completo.split(' ')\n",
    "        self.nombre = nombre\n",
    "        self.apellido = apellido"
   ]
  },
  {
   "cell_type": "code",
   "execution_count": 13,
   "metadata": {},
   "outputs": [
    {
     "name": "stdout",
     "output_type": "stream",
     "text": [
      "Antonio\n",
      "antonio.puertas@empresa.com\n",
      "Antonio Puertas\n"
     ]
    }
   ],
   "source": [
    "empl_1 = Empleado2('Antonio', 'Puertas')\n",
    "print(empl_1.nombre)\n",
    "print(empl_1.email)\n",
    "print(empl_1.fullname)"
   ]
  },
  {
   "cell_type": "code",
   "execution_count": 14,
   "metadata": {},
   "outputs": [
    {
     "name": "stdout",
     "output_type": "stream",
     "text": [
      "Robert\n",
      "robert.kenedy@empresa.com\n",
      "Robert Kenedy\n"
     ]
    }
   ],
   "source": [
    "empl_1.fullname = 'Robert Kenedy'\n",
    "print(empl_1.nombre)\n",
    "print(empl_1.email)\n",
    "print(empl_1.fullname)"
   ]
  },
  {
   "cell_type": "markdown",
   "metadata": {},
   "source": [
    "### --> Ejercicios\n",
    "1. Animals: Create a class definition of an animal that has a species attribute and both a setter and getter to change or access the attributes' value. Create an instance called \"lion\" and call the setter method with an argument of \"feline\". Then print out the species by calling the getter method.\n",
    "2. User Input: Create a class Person, that takes in a name when instantiated, but sets an age to 0. Within the class definition setup, a setter and getter that will ask the user to input their age and set the age attribute to the value input. Then output the information in a formatted string as \"You are 64 years old.\" Assuming the user input 64 as their age.\n",
    "3. Good Guys/Bad Guys: Create three classes, a superclass called \"Characters\" that will be defined with the following attributes and methods:\n",
    "\n",
    "a. Attributes: name, team, height, weight\n",
    "\n",
    "b. Methods: sayHello\n",
    "\n",
    "The sayHello method should output the statement \"Hello, my name is Max and I'm on the good guys.\". The team attribute should be declared to a string of either \"good\" or \"bad\". The other two classes, which will be subclasses, will be all the attributes that the superclass requires. The subclasses do not need any other methods or attributes. Instantiate one player on each team and call the sayHello method for each. The output should result in the following:\n",
    "\n",
    "``>>> \"Hello, my name is Max and I'm on the good guys\"``\n",
    "\n",
    "``>>> \"Hello, my name is Tony and I'm on the bad guys\"``"
   ]
  },
  {
   "cell_type": "code",
   "execution_count": null,
   "metadata": {},
   "outputs": [],
   "source": []
  }
 ],
 "metadata": {
  "kernelspec": {
   "display_name": "Python 3.10.5 ('venv': venv)",
   "language": "python",
   "name": "python3"
  },
  "language_info": {
   "codemirror_mode": {
    "name": "ipython",
    "version": 3
   },
   "file_extension": ".py",
   "mimetype": "text/x-python",
   "name": "python",
   "nbconvert_exporter": "python",
   "pygments_lexer": "ipython3",
   "version": "3.10.5"
  },
  "metadata": {
   "interpreter": {
    "hash": "62160820265f7ee5f9268992b4b4d52476e99f78bc4f7216f5b1fe2920f04afa"
   }
  },
  "vscode": {
   "interpreter": {
    "hash": "4a84144fe2cb265f9f8b9cb7eee296bb55be74236409e7953caddf9ce61ef878"
   }
  }
 },
 "nbformat": 4,
 "nbformat_minor": 2
}
