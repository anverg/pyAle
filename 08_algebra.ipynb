{
 "cells": [
  {
   "cell_type": "markdown",
   "metadata": {},
   "source": [
    "Cuando se aprende álgebra en la escuela, estás familiarizado con la idea de reemplazar números con letras. Por ejemplo, puedes escribir 2x donde x es un marcador de posición que puede representar cualquier número. Entonces 2x representa la idea de multiplicar dos por un número desconocido. En la clase de matemáticas, las variables se convierten en \"números misteriosos\" y debes encontrar qué números representan las letras.\n",
    "\n",
    "La clase de álgebra trata de resolver ecuaciones como esta: resuelve 2x + 5 = 13. En este contexto, \"resolver\" significa averiguar qué número, cuando reemplazas x con ese número, hace que la ecuación sea verdadera. Puedes resolver problemas de álgebra balanceando ecuaciones, lo que requiere muchas reglas que tienes que memorizar y seguir.\n",
    "\n",
    "Usar letras como marcadores de posición de esta manera es como usar variables en Python. De hecho, ya aprendió cómo usar variables para almacenar y calcular valores numéricos en capítulos anteriores. La habilidad importante que los estudiantes de matemáticas deben aprender no es resolver variables sino usar variables. De hecho, resolver ecuaciones a mano tiene un valor limitado. En este capítulo, utilizará variables para escribir programas que encuentren valores desconocidos de forma rápida y automática sin tener que equilibrar ecuaciones. También aprenderá a usar un entorno de programación llamado Processing para graficar funciones para ayudarlo a explorar álgebra visualmente."
   ]
  },
  {
   "cell_type": "markdown",
   "metadata": {},
   "source": [
    "##### RESOLVER ECUACIONES DE PRIMER GRADO \n",
    "\n",
    "Una manera de resolver una ecuación simple como 2x + 5 = 13 con programación es usando la fuerza bruta (es decir, reemplazando números aleatorios hasta encontrar el correcto). Para esta ecuación en particular necesitamos encontrar un número, x, que cuando lo multiplicamos por 2 y luego sumamos 5, devuelva 13. Partiremos de la hipótesis de que x es un valor entre −100 y 100, ya que estamos trabajando principalmente con números de dos dígitos o menos.\n",
    "Esto significa que podemos escribir un programa que inserte todos los enteros entre −100 y 100 en la ecuación, verifique la salida e imprima el número que hace que la ecuación verdadera."
   ]
  },
  {
   "cell_type": "code",
   "execution_count": 44,
   "metadata": {},
   "outputs": [],
   "source": [
    "def plug():\n",
    "    x = -100 # inicializamos la variable x con el valor 100\n",
    "    while x < 100: # empezamos un bucle while que se repite hasta que x llega al valor 100\n",
    "        if 2*x + 5 == 13:\n",
    "            print(\"x = \", x) # Si el resultado es 13 imprimimos la solución\n",
    "        x += 0.25 # si no, el programa continúa hasta que encuentra la solución. Sumamos 0.25 porque la solución puede no ser un entero sino un decimal"
   ]
  },
  {
   "cell_type": "code",
   "execution_count": 45,
   "metadata": {},
   "outputs": [
    {
     "name": "stdout",
     "output_type": "stream",
     "text": [
      "x =  4.0\n"
     ]
    }
   ],
   "source": [
    "plug()"
   ]
  },
  {
   "cell_type": "markdown",
   "metadata": {},
   "source": [
    "##### COMO ENCONTRAR LA FÓRMULA PARA ECUACIONES DE PRIMER GRADO \n",
    "Otra forma de resolver una ecuación como 2x + 5 = 13 es encontrar una fórmula general para este tipo de ecuaciones. Después, podremos usar esta fórmula para escribir un programa en Python. Recordarás de la clase de matemáticas que la ecuación 2x + 5 = 13 es un ejemplo de una ecuación de primer grado, porque el exponente más alto que tiene una variable en esta ecuación es 1. Y probablemente sepas que un número elevado a la primera potencia es igual al número mismo.\n",
    "\n",
    "De hecho, todas las ecuaciones de primer grado se ajustan a esta fórmula general: $$ax + b = cx + d$$ donde a, b, c y d representan números diferentes. Estos son algunos ejemplos de otras ecuaciones de primer grado.\n",
    "\n",
    "$$3x - 5 = 22$$\n",
    "$$4x - 12 = 2x - 9$$\n",
    "$$\\frac{1}{2}x+\\frac{2}{3}=\\frac{1}{5}x+\\frac{7}{8}$$\n",
    "\n",
    "A cada lado del signo igual, puedes ver un término x y una constante, que es un número sin x. El número que precede a la variable x se llama coeficiente. Por ejemplo, el coeficiente de 3x es 3.\n",
    "\n",
    "Pero a veces no hay ningún término x en uno de los lados de la ecuación, lo que significa que el coeficiente de esa x es cero. Puedes ver esto en el primer ejemplo, 3x − 5 = 22, donde 22 es el único término en el lado derecho del signo igual:\n",
    "\n",
    "$$ax + b = cx + d$$ \n",
    "$$3x - 5 = 0 + 22$$\n",
    "\n",
    "Usando la fórmula general, puedes ver que a = 3, b = −5 y d = 22. Lo único que parece faltar es el valor de c. Pero en realidad no falta. De hecho, el hecho de que no haya nada ahí significa que cx = 0, lo que significa que c debe ser igual a cero. \n",
    "\n",
    "Ahora usemos un poco de álgebra para resolver la ecuación ax + b = cx + d para x. Si podemos encontrar qué es x en la fórmula, podemos usarlo para resolver prácticamente todas las ecuaciones de esta forma.  \n",
    "\n",
    "Para resolver esta ecuación, primero pasamos todas las x a un lado del signo igual restando cx y b de ambos lados de la ecuación, así:  \n",
    "\n",
    "$$ax − cx = d − b$$\n",
    "\n",
    "Entonces podemos factorizar la x de ax y cx:  \n",
    "\n",
    "$$x(a − c) = d − b$$\n",
    "\n",
    "Finalmente, dividimos ambos lados por a − c para aislar x, lo que nos da el valor de x en términos de a, b, c y d:  \n",
    "$$x=\\frac{d - b}{a - c}$$\n",
    "Ahora podemos usar esta ecuación general para resolver cualquier variable x cuando la ecuación es una ecuación de primer grado y se conocen todos los coeficientes (a, b, c y d). Usemos esto para escribir un programa en Python que pueda resolver ecuaciones algebraicas de primer grado por nosotros."
   ]
  },
  {
   "cell_type": "markdown",
   "metadata": {},
   "source": [
    "#### COMO ESCRIBIR LA FUNCIÓN EQUATION()\n",
    "\n",
    "Recuerda que la fórmula general de una ecuación de primer grado es esta:\n",
    "\n",
    "$$x=\\frac{d - b}{a - c}$$\n",
    "\n",
    "Esto significa que para cualquier ecuación con la forma ax + b = cx + d, si tomamos los coeficientes y los reemplazamos en la fórmula, podemos calcular el valor de x. Primero, configuramos la función de equation() para que tome los cuatro coeficientes como sus parámetros. Entonces usamos la expresión (d - b)/(a - c) para representar la ecuación general."
   ]
  },
  {
   "cell_type": "code",
   "execution_count": 46,
   "metadata": {},
   "outputs": [],
   "source": [
    "def equation(a, b, c, d):\n",
    "    '''resuelve ecuaciones del tipo ax + b = cx + d'''\n",
    "    return (d - b)/(a - c)"
   ]
  },
  {
   "cell_type": "code",
   "execution_count": 47,
   "metadata": {},
   "outputs": [
    {
     "data": {
      "text/plain": [
       "4.0"
      ]
     },
     "execution_count": 47,
     "metadata": {},
     "output_type": "execute_result"
    }
   ],
   "source": [
    "# Probemos la fórmula con la ecuación que hemos visto antes: 2x + 5 = 13\n",
    "equation(2, 5, 0, 13)"
   ]
  },
  {
   "cell_type": "markdown",
   "metadata": {},
   "source": [
    "##### Explicar por qué usamos return en lugar de print()"
   ]
  },
  {
   "cell_type": "markdown",
   "metadata": {},
   "source": [
    "##### EJERCICIO\n",
    "\n",
    "Resolver la ecuación 12x + 18 = -34x + 67"
   ]
  },
  {
   "cell_type": "code",
   "execution_count": 48,
   "metadata": {},
   "outputs": [
    {
     "data": {
      "text/plain": [
       "1.065217391304348"
      ]
     },
     "execution_count": 48,
     "metadata": {},
     "output_type": "execute_result"
    }
   ],
   "source": [
    "equation(12, 18, -34, 67)"
   ]
  },
  {
   "cell_type": "code",
   "execution_count": 49,
   "metadata": {},
   "outputs": [],
   "source": [
    "x = equation(12, 18, -34, 67)"
   ]
  },
  {
   "cell_type": "code",
   "execution_count": 51,
   "metadata": {},
   "outputs": [
    {
     "name": "stdout",
     "output_type": "stream",
     "text": [
      "30.782608695652176\n",
      "30.782608695652172\n"
     ]
    }
   ],
   "source": [
    "print(12*x + 18)\n",
    "print(-34*x + 67)\n",
    "# vemos que sólo hay una pequeña discrepancia en el decimal 15"
   ]
  },
  {
   "cell_type": "markdown",
   "metadata": {},
   "source": [
    "##### EJERCICIO: FRACCIONES COMO COEFICIENTES\n",
    "\n",
    "Resuelve la ecuación $$\\frac{1}{2}x+\\frac{2}{3}=\\frac{1}{5}x+\\frac{7}{8}$$"
   ]
  },
  {
   "cell_type": "code",
   "execution_count": 52,
   "metadata": {},
   "outputs": [
    {
     "name": "stdout",
     "output_type": "stream",
     "text": [
      "0.6944444444444446\n"
     ]
    }
   ],
   "source": [
    "x = equation(1/2, 2/3, 1/5, 7/8)\n",
    "print(x)"
   ]
  },
  {
   "cell_type": "code",
   "execution_count": 54,
   "metadata": {},
   "outputs": [
    {
     "name": "stdout",
     "output_type": "stream",
     "text": [
      "1.0138888888888888\n",
      "1.0138888888888888\n"
     ]
    }
   ],
   "source": [
    "print((1/2)*x + 2/3)\n",
    "print((1/5)*x + 7/8)"
   ]
  },
  {
   "cell_type": "markdown",
   "metadata": {},
   "source": [
    "#### RESOLVER ECUACIONES DE GRADO SUPERIOR \n",
    "Ahora que sabemos cómo escribir programas que resuelven valores desconocidos en ecuaciones de primer grado, intentemos algo más difícil. Por ejemplo, las cosas se complican un poco más cuando una ecuación tiene un término elevado al segundo grado, como $x^{2} + 3x − 10 = 0$. Estas se llaman ecuaciones cuadráticas y su forma general es $ax^{2} + bx + c = 0$, donde a, b y c pueden ser cualquier número: positivo o negativo, números enteros, fracciones o decimales. La única excepción es que a no puede ser 0 porque eso la convertiría en una ecuación de primer grado. A diferencia de las ecuaciones de primer grado, que tienen una solución, las ecuaciones cuadráticas tienen dos soluciones posibles.\n",
    "\n",
    "Para resolver una ecuación con un término al cuadrado, puedes usar la fórmula cuadrática, que es lo que obtienes cuando despejas x:\n",
    "$$x = \\frac{-b^{+}_{-}\\sqrt{b^{2}-4ac}}{2a}$$\n",
    "La fórmula cuadrática es una herramienta muy poderosa para resolver ecuaciones, porque no importa lo que sean a, b y c en $ax^{2} + bx + c = 0$, simplemente puedes conectarlos a la fórmula y usar la aritmética básica para encontrar tus soluciones.\n",
    "\n",
    "Sabemos que los coeficientes de $x^{2} + 3x − 10 = 0$ son 1, 3 y −10. Cuando los conectamos a la fórmula, obtenemos $$x = \\frac{-3^{+}_{-}\\sqrt{3^{2}-4(1)(-10)}}{2(1)}$$\n",
    "\n",
    "Simplificando obtenemos $$x = \\frac{-3^{+}_{-}\\sqrt{49}}{2}$$\n",
    "\n",
    "Hay dos soluciones:\n",
    "\n",
    "$$x = \\frac{-3 + 7}{2}=2$$\n",
    "$$x = \\frac{-3 - 7}{2}=-5$$\n",
    "\n",
    "Podemos ver que reemplazando x en la fórmula quadrática con cualquiera de estas dos soluciones hace la ecuación verdadera:\n",
    "\n",
    "$2^{2} + 3(2) − 10 = 4 + 6 - 10 = 0$  \n",
    "$(-5)^{2} + 3(-5) − 10 = 25 - 15 - 10 = 0$"
   ]
  },
  {
   "cell_type": "markdown",
   "metadata": {},
   "source": [
    "#### USAR QUAD() PARA RESOLVER ECUACIONES CUADRÁTICAS \n",
    "Digamos que queremos usar Python para resolver la siguiente ecuación cuadrática: $2x^{2} + 7x − 15 = 0$\n",
    "\n",
    "Para hacer esto, escribiremos una función llamada quad() que toma los tres coeficientes (a, b y c) y devuelve dos soluciones. Pero antes de hacer nada, necesitamos importar el método sqrt desde el módulo math. El método sqrt nos permite encontrar la raíz cuadrada de un número en Python, al igual que el botón de raíz cuadrada en una calculadora. Funciona muy bien para números positivos, pero si intenta encontrar la raíz cuadrada de un número negativo, obtendremos un error"
   ]
  },
  {
   "cell_type": "code",
   "execution_count": 1,
   "metadata": {},
   "outputs": [],
   "source": [
    "from math import sqrt"
   ]
  },
  {
   "cell_type": "code",
   "execution_count": 2,
   "metadata": {},
   "outputs": [
    {
     "name": "stdout",
     "output_type": "stream",
     "text": [
      "2.0\n"
     ]
    },
    {
     "ename": "ValueError",
     "evalue": "math domain error",
     "output_type": "error",
     "traceback": [
      "\u001b[1;31m---------------------------------------------------------------------------\u001b[0m",
      "\u001b[1;31mValueError\u001b[0m                                Traceback (most recent call last)",
      "\u001b[1;32mh:\\Mi unidad\\pyAle\\08_algebra.ipynb Cell 20'\u001b[0m in \u001b[0;36m<cell line: 2>\u001b[1;34m()\u001b[0m\n\u001b[0;32m      <a href='vscode-notebook-cell:/h%3A/Mi%20unidad/pyAle/08_algebra.ipynb#ch0000019?line=0'>1</a>\u001b[0m \u001b[39mprint\u001b[39m(sqrt(\u001b[39m4\u001b[39m))\n\u001b[1;32m----> <a href='vscode-notebook-cell:/h%3A/Mi%20unidad/pyAle/08_algebra.ipynb#ch0000019?line=1'>2</a>\u001b[0m \u001b[39mprint\u001b[39m(sqrt(\u001b[39m-\u001b[39;49m\u001b[39m4\u001b[39;49m))\n",
      "\u001b[1;31mValueError\u001b[0m: math domain error"
     ]
    }
   ],
   "source": [
    "print(sqrt(4))\n",
    "print(sqrt(-4))"
   ]
  },
  {
   "cell_type": "code",
   "execution_count": 3,
   "metadata": {},
   "outputs": [],
   "source": [
    "# Vamos a crear la función quad()\n",
    "\n",
    "def quad(a, b, c):\n",
    "    '''Devuelve la solución de una ecuación del tipo a*x**2 + b*x + c = 0'''\n",
    "    x1 = (-b + sqrt(b**2 - 4*a*c)) / (2*a)\n",
    "    x2 = (-b - sqrt(b**2 - 4*a*c)) / (2*a)\n",
    "    return x1, x2\n",
    "\n"
   ]
  },
  {
   "cell_type": "markdown",
   "metadata": {},
   "source": [
    "$2x^{2} + 7x − 15 = 0$"
   ]
  },
  {
   "cell_type": "code",
   "execution_count": 4,
   "metadata": {},
   "outputs": [
    {
     "name": "stdout",
     "output_type": "stream",
     "text": [
      "a =  1.5\n",
      "b =  -5.0\n"
     ]
    }
   ],
   "source": [
    "a, b = quad(2, 7, -15)\n",
    "print('a = ', a)\n",
    "print('b = ', b)"
   ]
  },
  {
   "cell_type": "code",
   "execution_count": 15,
   "metadata": {},
   "outputs": [
    {
     "name": "stdout",
     "output_type": "stream",
     "text": [
      "0.0\n",
      "0.0\n"
     ]
    }
   ],
   "source": [
    "# Como podemos ver, las dos soluciones para x son 1.5 y −5, lo que significa que ambos valores deben satisfacer la ecuación 2x + 7x − 15 = 0. Para probar esto, reemplacemos todas las variables x en la ecuación original con 1.5, la primera solución, y luego con −5, la segunda solucion\n",
    "\n",
    "print(2*a**2 + 7*a - 15)\n",
    "print(2*b**2 + 7*b - 15)"
   ]
  },
  {
   "cell_type": "markdown",
   "metadata": {},
   "source": [
    "#### USAR PLUG() PARA RESOLVER UNA ECUACIÓN CÚBICA \n",
    "\n",
    "En clase de álgebra, a menudo se pide resolver una ecuación cúbica como $6x^{3} + 31x^{2} + 3x − 10 = 0$, que tiene un término elevado al tercer grado. Podemos modificar la función plug() que escribimos al principio para resolver esta ecuación cúbica usando el método de fuerza bruta"
   ]
  },
  {
   "cell_type": "code",
   "execution_count": 7,
   "metadata": {},
   "outputs": [],
   "source": [
    "def f(x):\n",
    "    return 6*x**3+31*x**2+3*x-10\n",
    "\n",
    "def plug():\n",
    "    x = -100\n",
    "    while x < 100:\n",
    "        if f(x) == 0:\n",
    "            print('x = ', x)\n",
    "        x +=1\n",
    "    print('Hecho!')"
   ]
  },
  {
   "cell_type": "code",
   "execution_count": 8,
   "metadata": {},
   "outputs": [
    {
     "name": "stdout",
     "output_type": "stream",
     "text": [
      "x =  -5\n",
      "Hecho!\n"
     ]
    }
   ],
   "source": [
    "plug()"
   ]
  },
  {
   "cell_type": "markdown",
   "metadata": {},
   "source": [
    "Esto da −5 como solución, pero como podemos sospechar al haber trabajado con ecuaciones cuadráticas anteriormente, el término x significa que podría haber hasta tres soluciones para esta ecuación. Podemos, por tanto, utilizar la fuerza bruta para llegar a una solución como ésta, pero no podremos determinar si existen otras soluciones o cuáles son. Afortunadamente, hay una forma de ver todas las entradas posibles y las salidas correspondientes de un función resolviendo las ecuaciones gráficamente."
   ]
  },
  {
   "cell_type": "markdown",
   "metadata": {},
   "source": [
    "##### Ver grid.pyde"
   ]
  },
  {
   "cell_type": "markdown",
   "metadata": {},
   "source": [
    "#### Usar adivinar y verificar para encontrar las soluciones\n",
    "\n",
    "Las soluciones de la ecuación están donde la gráfica cruza el eje x. Podemos ver tres lugares: uno donde x = −5, otra donde x está entre −1 y 0, y una tercera donde x está entre 0 y 1.\n",
    "\n",
    "Ya vimos cuán efectivo fue nuestro método adivinar y verificar para adivinar números anteriormente. Ahora podemos usarlo para aproximar las soluciones, para la ecuación $6x^{3} + 31x^{2} + 3x − 10 = 0$. Comencemos con la solución entre 0 y 1. ¿Es 0.5 o algo más? Para probar esto, podemos introducir fácilmente 0,5 en la ecuación."
   ]
  },
  {
   "cell_type": "code",
   "execution_count": 10,
   "metadata": {},
   "outputs": [
    {
     "data": {
      "text/plain": [
       "0.0"
      ]
     },
     "execution_count": 10,
     "metadata": {},
     "output_type": "execute_result"
    }
   ],
   "source": [
    "f(0.5)\n",
    "# Como puedes ver, cuando x es igual a 0,5, hace que la función sea igual a 0, por lo que otra solución de nuestra ecuación es x = 0,5."
   ]
  },
  {
   "cell_type": "markdown",
   "metadata": {},
   "source": [
    "Ahora tratemos de encontrar la solución entre -1 y 0"
   ]
  },
  {
   "cell_type": "code",
   "execution_count": 11,
   "metadata": {},
   "outputs": [
    {
     "data": {
      "text/plain": [
       "-4.5"
      ]
     },
     "execution_count": 11,
     "metadata": {},
     "output_type": "execute_result"
    }
   ],
   "source": [
    "f(-0.5)"
   ]
  },
  {
   "cell_type": "markdown",
   "metadata": {},
   "source": [
    "En x = −0.5, la función es negativa, no cero. Mirando el gráfico, podemos decir que adivinamos demasiado alto, por lo que la solución debe estar en algún lugar entre −1 y −0.5. Promediaremos esos puntos finales y lo intentaremos de nuevo:"
   ]
  },
  {
   "cell_type": "code",
   "execution_count": 12,
   "metadata": {},
   "outputs": [
    {
     "data": {
      "text/plain": [
       "2.65625"
      ]
     },
     "execution_count": 12,
     "metadata": {},
     "output_type": "execute_result"
    }
   ],
   "source": [
    "f(-0.75)"
   ]
  },
  {
   "cell_type": "markdown",
   "metadata": {},
   "source": [
    "Obtenemos un número positivo, así que adivinamos demasiado bajo. Por tanto, la solución debe estar entre −0,75 y −0,5:"
   ]
  },
  {
   "cell_type": "code",
   "execution_count": 13,
   "metadata": {},
   "outputs": [
    {
     "data": {
      "text/plain": [
       "-1.23046875"
      ]
     },
     "execution_count": 13,
     "metadata": {},
     "output_type": "execute_result"
    }
   ],
   "source": [
    "f(-0.625)"
   ]
  },
  {
   "cell_type": "markdown",
   "metadata": {},
   "source": [
    "##### Escribir la función adivinar()\n",
    "\n",
    "Todavía demasiado alto. Esto se está volviendo un poco tedioso. Veamos cómo podríamos usar Python para hacer estos pasos por nosotros.\n",
    "\n",
    "Vamos a crear una función que encuentre las raíces de una ecuación promediando los valores inferior y superior y ajustando sus próximas conjeturas en consecuencia. Esto funcionará para nuestra tarea actual, donde la función pasa por el eje x de positivo a negativo. Para que una función suba, de negativa a positiva, tendríamos que cambiarla un poco."
   ]
  },
  {
   "cell_type": "code",
   "execution_count": 36,
   "metadata": {},
   "outputs": [],
   "source": [
    "def media(a, b):\n",
    "    return (a + b) / 2.0\n",
    "\n",
    "def adivinar(lower, upper, iteraciones):\n",
    "    a = lower\n",
    "    b = upper\n",
    "    for i in range(iteraciones):\n",
    "        midpt = media(a, b)\n",
    "        print('midpt =', midpt, f(midpt))\n",
    "        if f(midpt) == 0:\n",
    "            return midpt\n",
    "        elif f(midpt) < 0: # \n",
    "            b = midpt\n",
    "        else:\n",
    "            a = midpt\n",
    "    return midpt"
   ]
  },
  {
   "cell_type": "code",
   "execution_count": 37,
   "metadata": {},
   "outputs": [
    {
     "name": "stdout",
     "output_type": "stream",
     "text": [
      "midpt = -0.5 -4.5\n",
      "midpt = -0.75 2.65625\n",
      "midpt = -0.625 -1.23046875\n",
      "midpt = -0.6875 0.64013671875\n",
      "midpt = -0.65625 -0.31390380859375\n",
      "midpt = -0.671875 0.15850067138671875\n",
      "midpt = -0.6640625 -0.07886409759521484\n",
      "midpt = -0.66796875 0.039528727531433105\n",
      "midpt = -0.666015625 -0.019740208983421326\n",
      "midpt = -0.6669921875 0.009876145049929619\n",
      "midpt = -0.66650390625 -0.004936562618240714\n",
      "midpt = -0.666748046875 0.0024686588149052113\n",
      "midpt = -0.6666259765625 -0.001234235034644371\n",
      "midpt = -0.66668701171875 0.0006171411109789915\n",
      "midpt = -0.666656494140625 -0.00030856465713213765\n",
      "midpt = -0.6666717529296875 0.00015428380316251378\n",
      "midpt = -0.6666641235351562 -7.714153293392201e-05\n",
      "midpt = -0.6666679382324219 3.8570858627906546e-05\n",
      "midpt = -0.6666660308837891 -1.9285406274605066e-05\n",
      "midpt = -0.6666669845581055 9.642708896251406e-06\n",
      "-0.6666669845581055 9.642708896251406e-06\n"
     ]
    }
   ],
   "source": [
    "x = adivinar(-1, 0, 20)\n",
    "print(x, f(x))"
   ]
  },
  {
   "cell_type": "markdown",
   "metadata": {},
   "source": [
    "La primera salida es el valor de x, que está muy cerca de −2/3. La segunda salida es lo que f(x) evalúa cuando reemplazamos −2/3 como el valor de x. El e-06 al final es notación científica, lo que significa que tomas el 9,64 y mueves el lugar decimal seis lugares a la izquierda.\n",
    "\n",
    "Entonces f(x) se evalúa como 0.00000964, que está muy cerca de cero. ¡Pasar por este programa de adivinar y verificar y obtener esta solución, o más bien una aproximación con una precisión de una millonésima parte de la solución real, que aparece en menos de un segundo sigue siendo sorprendente y maravilloso para mí! ¿Puedes ver el poder de explorar problemas matemáticos usando software como Python y Processing?\n",
    "\n",
    "Si aumentamos el número de iteraciones de 20 a 40 obtenemos un número aún más cercano a 0"
   ]
  },
  {
   "cell_type": "code",
   "execution_count": 38,
   "metadata": {},
   "outputs": [
    {
     "name": "stdout",
     "output_type": "stream",
     "text": [
      "midpt = -0.5 -4.5\n",
      "midpt = -0.75 2.65625\n",
      "midpt = -0.625 -1.23046875\n",
      "midpt = -0.6875 0.64013671875\n",
      "midpt = -0.65625 -0.31390380859375\n",
      "midpt = -0.671875 0.15850067138671875\n",
      "midpt = -0.6640625 -0.07886409759521484\n",
      "midpt = -0.66796875 0.039528727531433105\n",
      "midpt = -0.666015625 -0.019740208983421326\n",
      "midpt = -0.6669921875 0.009876145049929619\n",
      "midpt = -0.66650390625 -0.004936562618240714\n",
      "midpt = -0.666748046875 0.0024686588149052113\n",
      "midpt = -0.6666259765625 -0.001234235034644371\n",
      "midpt = -0.66668701171875 0.0006171411109789915\n",
      "midpt = -0.666656494140625 -0.00030856465713213765\n",
      "midpt = -0.6666717529296875 0.00015428380316251378\n",
      "midpt = -0.6666641235351562 -7.714153293392201e-05\n",
      "midpt = -0.6666679382324219 3.8570858627906546e-05\n",
      "midpt = -0.6666660308837891 -1.9285406274605066e-05\n",
      "midpt = -0.6666669845581055 9.642708896251406e-06\n",
      "midpt = -0.6666665077209473 -4.821353009276663e-06\n",
      "midpt = -0.6666667461395264 2.410676863462413e-06\n",
      "midpt = -0.6666666269302368 -1.2053383429133646e-06\n",
      "midpt = -0.6666666865348816 6.026691927729644e-07\n",
      "midpt = -0.6666666567325592 -3.0133459105741167e-07\n",
      "midpt = -0.6666666716337204 1.5066729730506268e-07\n",
      "midpt = -0.6666666641831398 -7.533364865253134e-08\n",
      "midpt = -0.6666666679084301 3.766682432626567e-08\n",
      "midpt = -0.666666666045785 -1.8833411274954415e-08\n",
      "midpt = -0.6666666669771075 9.416705637477207e-09\n",
      "midpt = -0.6666666665114462 -4.708352818738604e-09\n",
      "midpt = -0.6666666667442769 2.3541772975477215e-09\n",
      "midpt = -0.6666666666278616 -1.1770886487738608e-09\n",
      "midpt = -0.6666666666860692 5.885443243869304e-10\n",
      "midpt = -0.6666666666569654 -2.942712740150455e-10\n",
      "midpt = -0.6666666666715173 1.4713563700752275e-10\n",
      "midpt = -0.6666666666642413 -7.356781850376137e-11\n",
      "midpt = -0.6666666666678793 3.6784797430300387e-11\n",
      "midpt = -0.6666666666660603 -1.8392398715150193e-11\n",
      "midpt = -0.6666666666669698 9.196199357575097e-12\n",
      "-0.6666666666669698 9.196199357575097e-12\n"
     ]
    }
   ],
   "source": [
    "x = adivinar(-1, 0, 40)\n",
    "print(x, f(x))"
   ]
  },
  {
   "cell_type": "code",
   "execution_count": 39,
   "metadata": {},
   "outputs": [
    {
     "data": {
      "text/plain": [
       "0.0"
      ]
     },
     "execution_count": 39,
     "metadata": {},
     "output_type": "execute_result"
    }
   ],
   "source": [
    "f(-2/3)"
   ]
  },
  {
   "cell_type": "markdown",
   "metadata": {},
   "source": [
    "Luego las 3 soluciones para la ecuación $6x^{3} + 31x^{2} + 3x − 10 = 0$ son x = -5, -2/3 y 1/2"
   ]
  },
  {
   "cell_type": "markdown",
   "metadata": {},
   "source": [
    "##### EJERCICIO: ENCONTRAR MÁS SOLUCIONES\n",
    "Usa la herramienta gráfica que acabas de crear para encontrar las raíces de $2x^{2} + 7x – 15 = 0$. Recuerda, las soluciones están donde la gráfica cruza el eje x, o donde la función es igual a 0. Verifica tus respuestas usando su función quad()."
   ]
  },
  {
   "cell_type": "markdown",
   "metadata": {},
   "source": [
    "#### RESUMEN \n",
    "En este capítulo hemos aprendido que resolver ecuaciones de cualquier gradpo no es tan difícil de hacer programáticamente usando nuestro método de adivinar y verificar. También escribimos programas que resuelven ecuaciones de otras maneras, como usar la fórmula quad() y hacer el gráfico. De hecho, aprendiste que todo lo que tenemos que hacer para resolver una ecuación, sin importar cuán complicada sea, es graficarla y aproximar dónde cruza el eje x. Al iterar y reducir a la mitad el rango de valores que funcionan, podemos obtener la precisión que queramos.\n",
    "\n",
    "En programación, usamos el álgebra para crear variables para representar valores que cambiarán, como el tamaño o las coordenadas de un objeto. Luego, el usuario puede cambiar el valor de una variable en un lugar, y el programa cambiará automáticamente el valor de esa variable en todas partes del programa. El usuario también puede cambiar estas variables mediante un bucle o declarar el valor en una llamada de función. En capítulos futuros, modelaremos situaciones de la vida real en las que necesitamos usar variables para representar parámetros y restricciones en el modelo, como el contenido de energía y la fuerza de gravedad. El uso de variables nos permite cambiar valores fácilmente, para variar diferentes aspectos del modelo."
   ]
  },
  {
   "cell_type": "markdown",
   "metadata": {},
   "source": [
    "El siguiente capítulo es geometry.pyde"
   ]
  },
  {
   "cell_type": "markdown",
   "metadata": {},
   "source": []
  }
 ],
 "metadata": {
  "interpreter": {
   "hash": "66f4cf75e3dfd4dc77a88678c38942cd19961f143c116a69a558fe0b7c73d090"
  },
  "kernelspec": {
   "display_name": "Python 3.8.1 ('venv': venv)",
   "language": "python",
   "name": "python3"
  },
  "language_info": {
   "codemirror_mode": {
    "name": "ipython",
    "version": 3
   },
   "file_extension": ".py",
   "mimetype": "text/x-python",
   "name": "python",
   "nbconvert_exporter": "python",
   "pygments_lexer": "ipython3",
   "version": "3.8.1"
  },
  "orig_nbformat": 4
 },
 "nbformat": 4,
 "nbformat_minor": 2
}
