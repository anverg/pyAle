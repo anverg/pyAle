{
 "cells": [
  {
   "cell_type": "markdown",
   "metadata": {},
   "source": [
    "### Operadores de comparación: siempre devuelven True o False\n",
    "~~~\n",
    "1. <    menor que\n",
    "2. >    mayor que\n",
    "3. <=   menor o igual que\n",
    "4. >=   mayor o igual que\n",
    "5. ==   igual que\n",
    "6. !=   no igual a \n",
    "~~~"
   ]
  },
  {
   "cell_type": "code",
   "execution_count": 1,
   "metadata": {},
   "outputs": [
    {
     "name": "stdout",
     "output_type": "stream",
     "text": [
      "True\n",
      "False\n"
     ]
    }
   ],
   "source": [
    "print(6 > 5)\n",
    "print(6 > 7)"
   ]
  },
  {
   "cell_type": "code",
   "execution_count": 2,
   "metadata": {},
   "outputs": [
    {
     "ename": "SyntaxError",
     "evalue": "expression cannot contain assignment, perhaps you meant \"==\"? (3504022471.py, line 1)",
     "output_type": "error",
     "traceback": [
      "\u001b[1;36m  Input \u001b[1;32mIn [2]\u001b[1;36m\u001b[0m\n\u001b[1;33m    print(6 = 6)\u001b[0m\n\u001b[1;37m          ^\u001b[0m\n\u001b[1;31mSyntaxError\u001b[0m\u001b[1;31m:\u001b[0m expression cannot contain assignment, perhaps you meant \"==\"?\n"
     ]
    }
   ],
   "source": [
    "print(6 = 6)"
   ]
  },
  {
   "cell_type": "code",
   "execution_count": 3,
   "metadata": {},
   "outputs": [
    {
     "name": "stdout",
     "output_type": "stream",
     "text": [
      "False\n",
      "True\n"
     ]
    }
   ],
   "source": [
    "y = 3\n",
    "x = 4\n",
    "print(y > x)\n",
    "print(y < 10)"
   ]
  },
  {
   "cell_type": "markdown",
   "metadata": {},
   "source": [
    "#### TOMAR DECISIONES CON DECLARACIONES IF Y ELSE \n",
    "Podemos hacer que nuestro programa tome decisiones sobre qué código ejecutar usando if y else. Por ejemplo, si la condición que establecemos resulta ser verdadera, el programa ejecuta un conjunto de código. Si la condición resulta ser Falsa, podemos escribir el programa para hacer otra cosa o incluso no hacer nada en absoluto."
   ]
  },
  {
   "cell_type": "markdown",
   "metadata": {},
   "source": [
    "##### if\n",
    "Ejecuta una porción de código sólo si se cumple cierta condición"
   ]
  },
  {
   "cell_type": "code",
   "execution_count": 4,
   "metadata": {},
   "outputs": [
    {
     "name": "stdout",
     "output_type": "stream",
     "text": [
      "yes!\n"
     ]
    }
   ],
   "source": [
    "y = 7\n",
    "if y > 5:\n",
    "    print('yes!')"
   ]
  },
  {
   "cell_type": "markdown",
   "metadata": {},
   "source": [
    "También podemos darle al programa un código alternativo para que se ejecute usando else y elif\n",
    "\n",
    "##### else"
   ]
  },
  {
   "cell_type": "code",
   "execution_count": 5,
   "metadata": {},
   "outputs": [
    {
     "name": "stdout",
     "output_type": "stream",
     "text": [
      "no!\n"
     ]
    }
   ],
   "source": [
    "y = 6 \n",
    "if y > 7: \n",
    "    print(\"yes!\")\n",
    "else:\n",
    "    print(\"no!\")"
   ]
  },
  {
   "cell_type": "markdown",
   "metadata": {},
   "source": [
    "##### elif"
   ]
  },
  {
   "cell_type": "code",
   "execution_count": 6,
   "metadata": {},
   "outputs": [
    {
     "name": "stdout",
     "output_type": "stream",
     "text": [
      "Wow, you're old!\n"
     ]
    }
   ],
   "source": [
    "age = 50 \n",
    "if age < 10: \n",
    "    print(\"What school do you go to?\")\n",
    "elif 11 < age < 20: \n",
    "    print(\"You're cool!\")\n",
    "elif 20 <= age < 30: \n",
    "    print(\"What job do you have?\")\n",
    "elif 30 <= age < 40: \n",
    "    print(\"Are you married?\")\n",
    "else:\n",
    "    print(\"Wow, you're old!\")"
   ]
  },
  {
   "cell_type": "markdown",
   "metadata": {},
   "source": [
    "Hay que tener en cuenta que se puede usar <= para \"menor que o igual a\" o se puede usar desigualdades compuestas, como si 11 < edad < 20: para \"si la edad está entre 11 y 20\"."
   ]
  },
  {
   "cell_type": "markdown",
   "metadata": {},
   "source": [
    "#### USAR CONDICIONALES PARA ENCONTRAR FACTORES \n",
    "Ahora usemos lo que has aprendido hasta ahora para factorizar un número! Un factor es un número que es divisible por otro número, por ejemplo, 5 es un factor de 10 porque podemos dividir 10 por 5. En la clase de matemáticas, usamos factores para hacer todo, desde encontrar denominadores comunes hasta determinar si un número es primo.\n",
    "\n",
    "En Python puedes usar el operador de módulo (%) para calcular el resto al dividir dos números. Por ejemplo, si a % b es igual a cero, significa que a es divisible por b"
   ]
  },
  {
   "cell_type": "code",
   "execution_count": 9,
   "metadata": {},
   "outputs": [
    {
     "name": "stdout",
     "output_type": "stream",
     "text": [
      "2\n",
      "0\n"
     ]
    }
   ],
   "source": [
    "print(20 % 3)\n",
    "print(20 % 5) # el resto es 0, por lo que sabemos que 20 es divisible por 5"
   ]
  },
  {
   "cell_type": "markdown",
   "metadata": {},
   "source": [
    "#### ESCRIBIENDO EL PROGRAMA FACTORES.PY \n",
    "Usemos el módulo operator para escribir una función que toma un número y devuelve una lista de los factores de ese número. En lugar de simplemente imprimir los factores, los pondremos en una lista para que podamos usar la lista de factores en otra función más adelante. Antes de comenzar a escribir este programa, es una buena idea diseñar nuestro plan. Estos son los pasos involucrados en el programa de factores.py:\n",
    "\n",
    "1. Define la función de factores, que toma un número como argumento. \n",
    "2. Crea una lista de factores vacía para llenar con factores. \n",
    "3. Recorre todos los números desde el 1 hasta el número dado. \n",
    "4. Si alguno de estos números da un resto 0, añádelo a la lista de factores.\n",
    "5. Devuelva la lista de factores al final."
   ]
  },
  {
   "cell_type": "code",
   "execution_count": 12,
   "metadata": {},
   "outputs": [],
   "source": [
    "def factors(num):\n",
    "    '''Devuelve una lista con los factores de num'''\n",
    "    factorList = []\n",
    "    for i in range(1, num+1): # va desde 1 (no se puede dividir por 0) hasta num + 1 para incluir num\n",
    "        if num % i == 0:\n",
    "            factorList.append(i)\n",
    "    return factorList"
   ]
  },
  {
   "cell_type": "code",
   "execution_count": 13,
   "metadata": {},
   "outputs": [
    {
     "data": {
      "text/plain": [
       "[1, 2, 3, 4, 5, 6, 8, 10, 12, 15, 20, 24, 30, 40, 60, 120]"
      ]
     },
     "execution_count": 13,
     "metadata": {},
     "output_type": "execute_result"
    }
   ],
   "source": [
    "factors(120)"
   ]
  },
  {
   "cell_type": "markdown",
   "metadata": {},
   "source": [
    "##### EJERCICIO 5-1: ENCONTRAR EL FACTOR \n",
    "\n",
    "La función factors() podría resultar útil para encontrar el máximo común divisor (MCD) de dos números. Escribe una función que devuelva el MCD de dos números, así:\n",
    "\n",
    "mcd(150,138)\n",
    "\n",
    "6"
   ]
  },
  {
   "cell_type": "code",
   "execution_count": 20,
   "metadata": {},
   "outputs": [],
   "source": [
    "# 1. Hay que encontrar los divisores de ambos números\n",
    "# 2. Ver cuáles son los divisores comunes\n",
    "# 3. Encontrar el mayor de ellos\n",
    "\n",
    "def mcd(a, b):\n",
    "    list_a = factors(a)\n",
    "    list_b = factors(b)\n",
    "    list_comunes = [x for x in list_a if x in list_b]\n",
    "    mcd = max(list_comunes)\n",
    "    return mcd"
   ]
  },
  {
   "cell_type": "code",
   "execution_count": 14,
   "metadata": {},
   "outputs": [
    {
     "name": "stdout",
     "output_type": "stream",
     "text": [
      "[1, 2, 3, 5, 6, 10, 15, 25, 30, 50, 75, 150]\n",
      "[1, 2, 3, 6, 23, 46, 69, 138]\n"
     ]
    }
   ],
   "source": [
    "print(factors(150))\n",
    "print(factors(138))"
   ]
  },
  {
   "cell_type": "code",
   "execution_count": 21,
   "metadata": {},
   "outputs": [
    {
     "data": {
      "text/plain": [
       "6"
      ]
     },
     "execution_count": 21,
     "metadata": {},
     "output_type": "execute_result"
    }
   ],
   "source": [
    "mcd(138, 150)"
   ]
  },
  {
   "cell_type": "code",
   "execution_count": 22,
   "metadata": {},
   "outputs": [
    {
     "data": {
      "text/plain": [
       "6"
      ]
     },
     "execution_count": 22,
     "metadata": {},
     "output_type": "execute_result"
    }
   ],
   "source": [
    "mcd(150, 138)"
   ]
  },
  {
   "cell_type": "markdown",
   "metadata": {},
   "source": [
    "##### Generar números aleatorios"
   ]
  },
  {
   "cell_type": "code",
   "execution_count": 26,
   "metadata": {},
   "outputs": [
    {
     "name": "stdout",
     "output_type": "stream",
     "text": [
      "109\n"
     ]
    }
   ],
   "source": [
    "from random import randint\n",
    "\n",
    "print(randint(90, 180))"
   ]
  },
  {
   "cell_type": "code",
   "execution_count": null,
   "metadata": {},
   "outputs": [],
   "source": []
  }
 ],
 "metadata": {
  "interpreter": {
   "hash": "66f4cf75e3dfd4dc77a88678c38942cd19961f143c116a69a558fe0b7c73d090"
  },
  "kernelspec": {
   "display_name": "Python 3.8.1 ('venv': venv)",
   "language": "python",
   "name": "python3"
  },
  "language_info": {
   "codemirror_mode": {
    "name": "ipython",
    "version": 3
   },
   "file_extension": ".py",
   "mimetype": "text/x-python",
   "name": "python",
   "nbconvert_exporter": "python",
   "pygments_lexer": "ipython3",
   "version": "3.8.1"
  },
  "orig_nbformat": 4
 },
 "nbformat": 4,
 "nbformat_minor": 2
}
