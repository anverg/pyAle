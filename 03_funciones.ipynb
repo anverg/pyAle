{
 "cells": [
  {
   "cell_type": "markdown",
   "metadata": {},
   "source": [
    "## Funciones\n",
    "Las funciones son valores que pueden ser asignados a una variable\n",
    "Hay dos tipos de funciones:\n",
    "- Built-in functions\n",
    "- Custom functions"
   ]
  },
  {
   "cell_type": "code",
   "execution_count": 1,
   "metadata": {},
   "outputs": [
    {
     "name": "stdout",
     "output_type": "stream",
     "text": [
      "<built-in function len>\n"
     ]
    }
   ],
   "source": [
    "print(len)"
   ]
  },
  {
   "cell_type": "code",
   "execution_count": 2,
   "metadata": {},
   "outputs": [
    {
     "name": "stdout",
     "output_type": "stream",
     "text": [
      "3\n"
     ]
    }
   ],
   "source": [
    "# Para llamar o ejecutar una función, necesitamos paréntesis\n",
    "print(len('ale'))"
   ]
  },
  {
   "cell_type": "markdown",
   "metadata": {},
   "source": [
    "Un argumento es un valor que se pasa a la función como input (entrada). Algunas funciones se pueden llamar sin argumentos y otras pueden aceptar tantos argumentos como queramos. len () requiere exactamente un argumento.\n",
    "Cuando una función termina de ejecutarse, devuelve un valor como output (salida). El valor de retorno por lo general, pero no siempre, depende de los valores de los argumentos pasados ​​a la función.\n",
    "\n",
    "El proceso para ejecutar una función se puede resumir en tres pasos:\n",
    "\n",
    "1. Se llama a la función y los argumentos se pasan a la función como entrada.\n",
    "2. La función se ejecuta y se realiza alguna acción con los argumentos.\n",
    "3. La función devuelve un valor y la llamada a la función original se reemplaza con el valor de retorno."
   ]
  },
  {
   "cell_type": "code",
   "execution_count": 9,
   "metadata": {},
   "outputs": [
    {
     "name": "stdout",
     "output_type": "stream",
     "text": [
      "6\n",
      "6\n"
     ]
    }
   ],
   "source": [
    "print(len('cuatro'))\n",
    "num_letras = len('cuatro')\n",
    "print(num_letras)"
   ]
  },
  {
   "cell_type": "markdown",
   "metadata": {},
   "source": [
    "### Cómo escribir nuestras propias funciones\n",
    "Cada función tiene dos partes:\n",
    "\n",
    "1. La declaración de la función define el nombre de la función y las entradas (argumentos) que espera.\n",
    "2. El cuerpo de la función contiene el código que se ejecuta cada vez que se utiliza la función."
   ]
  },
  {
   "cell_type": "code",
   "execution_count": 8,
   "metadata": {},
   "outputs": [],
   "source": [
    "def di_hola(nombre):\n",
    "    # print('Hola Antonio')\n",
    "    return 'Hola ' + nombre\n",
    "\n",
    "# Para poder usar una función tenemos que llamarla"
   ]
  },
  {
   "cell_type": "code",
   "execution_count": 10,
   "metadata": {},
   "outputs": [
    {
     "data": {
      "text/plain": [
       "'Hola Juanete'"
      ]
     },
     "execution_count": 10,
     "metadata": {},
     "output_type": "execute_result"
    }
   ],
   "source": [
    "di_hola('Juanete')"
   ]
  },
  {
   "cell_type": "code",
   "execution_count": 11,
   "metadata": {},
   "outputs": [
    {
     "name": "stdout",
     "output_type": "stream",
     "text": [
      "Hola Ale\n"
     ]
    }
   ],
   "source": [
    "saludo = di_hola('Ale')\n",
    "print(saludo)"
   ]
  },
  {
   "cell_type": "code",
   "execution_count": 6,
   "metadata": {},
   "outputs": [
    {
     "data": {
      "text/plain": [
       "'Hola Alejandro'"
      ]
     },
     "execution_count": 6,
     "metadata": {},
     "output_type": "execute_result"
    }
   ],
   "source": [
    "saludo"
   ]
  },
  {
   "cell_type": "code",
   "execution_count": null,
   "metadata": {},
   "outputs": [],
   "source": []
  }
 ],
 "metadata": {
  "kernelspec": {
   "display_name": "Python 3.10.5 ('venv': venv)",
   "language": "python",
   "name": "python3"
  },
  "language_info": {
   "codemirror_mode": {
    "name": "ipython",
    "version": 3
   },
   "file_extension": ".py",
   "mimetype": "text/x-python",
   "name": "python",
   "nbconvert_exporter": "python",
   "pygments_lexer": "ipython3",
   "version": "3.10.5"
  },
  "orig_nbformat": 4,
  "vscode": {
   "interpreter": {
    "hash": "4a84144fe2cb265f9f8b9cb7eee296bb55be74236409e7953caddf9ce61ef878"
   }
  }
 },
 "nbformat": 4,
 "nbformat_minor": 2
}
