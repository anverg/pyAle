{
 "cells": [
  {
   "cell_type": "markdown",
   "metadata": {},
   "source": [
    "## Iteraciones o bucles (loops)\n",
    "- while loops\n",
    "- for loops"
   ]
  },
  {
   "cell_type": "code",
   "execution_count": 1,
   "metadata": {},
   "outputs": [
    {
     "name": "stdout",
     "output_type": "stream",
     "text": [
      "Levantar peso repetición 1\n",
      "Levantar peso repetición 2\n",
      "Levantar peso repetición 3\n",
      "Levantar peso repetición 4\n",
      "Levantar peso repetición 5\n",
      "Levantar peso repetición 6\n",
      "Levantar peso repetición 7\n",
      "Levantar peso repetición 8\n",
      "Levantar peso repetición 9\n",
      "Levantar peso repetición 10\n"
     ]
    }
   ],
   "source": [
    "print('Levantar peso repetición 1')\n",
    "print('Levantar peso repetición 2')\n",
    "print('Levantar peso repetición 3')\n",
    "print('Levantar peso repetición 4')\n",
    "print('Levantar peso repetición 5')\n",
    "print('Levantar peso repetición 6')\n",
    "print('Levantar peso repetición 7')\n",
    "print('Levantar peso repetición 8')\n",
    "print('Levantar peso repetición 9')\n",
    "print('Levantar peso repetición 10')"
   ]
  },
  {
   "cell_type": "markdown",
   "metadata": {},
   "source": [
    "### while loops\n",
    "Los bucles while repiten una sección de código mientras alguna condición es verdadera. Hay dos partes para cada ciclo while:\n",
    "\n",
    "1. La instrucción while comienza con la palabra clave while, seguida de una condición de prueba y termina con dos puntos (:).\n",
    "2. El cuerpo del bucle contiene el código que se repite en cada paso del bucle. Cada línea tiene cuatro espacios de sangrado.\n",
    "\n",
    "Cuando Python ejecuta un ciclo while, evalúa la condición de prueba y determina si es verdadera o falsa. Si la condición de prueba es verdadera, Python ejecuta el código en el cuerpo del bucle y regresa para verificar la condición de prueba nuevamente. De lo contrario, omite el código en el cuerpo y ejecuta el resto del programa."
   ]
  },
  {
   "cell_type": "code",
   "execution_count": 2,
   "metadata": {},
   "outputs": [
    {
     "name": "stdout",
     "output_type": "stream",
     "text": [
      "1\n",
      "2\n",
      "3\n",
      "4\n"
     ]
    }
   ],
   "source": [
    "n = 1\n",
    "while n < 5:\n",
    "    print(n)\n",
    "    n = n + 1\n",
    "    # n +=1"
   ]
  },
  {
   "cell_type": "code",
   "execution_count": 2,
   "metadata": {},
   "outputs": [],
   "source": [
    "# Hay que tener cuidado con lo while loops porque pueden crear un bucle infinito\n",
    "# n = 1\n",
    "# while n < 5:\n",
    "    # print(n)"
   ]
  },
  {
   "cell_type": "code",
   "execution_count": 5,
   "metadata": {},
   "outputs": [
    {
     "ename": "TypeError",
     "evalue": "can only concatenate str (not \"int\") to str",
     "output_type": "error",
     "traceback": [
      "\u001b[1;31m---------------------------------------------------------------------------\u001b[0m",
      "\u001b[1;31mTypeError\u001b[0m                                 Traceback (most recent call last)",
      "\u001b[1;32mh:\\Mi unidad\\pyAle\\02_loops.ipynb Cell 6'\u001b[0m in \u001b[0;36m<cell line: 4>\u001b[1;34m()\u001b[0m\n\u001b[0;32m      <a href='vscode-notebook-cell:/h%3A/Mi%20unidad/pyAle/02_loops.ipynb#ch0000005?line=2'>3</a>\u001b[0m n \u001b[39m=\u001b[39m \u001b[39m1\u001b[39m\n\u001b[0;32m      <a href='vscode-notebook-cell:/h%3A/Mi%20unidad/pyAle/02_loops.ipynb#ch0000005?line=3'>4</a>\u001b[0m \u001b[39mwhile\u001b[39;00m n \u001b[39m<\u001b[39m \u001b[39m11\u001b[39m:\n\u001b[1;32m----> <a href='vscode-notebook-cell:/h%3A/Mi%20unidad/pyAle/02_loops.ipynb#ch0000005?line=4'>5</a>\u001b[0m     \u001b[39mprint\u001b[39m(\u001b[39m'\u001b[39;49m\u001b[39mLevantar peso repetición \u001b[39;49m\u001b[39m'\u001b[39;49m \u001b[39m+\u001b[39;49m n) \u001b[39m# Error\u001b[39;00m\n\u001b[0;32m      <a href='vscode-notebook-cell:/h%3A/Mi%20unidad/pyAle/02_loops.ipynb#ch0000005?line=5'>6</a>\u001b[0m     \u001b[39mprint\u001b[39m(\u001b[39m'\u001b[39m\u001b[39mLevantar peso repetición \u001b[39m\u001b[39m'\u001b[39m \u001b[39m+\u001b[39m \u001b[39mstr\u001b[39m(n))\n\u001b[0;32m      <a href='vscode-notebook-cell:/h%3A/Mi%20unidad/pyAle/02_loops.ipynb#ch0000005?line=6'>7</a>\u001b[0m     n \u001b[39m+\u001b[39m\u001b[39m=\u001b[39m \u001b[39m1\u001b[39m\n",
      "\u001b[1;31mTypeError\u001b[0m: can only concatenate str (not \"int\") to str"
     ]
    }
   ],
   "source": [
    "# Escribe las repeticiones de peso anteriores on un bucle while\n",
    "\n",
    "n = 1\n",
    "while n < 11:\n",
    "    print('Levantar peso repetición ' + n) # Error\n",
    "    # print('Levantar peso repetición ' + str(n))\n",
    "    n += 1"
   ]
  },
  {
   "cell_type": "markdown",
   "metadata": {},
   "source": [
    "Tipos de datos"
   ]
  },
  {
   "cell_type": "code",
   "execution_count": 7,
   "metadata": {},
   "outputs": [
    {
     "name": "stdout",
     "output_type": "stream",
     "text": [
      "<class 'str'>\n",
      "<class 'int'>\n",
      "<class 'float'>\n"
     ]
    }
   ],
   "source": [
    "print(type('Levantar peso repetición'))\n",
    "print(type(1))\n",
    "print(type(1.0))\n",
    "# más adelante veremos más tipos de datos"
   ]
  },
  {
   "cell_type": "markdown",
   "metadata": {},
   "source": [
    "### for loops\n",
    "Un bucle for ejecuta una sección de código una vez para cada elemento de una colección de elementos. El número de veces que se ejecuta el código está determinado por el número de elementos de la colección.\n",
    "\n",
    "Al igual que el bucle while, el bucle for tiene dos partes principales:\n",
    "\n",
    "1. La instrucción for comienza con la palabra clave for, seguida de una expresión de pertenencia y termina en dos puntos (:).\n",
    "2. El cuerpo del bucle contiene el código que se ejecutará en cada paso del bucle. Cada línea tiene cuatro espacios sangrados."
   ]
  },
  {
   "cell_type": "code",
   "execution_count": null,
   "metadata": {},
   "outputs": [],
   "source": [
    "for i in range(2):\n",
    "    print('hello')\n",
    "\n",
    "# Podemos llamar a i como queramos"
   ]
  },
  {
   "cell_type": "code",
   "execution_count": null,
   "metadata": {},
   "outputs": [],
   "source": [
    "for i in range(2):\n",
    "    print(i)"
   ]
  },
  {
   "cell_type": "code",
   "execution_count": 8,
   "metadata": {},
   "outputs": [
    {
     "name": "stdout",
     "output_type": "stream",
     "text": [
      "Levantar peso repetición 1\n",
      "Levantar peso repetición 2\n",
      "Levantar peso repetición 3\n",
      "Levantar peso repetición 4\n",
      "Levantar peso repetición 5\n",
      "Levantar peso repetición 6\n",
      "Levantar peso repetición 7\n",
      "Levantar peso repetición 8\n",
      "Levantar peso repetición 9\n",
      "Levantar peso repetición 10\n"
     ]
    }
   ],
   "source": [
    "# Cómo escribirías las 10 repeticiones de levantar peso con un for loop\n",
    "for i in range(10):\n",
    "    print('Levantar peso repetición ' + str(i+1))"
   ]
  },
  {
   "cell_type": "code",
   "execution_count": 3,
   "metadata": {},
   "outputs": [
    {
     "name": "stdout",
     "output_type": "stream",
     "text": [
      "P\n",
      "y\n",
      "t\n",
      "h\n",
      "o\n",
      "n\n"
     ]
    }
   ],
   "source": [
    "for i in 'Python':\n",
    "    print(i)"
   ]
  },
  {
   "cell_type": "code",
   "execution_count": 4,
   "metadata": {},
   "outputs": [
    {
     "name": "stdout",
     "output_type": "stream",
     "text": [
      "10 100\n",
      "11 121\n",
      "12 144\n",
      "13 169\n",
      "14 196\n",
      "15 225\n",
      "16 256\n",
      "17 289\n",
      "18 324\n",
      "19 361\n"
     ]
    }
   ],
   "source": [
    "for i in range(10, 20):\n",
    "    print(i, i**2)"
   ]
  },
  {
   "cell_type": "code",
   "execution_count": 5,
   "metadata": {},
   "outputs": [
    {
     "name": "stdout",
     "output_type": "stream",
     "text": [
      "0.5\n",
      "1.0\n",
      "1.5\n",
      "4.0\n"
     ]
    }
   ],
   "source": [
    "for i in [1, 2, 3, 8]:\n",
    "    print(i/2)"
   ]
  },
  {
   "cell_type": "code",
   "execution_count": 8,
   "metadata": {},
   "outputs": [
    {
     "name": "stdout",
     "output_type": "stream",
     "text": [
      "2 personas: tocan a 42.5€\n",
      "3 personas: tocan a 28.33€\n",
      "4 personas: tocan a 21.25€\n",
      "5 personas: tocan a 17.0€\n"
     ]
    }
   ],
   "source": [
    "cantidad = float(input('Introduce una cantidad :'))\n",
    "for num_personas in range(2, 6):\n",
    "    print(f'{num_personas} personas: tocan a {round(cantidad / num_personas, 2)}€')"
   ]
  },
  {
   "cell_type": "code",
   "execution_count": null,
   "metadata": {},
   "outputs": [],
   "source": [
    "# CUADRADO CON FOR LOOP\n",
    "# Ir a 03_myturtle.py"
   ]
  },
  {
   "cell_type": "code",
   "execution_count": 5,
   "metadata": {},
   "outputs": [
    {
     "name": "stdout",
     "output_type": "stream",
     "text": [
      "     \n",
      "    X \n",
      "   X X \n",
      "  X X X \n",
      " X X X X \n"
     ]
    }
   ],
   "source": [
    "T = 5\n",
    "for t in range(T):\n",
    "    print( ' ' * int(T - t ) + 'X ' * t)"
   ]
  },
  {
   "cell_type": "code",
   "execution_count": 7,
   "metadata": {},
   "outputs": [
    {
     "name": "stdout",
     "output_type": "stream",
     "text": [
      "                   X \n",
      "                  X X \n"
     ]
    }
   ],
   "source": [
    "print(' ' * 19 + 'X ' * 1)\n",
    "print(' ' * 18 + 'X ' * 2)"
   ]
  },
  {
   "cell_type": "code",
   "execution_count": 8,
   "metadata": {},
   "outputs": [],
   "source": []
  },
  {
   "cell_type": "code",
   "execution_count": 9,
   "metadata": {},
   "outputs": [
    {
     "name": "stdout",
     "output_type": "stream",
     "text": [
      "1 2 3 4\n"
     ]
    }
   ],
   "source": [
    "print(x, y, z, n)"
   ]
  },
  {
   "cell_type": "code",
   "execution_count": 117,
   "metadata": {},
   "outputs": [
    {
     "name": "stdout",
     "output_type": "stream",
     "text": [
      "1 2 3 4 5 6 7 8\n"
     ]
    }
   ],
   "source": []
  },
  {
   "cell_type": "code",
   "execution_count": 120,
   "metadata": {},
   "outputs": [
    {
     "name": "stdout",
     "output_type": "stream",
     "text": [
      "12345678"
     ]
    }
   ],
   "source": []
  },
  {
   "cell_type": "code",
   "execution_count": 129,
   "metadata": {},
   "outputs": [
    {
     "name": "stdout",
     "output_type": "stream",
     "text": [
      "12345"
     ]
    }
   ],
   "source": []
  },
  {
   "cell_type": "code",
   "execution_count": null,
   "metadata": {},
   "outputs": [],
   "source": []
  }
 ],
 "metadata": {
  "interpreter": {
   "hash": "66f4cf75e3dfd4dc77a88678c38942cd19961f143c116a69a558fe0b7c73d090"
  },
  "kernelspec": {
   "display_name": "Python 3.8.1 ('venv': venv)",
   "language": "python",
   "name": "python3"
  },
  "language_info": {
   "codemirror_mode": {
    "name": "ipython",
    "version": 3
   },
   "file_extension": ".py",
   "mimetype": "text/x-python",
   "name": "python",
   "nbconvert_exporter": "python",
   "pygments_lexer": "ipython3",
   "version": "3.8.1"
  },
  "orig_nbformat": 4
 },
 "nbformat": 4,
 "nbformat_minor": 2
}
