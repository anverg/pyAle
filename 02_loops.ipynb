{
 "cells": [
  {
   "cell_type": "markdown",
   "metadata": {},
   "source": [
    "## Iteraciones o bucles (loops)\n",
    "- while loops\n",
    "- for loops"
   ]
  },
  {
   "cell_type": "code",
   "execution_count": 4,
   "metadata": {},
   "outputs": [
    {
     "name": "stdout",
     "output_type": "stream",
     "text": [
      "Levantar peso repetición 1\n",
      "Levantar peso repetición 2\n",
      "Levantar peso repetición 3\n",
      "Levantar peso repetición 4\n",
      "Levantar peso repetición 5\n",
      "Levantar peso repetición 6\n",
      "Levantar peso repetición 7\n",
      "Levantar peso repetición 8\n",
      "Levantar peso repetición 9\n",
      "Levantar peso repetición 10\n"
     ]
    }
   ],
   "source": [
    "print('Levantar peso repetición 1')\n",
    "print('Levantar peso repetición 2')\n",
    "print('Levantar peso repetición 3')\n",
    "print('Levantar peso repetición 4')\n",
    "print('Levantar peso repetición 5')\n",
    "print('Levantar peso repetición 6')\n",
    "print('Levantar peso repetición 7')\n",
    "print('Levantar peso repetición 8')\n",
    "print('Levantar peso repetición 9')\n",
    "print('Levantar peso repetición 10')"
   ]
  },
  {
   "cell_type": "markdown",
   "metadata": {},
   "source": [
    "### while loops\n",
    "Los bucles while repiten una sección de código mientras alguna condición es verdadera. Hay dos partes para cada ciclo while:\n",
    "\n",
    "1. La instrucción while comienza con la palabra clave while, seguida de una condición de prueba y termina con dos puntos (:).\n",
    "2. El cuerpo del bucle contiene el código que se repite en cada paso del bucle. Cada línea tiene cuatro espacios de sangrado.\n",
    "\n",
    "Cuando Python ejecuta un ciclo while, evalúa la condición de prueba y determina si es verdadera o falsa. Si la condición de prueba es verdadera, Python ejecuta el código en el cuerpo del bucle y regresa para verificar la condición de prueba nuevamente. De lo contrario, omite el código en el cuerpo y ejecuta el resto del programa."
   ]
  },
  {
   "cell_type": "code",
   "execution_count": 7,
   "metadata": {},
   "outputs": [
    {
     "name": "stdout",
     "output_type": "stream",
     "text": [
      "1 1\n",
      "2 3\n",
      "3 6\n",
      "4 10\n",
      "5 15\n"
     ]
    }
   ],
   "source": [
    "n = 1\n",
    "a = n\n",
    "while n <= 5:\n",
    "    print(n, a)\n",
    "    n = n + 1\n",
    "    a = a + n\n",
    "    # n +=1"
   ]
  },
  {
   "cell_type": "code",
   "execution_count": 2,
   "metadata": {},
   "outputs": [],
   "source": [
    "# Hay que tener cuidado con lo while loops porque pueden crear un bucle infinito\n",
    "# n = 1\n",
    "# while n < 5:\n",
    "    # print(n)"
   ]
  },
  {
   "cell_type": "code",
   "execution_count": 5,
   "metadata": {},
   "outputs": [
    {
     "ename": "TypeError",
     "evalue": "can only concatenate str (not \"int\") to str",
     "output_type": "error",
     "traceback": [
      "\u001b[1;31m---------------------------------------------------------------------------\u001b[0m",
      "\u001b[1;31mTypeError\u001b[0m                                 Traceback (most recent call last)",
      "\u001b[1;32mh:\\Mi unidad\\pyAle\\02_loops.ipynb Cell 6'\u001b[0m in \u001b[0;36m<cell line: 4>\u001b[1;34m()\u001b[0m\n\u001b[0;32m      <a href='vscode-notebook-cell:/h%3A/Mi%20unidad/pyAle/02_loops.ipynb#ch0000005?line=2'>3</a>\u001b[0m n \u001b[39m=\u001b[39m \u001b[39m1\u001b[39m\n\u001b[0;32m      <a href='vscode-notebook-cell:/h%3A/Mi%20unidad/pyAle/02_loops.ipynb#ch0000005?line=3'>4</a>\u001b[0m \u001b[39mwhile\u001b[39;00m n \u001b[39m<\u001b[39m \u001b[39m11\u001b[39m:\n\u001b[1;32m----> <a href='vscode-notebook-cell:/h%3A/Mi%20unidad/pyAle/02_loops.ipynb#ch0000005?line=4'>5</a>\u001b[0m     \u001b[39mprint\u001b[39m(\u001b[39m'\u001b[39;49m\u001b[39mLevantar peso repetición \u001b[39;49m\u001b[39m'\u001b[39;49m \u001b[39m+\u001b[39;49m n) \u001b[39m# Error\u001b[39;00m\n\u001b[0;32m      <a href='vscode-notebook-cell:/h%3A/Mi%20unidad/pyAle/02_loops.ipynb#ch0000005?line=5'>6</a>\u001b[0m     \u001b[39mprint\u001b[39m(\u001b[39m'\u001b[39m\u001b[39mLevantar peso repetición \u001b[39m\u001b[39m'\u001b[39m \u001b[39m+\u001b[39m \u001b[39mstr\u001b[39m(n))\n\u001b[0;32m      <a href='vscode-notebook-cell:/h%3A/Mi%20unidad/pyAle/02_loops.ipynb#ch0000005?line=6'>7</a>\u001b[0m     n \u001b[39m+\u001b[39m\u001b[39m=\u001b[39m \u001b[39m1\u001b[39m\n",
      "\u001b[1;31mTypeError\u001b[0m: can only concatenate str (not \"int\") to str"
     ]
    }
   ],
   "source": [
    "# Escribe las repeticiones de peso anteriores con un bucle while\n",
    "\n",
    "n = 1\n",
    "while n < 11:\n",
    "    print('Levantar peso repetición ' + n) # Error\n",
    "    # print('Levantar peso repetición ' + str(n))\n",
    "    n += 1"
   ]
  },
  {
   "cell_type": "markdown",
   "metadata": {},
   "source": [
    "Tipos de datos"
   ]
  },
  {
   "cell_type": "code",
   "execution_count": 7,
   "metadata": {},
   "outputs": [
    {
     "name": "stdout",
     "output_type": "stream",
     "text": [
      "<class 'str'>\n",
      "<class 'int'>\n",
      "<class 'float'>\n"
     ]
    }
   ],
   "source": [
    "print(type('Levantar peso repetición'))\n",
    "print(type(1))\n",
    "print(type(1.0))\n",
    "# más adelante veremos más tipos de datos"
   ]
  },
  {
   "cell_type": "markdown",
   "metadata": {},
   "source": [
    "### for loops\n",
    "Un bucle for ejecuta una sección de código una vez para cada elemento de una colección de elementos. El número de veces que se ejecuta el código está determinado por el número de elementos de la colección.\n",
    "\n",
    "Al igual que el bucle while, el bucle for tiene dos partes principales:\n",
    "\n",
    "1. La instrucción for comienza con la palabra clave for, seguida de una expresión de pertenencia y termina en dos puntos (:).\n",
    "2. El cuerpo del bucle contiene el código que se ejecutará en cada paso del bucle. Cada línea tiene cuatro espacios sangrados."
   ]
  },
  {
   "cell_type": "code",
   "execution_count": 8,
   "metadata": {},
   "outputs": [
    {
     "name": "stdout",
     "output_type": "stream",
     "text": [
      "hello\n",
      "hello\n"
     ]
    }
   ],
   "source": [
    "for i in range(2):\n",
    "    print('hello')\n",
    "\n",
    "# Podemos llamar a i como queramos"
   ]
  },
  {
   "cell_type": "code",
   "execution_count": 11,
   "metadata": {},
   "outputs": [
    {
     "name": "stdout",
     "output_type": "stream",
     "text": [
      "1\n",
      "2\n",
      "3\n",
      "4\n",
      "5\n",
      "6\n",
      "7\n",
      "8\n",
      "9\n",
      "10\n",
      "11\n",
      "12\n",
      "13\n",
      "14\n",
      "15\n",
      "16\n",
      "17\n",
      "18\n",
      "19\n",
      "20\n",
      "21\n",
      "22\n",
      "23\n",
      "24\n",
      "25\n",
      "26\n",
      "27\n",
      "28\n",
      "29\n",
      "30\n",
      "31\n",
      "32\n",
      "33\n",
      "34\n",
      "35\n",
      "36\n",
      "37\n",
      "38\n",
      "39\n",
      "40\n",
      "41\n",
      "42\n",
      "43\n",
      "44\n",
      "45\n",
      "46\n",
      "47\n",
      "48\n",
      "49\n",
      "50\n",
      "51\n",
      "52\n",
      "53\n",
      "54\n",
      "55\n",
      "56\n",
      "57\n",
      "58\n",
      "59\n",
      "60\n",
      "61\n",
      "62\n",
      "63\n",
      "64\n",
      "65\n",
      "66\n",
      "67\n",
      "68\n",
      "69\n",
      "70\n",
      "71\n",
      "72\n",
      "73\n",
      "74\n",
      "75\n",
      "76\n",
      "77\n",
      "78\n",
      "79\n",
      "80\n",
      "81\n",
      "82\n",
      "83\n",
      "84\n",
      "85\n",
      "86\n",
      "87\n",
      "88\n",
      "89\n",
      "90\n",
      "91\n",
      "92\n",
      "93\n",
      "94\n",
      "95\n",
      "96\n",
      "97\n",
      "98\n",
      "99\n",
      "100\n"
     ]
    }
   ],
   "source": [
    "for i in range(100):\n",
    "    print(i+1)"
   ]
  },
  {
   "cell_type": "code",
   "execution_count": 8,
   "metadata": {},
   "outputs": [
    {
     "name": "stdout",
     "output_type": "stream",
     "text": [
      "Levantar peso repetición 1\n",
      "Levantar peso repetición 2\n",
      "Levantar peso repetición 3\n",
      "Levantar peso repetición 4\n",
      "Levantar peso repetición 5\n",
      "Levantar peso repetición 6\n",
      "Levantar peso repetición 7\n",
      "Levantar peso repetición 8\n",
      "Levantar peso repetición 9\n",
      "Levantar peso repetición 10\n"
     ]
    }
   ],
   "source": [
    "# Cómo escribirías las 10 repeticiones de levantar peso con un for loop\n",
    "for i in range(10):\n",
    "    print('Levantar peso repetición ' + str(i+1))"
   ]
  },
  {
   "cell_type": "code",
   "execution_count": 3,
   "metadata": {},
   "outputs": [
    {
     "name": "stdout",
     "output_type": "stream",
     "text": [
      "P\n",
      "y\n",
      "t\n",
      "h\n",
      "o\n",
      "n\n"
     ]
    }
   ],
   "source": [
    "for i in 'Python':\n",
    "    print(i)"
   ]
  },
  {
   "cell_type": "code",
   "execution_count": 4,
   "metadata": {},
   "outputs": [
    {
     "name": "stdout",
     "output_type": "stream",
     "text": [
      "10 100\n",
      "11 121\n",
      "12 144\n",
      "13 169\n",
      "14 196\n",
      "15 225\n",
      "16 256\n",
      "17 289\n",
      "18 324\n",
      "19 361\n"
     ]
    }
   ],
   "source": [
    "for i in range(10, 20):\n",
    "    print(i, i**2)"
   ]
  },
  {
   "cell_type": "code",
   "execution_count": 13,
   "metadata": {},
   "outputs": [
    {
     "name": "stdout",
     "output_type": "stream",
     "text": [
      "1 0.5\n",
      "2 1.0\n",
      "3 1.5\n",
      "8 4.0\n"
     ]
    }
   ],
   "source": [
    "for i in [1, 2, 3, 8]:\n",
    "    print(i, i/2)"
   ]
  },
  {
   "cell_type": "code",
   "execution_count": 8,
   "metadata": {},
   "outputs": [
    {
     "name": "stdout",
     "output_type": "stream",
     "text": [
      "2 personas: tocan a 42.5€\n",
      "3 personas: tocan a 28.33€\n",
      "4 personas: tocan a 21.25€\n",
      "5 personas: tocan a 17.0€\n"
     ]
    }
   ],
   "source": [
    "cantidad = float(input('Introduce una cantidad :'))\n",
    "for num_personas in range(2, 6):\n",
    "    print(f'{num_personas} personas: tocan a {round(cantidad / num_personas, 2)}€')"
   ]
  },
  {
   "cell_type": "code",
   "execution_count": null,
   "metadata": {},
   "outputs": [],
   "source": [
    "# CUADRADO CON FOR LOOP\n",
    "# Ir a 03_myturtle.py"
   ]
  },
  {
   "cell_type": "code",
   "execution_count": 21,
   "metadata": {},
   "outputs": [
    {
     "name": "stdout",
     "output_type": "stream",
     "text": [
      "    X \n",
      "   X X \n",
      "  X X X \n",
      " X X X X \n"
     ]
    }
   ],
   "source": [
    "print(' ' * 4 + 'X ' * 1)\n",
    "print(' ' * 3 + 'X ' * 2)\n",
    "print(' ' * 2 + 'X ' * 3)\n",
    "print(' ' * 1 + 'X ' * 4)"
   ]
  },
  {
   "cell_type": "code",
   "execution_count": 20,
   "metadata": {},
   "outputs": [
    {
     "name": "stdout",
     "output_type": "stream",
     "text": [
      "     X \n",
      "    X X \n",
      "   X X X \n",
      "  X X X X \n",
      " X X X X X \n"
     ]
    }
   ],
   "source": [
    "T = 6\n",
    "for t in range(1, T):\n",
    "    # print(t)\n",
    "    print(' ' * int(T - t ) + 'X ' * t)"
   ]
  },
  {
   "cell_type": "markdown",
   "metadata": {},
   "source": [
    "### Ejercicios\n",
    "- Exercise 1: Write a program to display the first 7 multiples of 7.\n",
    "- Exercise 2: Write a program to print n natural number in descending order using a while loop.\n",
    "- Exercise 3: Write a Python for loop to find the sum of all numbers in the list [12, 3, 56, 67, 89, 90]\n",
    "- Exercise 4: Write a program in Python to display the Factorial of a number."
   ]
  },
  {
   "cell_type": "code",
   "execution_count": 29,
   "metadata": {},
   "outputs": [
    {
     "name": "stdout",
     "output_type": "stream",
     "text": [
      "0 7 14 21 28 35 42 49 "
     ]
    }
   ],
   "source": [
    "# Exercise 1: Write a program to display the first 7 multiples of 7.\n",
    "for i in range(8):\n",
    "    print(7*i, end=' ')"
   ]
  },
  {
   "cell_type": "code",
   "execution_count": 26,
   "metadata": {},
   "outputs": [
    {
     "name": "stdout",
     "output_type": "stream",
     "text": [
      "7 6 5 4 3 2 1 "
     ]
    }
   ],
   "source": [
    "# Exercise 2: Write a program to print n natural number in descending order using a while loop.\n",
    "num = int(input('Introduce un número mayor que 1:'))\n",
    "while num != 0:\n",
    "    print(num, end=' ')\n",
    "    num -= 1"
   ]
  },
  {
   "cell_type": "code",
   "execution_count": 36,
   "metadata": {},
   "outputs": [
    {
     "name": "stdout",
     "output_type": "stream",
     "text": [
      "1 2 3 4 5 6 7 "
     ]
    }
   ],
   "source": [
    "# Si queremos escribir en orden ascendente\n",
    "for i in range(1, num+1):\n",
    "    print(i, end=' ')"
   ]
  },
  {
   "cell_type": "code",
   "execution_count": 34,
   "metadata": {},
   "outputs": [
    {
     "name": "stdout",
     "output_type": "stream",
     "text": [
      "7 6 5 4 3 2 1 "
     ]
    }
   ],
   "source": [
    "num = int(input('Introduce un número mayor que 1:'))\n",
    "for i in range(num, 0, -1):\n",
    "    print(i, end=' ')"
   ]
  },
  {
   "cell_type": "code",
   "execution_count": 30,
   "metadata": {},
   "outputs": [
    {
     "name": "stdout",
     "output_type": "stream",
     "text": [
      "317\n"
     ]
    }
   ],
   "source": [
    "# Exercise 3: Write a Python for loop to find the sum of all numbers in the list [12,3,56,67,89,90]\n",
    "lista = [12,3,56,67,89,90]\n",
    "suma = 0\n",
    "for i in lista:\n",
    "    suma = suma + i\n",
    "\n",
    "print(suma)"
   ]
  },
  {
   "cell_type": "code",
   "execution_count": 1,
   "metadata": {},
   "outputs": [
    {
     "name": "stdout",
     "output_type": "stream",
     "text": [
      "5040\n"
     ]
    }
   ],
   "source": [
    "# Exercise 4: Write a program in Python to display the Factorial of a number.\n",
    "numero = int(input('Introduce un número:'))\n",
    "fact = 1\n",
    "while numero > 0:\n",
    "    fact = fact * numero\n",
    "    numero = numero - 1\n",
    "print(fact)"
   ]
  },
  {
   "cell_type": "code",
   "execution_count": 129,
   "metadata": {},
   "outputs": [
    {
     "name": "stdout",
     "output_type": "stream",
     "text": [
      "12345"
     ]
    }
   ],
   "source": []
  },
  {
   "cell_type": "code",
   "execution_count": 1,
   "metadata": {},
   "outputs": [
    {
     "name": "stdout",
     "output_type": "stream",
     "text": [
      "1\n",
      "2\n",
      "3\n",
      "4\n",
      "5\n",
      "6\n",
      "7\n",
      "8\n",
      "9\n",
      "10\n",
      "11\n",
      "12\n",
      "13\n",
      "14\n",
      "15\n",
      "16\n",
      "17\n",
      "18\n",
      "19\n",
      "20\n",
      "21\n",
      "22\n",
      "23\n",
      "24\n",
      "25\n",
      "26\n",
      "27\n",
      "28\n",
      "29\n",
      "30\n",
      "31\n",
      "32\n",
      "33\n",
      "34\n",
      "35\n",
      "36\n",
      "37\n",
      "38\n",
      "39\n",
      "40\n",
      "41\n",
      "42\n",
      "43\n",
      "44\n",
      "45\n",
      "46\n",
      "47\n",
      "48\n",
      "49\n",
      "50\n",
      "51\n",
      "52\n",
      "53\n",
      "54\n",
      "55\n",
      "56\n",
      "57\n",
      "58\n",
      "59\n",
      "60\n"
     ]
    }
   ],
   "source": [
    "for i in range(1, 61):\n",
    "    print(i)"
   ]
  },
  {
   "cell_type": "code",
   "execution_count": null,
   "metadata": {},
   "outputs": [],
   "source": []
  }
 ],
 "metadata": {
  "kernelspec": {
   "display_name": "Python 3.10.5 ('venv': venv)",
   "language": "python",
   "name": "python3"
  },
  "language_info": {
   "codemirror_mode": {
    "name": "ipython",
    "version": 3
   },
   "file_extension": ".py",
   "mimetype": "text/x-python",
   "name": "python",
   "nbconvert_exporter": "python",
   "pygments_lexer": "ipython3",
   "version": "3.10.5"
  },
  "orig_nbformat": 4,
  "vscode": {
   "interpreter": {
    "hash": "4a84144fe2cb265f9f8b9cb7eee296bb55be74236409e7953caddf9ce61ef878"
   }
  }
 },
 "nbformat": 4,
 "nbformat_minor": 2
}
