{
 "cells": [
  {
   "cell_type": "markdown",
   "metadata": {},
   "source": [
    "1. Definir el rango de los números (por defecto, es 1-100 pero puedes cambiarlo como prefieras) y generar un número entero aleatorio del rango anterior (1-100).\n",
    "2. Iniciar el juego mostrando al usuario un mensaje que dice \"Adivina el número entre el X e Y\" (o un mensaje similar). \n",
    "3. Inicializar una variable a 0 para contar el número total de oportunidades que el usuario ha tenido para adivinar el número correctamente.\n",
    "4. Escribir un bucle infinito.\n",
    "5. Pedir al usuario que adivine el número.\n",
    "6. Si el número adivinado actual es igual al número generado aleatoriamente, felicite al usuario con un mensaje como desee. Un ejemplo sería “-> ¡Hurra! ¡Lo conseguiste en 5 pasos!”.\n",
    "7. Rompe el bucle después de felicitar al usuario.\n",
    "8. Si el número adivinado actual es menor que el número generado aleatoriamente, envíe un mensaje al usuario que diga \"-> Su número es menor que el número aleatorio\" o un mensaje personalizado que tenga el mismo significado.\n",
    "9. Si el número adivinado actual es mayor que el número generado aleatoriamente, envíe un mensaje al usuario que diga \"-> Su número es mayor que el número aleatorio\" o una costumbre con el mismo significado.\n",
    "10. Finalmente, incremente las oportunidades que el usuario ha tomado para adivinar."
   ]
  },
  {
   "cell_type": "code",
   "execution_count": 17,
   "metadata": {},
   "outputs": [],
   "source": [
    "from random import randint"
   ]
  },
  {
   "cell_type": "markdown",
   "metadata": {},
   "source": [
    "##### 1. Obtenemos un número aleatorio que tenemos que adivinar"
   ]
  },
  {
   "cell_type": "code",
   "execution_count": 6,
   "metadata": {},
   "outputs": [],
   "source": [
    "# Aquí, importamos el módulo random y asignamos un número entero aleatorio a una variable usando la función randint(). Luego creamos una variable numérica que contendrá un número aleatorio entre 1 y 100, generado cada vez que lo llamamos.\n",
    "\n",
    "def numberGame(): \n",
    "    #choose a random number between 1 and 100\n",
    "    number = randint(1,100)\n",
    "    return number"
   ]
  },
  {
   "cell_type": "code",
   "execution_count": 7,
   "metadata": {},
   "outputs": [
    {
     "data": {
      "text/plain": [
       "30"
      ]
     },
     "execution_count": 7,
     "metadata": {},
     "output_type": "execute_result"
    }
   ],
   "source": [
    "numberGame()"
   ]
  },
  {
   "cell_type": "markdown",
   "metadata": {},
   "source": [
    "##### 2. El usuario tiene que introducir el número que cree que será el correcto"
   ]
  },
  {
   "cell_type": "markdown",
   "metadata": {},
   "source": [
    "##### CÓMO OBTENER UN DATO DEL USUARIO"
   ]
  },
  {
   "cell_type": "code",
   "execution_count": 8,
   "metadata": {},
   "outputs": [
    {
     "name": "stdout",
     "output_type": "stream",
     "text": [
      "Anto\n"
     ]
    }
   ],
   "source": [
    "name = input('¿Cuál es tu nombre?')\n",
    "print(name)"
   ]
  },
  {
   "cell_type": "markdown",
   "metadata": {},
   "source": [
    "<!-- Podemos crear una función llamada saludar() que usaremos más adelante en nuestro programa: -->"
   ]
  },
  {
   "cell_type": "code",
   "execution_count": 11,
   "metadata": {},
   "outputs": [],
   "source": [
    "# Podemos crear una función llamada saludar() que usaremos más adelante en nuestro programa:\n",
    "\n",
    "def greet():\n",
    "    name = input('¿Cuál es tu nombre?')\n",
    "    print('Hola', name)"
   ]
  },
  {
   "cell_type": "code",
   "execution_count": 12,
   "metadata": {},
   "outputs": [
    {
     "name": "stdout",
     "output_type": "stream",
     "text": [
      "Hola Antonio\n"
     ]
    }
   ],
   "source": [
    "greet()"
   ]
  },
  {
   "cell_type": "markdown",
   "metadata": {},
   "source": [
    "##### Intenta escribir un programa corto que tome el nombre del usuario como entrada, y si ingresa \"Alejandro\", imprima \"¡Ese es mi nombre también!\" y si no que simplemente imprima “Hola” y el nombre."
   ]
  },
  {
   "cell_type": "code",
   "execution_count": 20,
   "metadata": {},
   "outputs": [],
   "source": [
    "# Escribir el programa"
   ]
  },
  {
   "cell_type": "markdown",
   "metadata": {},
   "source": [
    "##### CONVERTIR LA ENTRADA DEL USUARIO EN UN NÚMERO ENTERO\n",
    "Ahora ya sabes cómo trabajar con el texto que ingresa el usuario, pero tomaremos entradas de números en nuestro juego de adivinanzas. Anteriormente aprendimos sobre tipos de datos básicos, como números enteros y flotantes, que puede usar para realizar operaciones matemáticas. En Python, todas las entradas de los usuarios siempre se toman como una cadena. Esto significa que si queremos números como entradas, tenemos que convertirlos a un tipo de datos enteros para poder usarlos en las operaciones."
   ]
  },
  {
   "cell_type": "code",
   "execution_count": 14,
   "metadata": {},
   "outputs": [
    {
     "name": "stdout",
     "output_type": "stream",
     "text": [
      "Estoy pensando en un número entre 1 and 100.\n",
      "8 <class 'str'>\n"
     ]
    }
   ],
   "source": [
    "print(\"Estoy pensando en un número entre 1 and 100.\") \n",
    "guess = input(\"Cuál es tuy apuesta\")\n",
    "\n",
    "print(guess, type(guess))"
   ]
  },
  {
   "cell_type": "code",
   "execution_count": 16,
   "metadata": {},
   "outputs": [
    {
     "name": "stdout",
     "output_type": "stream",
     "text": [
      "85 <class 'int'>\n"
     ]
    }
   ],
   "source": [
    "guess = int(input(\"What's your guess? \"))\n",
    "print(guess, type(guess))\n",
    "\n",
    "# Ahora, lo que sea que ingrese el usuario se transformará en un número entero con el que Python puede operar."
   ]
  },
  {
   "cell_type": "markdown",
   "metadata": {},
   "source": [
    "##### 3. Si el número aleatorio contenido en number es igual a la entrada almacenada en guess, le decimos al usuario que su suposición fue correcta e imprimimos el número aleatorio. De lo contrario, le decimos al usuario si el número que necesita adivinar más alto o más bajo. Si el número elegido por el usuario es menor que el número aleatorio, les decimos que escojan otro más alto. Si es más alto, les decimos que escojan uno más bajo."
   ]
  },
  {
   "cell_type": "code",
   "execution_count": 70,
   "metadata": {},
   "outputs": [],
   "source": [
    "def numberGame():\n",
    "    #choose a random number #between 1 and 100 \n",
    "    number = randint(1,100)\n",
    "    print(\"I'm thinking of a number between 1 and 100.\") \n",
    "    intentos = 0\n",
    "    guess = int(input(\"What's your guess? \"))\n",
    "\n",
    "    if number == guess: \n",
    "        print(\"Correcto! El número es el\", number, 'y lo has adivinado en', intentos, 'intentos')\n",
    "    elif number > guess:\n",
    "        print(\"El número\", guess, \"no es correcto. Es más alto.\")\n",
    "    else:\n",
    "        print(\"El número\", guess, \"no es correcto. Es más bajo.\")\n",
    "            \n"
   ]
  },
  {
   "cell_type": "code",
   "execution_count": 71,
   "metadata": {},
   "outputs": [
    {
     "name": "stdout",
     "output_type": "stream",
     "text": [
      "I'm thinking of a number between 1 and 100.\n",
      "El número 85 no es correcto. Es más bajo.\n"
     ]
    }
   ],
   "source": [
    "numberGame()"
   ]
  },
  {
   "cell_type": "code",
   "execution_count": 18,
   "metadata": {},
   "outputs": [],
   "source": [
    "def numberGame2():\n",
    "    #choose a random number #between 1 and 100 \n",
    "    number = randint(1,100)\n",
    "    print(\"I'm thinking of a number between 1 and 100.\") \n",
    "    guess = int(input(\"What's your guess? \"))\n",
    "\n",
    "    if number == guess: \n",
    "        print(\"That's correct! The number was\", number)\n",
    "    elif number > guess:\n",
    "        print(\"Nope. Higher.\")\n",
    "    else:\n",
    "        print(\"Nope. Lower.\")"
   ]
  },
  {
   "cell_type": "code",
   "execution_count": 19,
   "metadata": {},
   "outputs": [
    {
     "name": "stdout",
     "output_type": "stream",
     "text": [
      "I'm thinking of a number between 1 and 100.\n",
      "Nope. Lower.\n"
     ]
    }
   ],
   "source": [
    "numberGame()"
   ]
  },
  {
   "cell_type": "markdown",
   "metadata": {},
   "source": [
    "##### 4. USAR UN BUCLE INFINITO PARA ADIVINAR OTRA VEZ\n",
    "Para permitir que el usuario vuelva a adivinar, podemos hacer un bucle para que el programa siga pidiendo más intentos hasta que el usuario acierte correctamente (de ahí el nombre de inficito aunque, en realidad, deja de serlo cuando el usuario adivina el número). Usamos el bucle while para seguir repitiendo hasta que la conjetura sea igual al número, y luego el programa imprimirá un mensaje de éxito y saldrá del bucle."
   ]
  },
  {
   "cell_type": "code",
   "execution_count": 74,
   "metadata": {},
   "outputs": [],
   "source": [
    "def numberGame():\n",
    "    # Escogemos un número aleatorio entre 1 y 100 \n",
    "    number = randint(1, 100)\n",
    "    print(\"Adivina el número en el que estoy pensando entre 1 y 100.\") \n",
    "    intentos = 0\n",
    "    continuar = True \n",
    "\n",
    "    while continuar:\n",
    "        guess = int(input(\"Qué número crees que es?\"))\n",
    "        intentos += 1\n",
    "\n",
    "        if number == guess: \n",
    "            print(\"Correcto! El número es el\", number, 'y lo has adivinado en', intentos, 'intentos')\n",
    "            continuar = False\n",
    "        elif number > guess:\n",
    "            print(\"El número\", guess, \"no es correcto. Es más alto.\")\n",
    "        else:\n",
    "            print(\"El número\", guess, \"no es correcto. Es más bajo.\")\n",
    "\n"
   ]
  },
  {
   "cell_type": "code",
   "execution_count": 73,
   "metadata": {},
   "outputs": [
    {
     "name": "stdout",
     "output_type": "stream",
     "text": [
      "I'm thinking of a number between 1 and 100.\n",
      "El número 50 no es correcto. Es más alto.\n",
      "El número 75 no es correcto. Es más bajo.\n",
      "El número 63 no es correcto. Es más bajo.\n",
      "El número 69 no es correcto. Es más bajo.\n",
      "El número 69 no es correcto. Es más bajo.\n",
      "El número 66 no es correcto. Es más bajo.\n",
      "El número 64 no es correcto. Es más bajo.\n",
      "El número 56 no es correcto. Es más alto.\n",
      "El número 59 no es correcto. Es más alto.\n",
      "El número 60 no es correcto. Es más alto.\n",
      "El número 62 no es correcto. Es más bajo.\n",
      "Correcto! El número es el 61 y lo has adivinado en 12 intentos\n"
     ]
    }
   ],
   "source": [
    "numberGame()"
   ]
  },
  {
   "cell_type": "markdown",
   "metadata": {},
   "source": [
    "Cuál crees que es la mejor táctica para adivinar el número en el menor número de intentos?"
   ]
  },
  {
   "cell_type": "code",
   "execution_count": 76,
   "metadata": {},
   "outputs": [
    {
     "name": "stdout",
     "output_type": "stream",
     "text": [
      "7\n"
     ]
    }
   ],
   "source": [
    "# Veamos cuantas veces se puede dividir 100 por la mitad para obtener un número menor que 1\n",
    "resultado = 100\n",
    "count = 0\n",
    "\n",
    "while resultado > 1:\n",
    "    resultado /= 2\n",
    "    count += 1\n",
    "\n",
    "print(count)"
   ]
  },
  {
   "cell_type": "code",
   "execution_count": 87,
   "metadata": {},
   "outputs": [
    {
     "data": {
      "text/plain": [
       "0.78125"
      ]
     },
     "execution_count": 87,
     "metadata": {},
     "output_type": "execute_result"
    }
   ],
   "source": [
    "100 / 2 /2 /2 /2 /2 /2 /2 # 7 divisiones por 2"
   ]
  },
  {
   "cell_type": "markdown",
   "metadata": {},
   "source": [
    "Se necesitan siete veces para llegar a un número menor que 1, por lo que tiene sentido que, en promedio, se necesiten alrededor de seis o siete intentos para adivinar un número entre 1 y 100. Este es el resultado de eliminar la mitad de los números en nuestro rango con cada suposición. Puede que esto no parezca una estrategia útil para otra cosa que no sean juegos de adivinanzas, pero podemos usar exactamente esta idea para encontrar un valor muy preciso para la raíz cuadrada de un número, lo cual haremos a continuación."
   ]
  },
  {
   "cell_type": "markdown",
   "metadata": {},
   "source": [
    "### CALCULAR RAÍCES CUADRADAS\n",
    "\n",
    "Puedes usar la estrategia del juego de adivinar números para aproximar las raíces cuadradas. Como sabes, algunas raíces cuadradas pueden ser números enteros (la raíz cuadrada de 100 es 10, por ejemplo). Pero muchs más son números irracionales, que son interminables, nunca decimales periódicos. Aparecen mucho en geometría de coordenadas cuando tienes que encontrar las raíces de polinomios.\n",
    "Entonces, ¿cómo podríamos usar la estrategia del juego de adivinar números para encontrar un valor exacto para una raíz cuadrada? Simplemente se puede usar la idea de promediar para calcular la raíz cuadrada, con ocho o nueve decimales. De hecho, su calculadora o computadora usa un método iterativo como la estrategia de adivinar números para obtener raíces cuadradas que son correctos hasta 10 decimales!"
   ]
  },
  {
   "cell_type": "markdown",
   "metadata": {},
   "source": [
    "##### APLICACIÓN DE LA LÓGICA DEL JUEGO DE ADIVINAR NÚMEROS \n",
    "\n",
    "Por ejemplo, supongamos que no sabe la raíz cuadrada de 60. Primero, reduce sus opciones a un rango, como hicimos con el juego de adivinanzas. Sabes que 7 al cuadrado es 49 y 8 al cuadrado es 64, por lo que la raíz cuadrada de 60 debe estar entre 7 y 8. Usando la función promedio(), puedes calcular el promedio de 7 y 8 para obtener 7.5, que es tu primera suposición."
   ]
  },
  {
   "cell_type": "markdown",
   "metadata": {},
   "source": [
    "##### "
   ]
  },
  {
   "cell_type": "code",
   "execution_count": 91,
   "metadata": {},
   "outputs": [],
   "source": [
    "def promedio(a, b):\n",
    "    return (a + b) / 2"
   ]
  },
  {
   "cell_type": "code",
   "execution_count": 92,
   "metadata": {},
   "outputs": [
    {
     "data": {
      "text/plain": [
       "7.5"
      ]
     },
     "execution_count": 92,
     "metadata": {},
     "output_type": "execute_result"
    }
   ],
   "source": [
    "promedio(7, 8)"
   ]
  },
  {
   "cell_type": "code",
   "execution_count": 93,
   "metadata": {},
   "outputs": [
    {
     "data": {
      "text/plain": [
       "56.25"
      ]
     },
     "execution_count": 93,
     "metadata": {},
     "output_type": "execute_result"
    }
   ],
   "source": [
    "# Para comprobar si 7,5 es la suposición correcta, podemos elevar al cuadrado 7,5 para ver si da 60:\n",
    "\n",
    "7.5**2"
   ]
  },
  {
   "cell_type": "code",
   "execution_count": 94,
   "metadata": {},
   "outputs": [
    {
     "data": {
      "text/plain": [
       "7.75"
      ]
     },
     "execution_count": 94,
     "metadata": {},
     "output_type": "execute_result"
    }
   ],
   "source": [
    "# En nuestro juego de adivinanzas de números, se nos pedirá que adivinemos más alto ya que 56,25 es menor que 60. Debido a que tenemos que adivinar más alto, sabemos que la raíz cuadrada de 60 tiene que estar entre 7,5 y 8, así que los promediamos y reemplazamos la nueva suposición, así:\n",
    "\n",
    "promedio(7.5, 8)"
   ]
  },
  {
   "cell_type": "code",
   "execution_count": 95,
   "metadata": {},
   "outputs": [
    {
     "data": {
      "text/plain": [
       "60.0625"
      ]
     },
     "execution_count": 95,
     "metadata": {},
     "output_type": "execute_result"
    }
   ],
   "source": [
    "# Ahora comprobamos el cuadrado de 7.75 para ver si es 60\n",
    "7.75**2"
   ]
  },
  {
   "cell_type": "code",
   "execution_count": 96,
   "metadata": {},
   "outputs": [],
   "source": [
    "# Demasiado alto! Así que la raíz cuadrada debe de estar entre 7,5 y 7,75"
   ]
  },
  {
   "cell_type": "markdown",
   "metadata": {},
   "source": [
    "#### ESCRIBIMOS LA FUNCIÓN RAIZCUADRADA()"
   ]
  },
  {
   "cell_type": "markdown",
   "metadata": {},
   "source": [
    "Vamos a escribir la función raizcuadrada() que tendrá 3 argumentos: \n",
    "\n",
    "- num: el número del que queremos lobtener la raíz cuadrada\n",
    "- low: el límite inferior que num puede tener\n",
    "- high: el límite superior que num puede tener\n",
    "\n",
    "Si el número que adivinamos al cuadrado es igual a num, simplemente lo imprimimos y salimos del buble. Esto podría suceder para un número entero, pero no para un número irracional. Recuerda, los números irracionales nunca terminan.\n",
    "\n",
    "A continuación, el programa verifica si el número que adivinamos al cuadrado es mayor que num, en cuyo caso debemos adivinar uno más bajo. Acortamos nuestro rango para pasar de low a suposición reemplazando high con suposición. La única otra posibilidad es si la suposición es demasiado baja, en cuyo caso acortamos nuestro rango para pasar de la suposición a high reemplazando la suposición low con la suposición.\n",
    "\n",
    "El programa sigue repitiendo ese proceso tantas veces como queramos (en este caso vamos a repetirlo 50 veces) y luego imprime la raíz cuadrada aproximada. Ten en cuenta que cualquier decimal, sin importar su longitud, solo puede aproximarse a un número irracional. Pero aún podemos obtener una muy buena aproximación!"
   ]
  },
  {
   "cell_type": "code",
   "execution_count": 125,
   "metadata": {},
   "outputs": [],
   "source": [
    "def raizcuadrada(num, low, high):\n",
    "    '''Encuentra la raíz cuadrada del número por medio de la estrategia del juego de Adivinar el Número, adivinándolo entre el rango de low y high'''\n",
    "    for i in range(50):\n",
    "        guess = promedio(low, high) # obtenemos el promedio de la suposición alta y baja\n",
    "        if guess**2 == num:\n",
    "            return guess \n",
    "            break\n",
    "        elif guess**2 > num: # la suposición es demasiado alta. Bajamos high al promedio\n",
    "            high = guess\n",
    "        else: # la suposición es demasiado baja. Subimos low al promedio\n",
    "            low = guess\n",
    "    return guess"
   ]
  },
  {
   "cell_type": "code",
   "execution_count": 126,
   "metadata": {},
   "outputs": [
    {
     "name": "stdout",
     "output_type": "stream",
     "text": [
      "9.486832980505138 <class 'float'>\n"
     ]
    }
   ],
   "source": [
    "r = raizcuadrada(90, 1, 10)\n",
    "print(r, type(r))"
   ]
  },
  {
   "cell_type": "code",
   "execution_count": 127,
   "metadata": {},
   "outputs": [
    {
     "data": {
      "text/plain": [
       "90.0"
      ]
     },
     "execution_count": 127,
     "metadata": {},
     "output_type": "execute_result"
    }
   ],
   "source": [
    "r**2"
   ]
  },
  {
   "cell_type": "markdown",
   "metadata": {},
   "source": [
    "EJERCICIO: ENCONTRAR LA RAÍZ CUADRADA\n",
    "\n",
    "Encuentra la raíz cuadrada de estos números: \n",
    "- 200, \n",
    "- 1000, \n",
    "- 50000 (Pista: sabes que la raíz cuadrada tiene que estar en algún lugar\n",
    "entre 1 y 500, ¿no?)"
   ]
  },
  {
   "cell_type": "markdown",
   "metadata": {},
   "source": []
  }
 ],
 "metadata": {
  "interpreter": {
   "hash": "66f4cf75e3dfd4dc77a88678c38942cd19961f143c116a69a558fe0b7c73d090"
  },
  "kernelspec": {
   "display_name": "Python 3.8.1 ('venv': venv)",
   "language": "python",
   "name": "python3"
  },
  "language_info": {
   "codemirror_mode": {
    "name": "ipython",
    "version": 3
   },
   "file_extension": ".py",
   "mimetype": "text/x-python",
   "name": "python",
   "nbconvert_exporter": "python",
   "pygments_lexer": "ipython3",
   "version": "3.8.1"
  },
  "orig_nbformat": 4
 },
 "nbformat": 4,
 "nbformat_minor": 2
}
